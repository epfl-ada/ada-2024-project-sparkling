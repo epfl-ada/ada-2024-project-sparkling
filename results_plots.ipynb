{
 "cells": [
  {
   "cell_type": "code",
   "execution_count": 1,
   "metadata": {
    "execution": {
     "iopub.execute_input": "2024-12-13T13:52:32.103247Z",
     "iopub.status.busy": "2024-12-13T13:52:32.103181Z",
     "iopub.status.idle": "2024-12-13T13:52:41.477864Z",
     "shell.execute_reply": "2024-12-13T13:52:41.477488Z",
     "shell.execute_reply.started": "2024-12-13T13:52:32.103236Z"
    },
    "tags": []
   },
   "outputs": [
    {
     "name": "stderr",
     "output_type": "stream",
     "text": [
      "[nltk_data] Downloading package stopwords to\n",
      "[nltk_data]     /Users/guillaumevitalis/nltk_data...\n",
      "[nltk_data]   Package stopwords is already up-to-date!\n",
      "[nltk_data] Downloading package wordnet to\n",
      "[nltk_data]     /Users/guillaumevitalis/nltk_data...\n",
      "[nltk_data]   Package wordnet is already up-to-date!\n",
      "All model checkpoint layers were used when initializing TFRobertaForSequenceClassification.\n",
      "\n",
      "All the layers of TFRobertaForSequenceClassification were initialized from the model checkpoint at j-hartmann/emotion-english-distilroberta-base.\n",
      "If your task is similar to the task the model of the checkpoint was trained on, you can already use TFRobertaForSequenceClassification for predictions without further training.\n"
     ]
    }
   ],
   "source": [
    "import pandas as pd\n",
    "from src.utils.initial_plots_data import plot_movies_over_time_months, plot_movies_over_time_years, plot_pie_genres_proportion, plot_donut_top_countries, show_top_10_words_per_emotion\n",
    "from src.data.load_final_data import load_final_movies_and_reviews\n",
    "from src.data.data_wrangling import load_and_clean_movies_df\n",
    "from src.data.load_data_reviews_kaggle import load_movie_reviews_kaggle\n",
    "from src.data.load_data_non_commercial_imdb import load_imdb_id_wikipedia_id, load_imdb_average_reviews\n",
    "from src.data.normalize_emotions import normalize_total_plot_emotions, normalize_review_emotions\n",
    "from src.scripts.scrap_date import scrap_years_months_movies, get_final_dates, load_scrapped_dates, save_final_dates\n",
    "from src.scripts.scrap_reviews import scrape_reviews\n",
    "from src.models.predict_emotions import predict_emotions_to_tsv, merge_df_with_emotions_tsv, predict_emotions_to_tsv, merge_df_with_emotions_tsv\n",
    "from src.data.merge_genres import *\n",
    "from src.utils.plot_correlations import *\n",
    "from src.utils.initial_plots_data import *\n",
    "from src.utils.plots_month_trends import*\n",
    "from src.utils.plots_genres import*\n",
    "\n",
    "# If you have any problem with NLTK restart your kernel and run this:\n",
    "# import nltk\n",
    "# nltk.download('stopwords')\n",
    "# nltk.download('wordnet')\n",
    "\n",
    "\n",
    "# Make sure that if any dependencies changes it will be reflected in the notebook (From the ML course)\n",
    "%load_ext autoreload\n",
    "%autoreload 2"
   ]
  },
  {
   "cell_type": "markdown",
   "metadata": {},
   "source": [
    "### Scripts to create and process our datasets \n",
    "(We do not recommand running theses functions. We ran some of them for multiple days):\n",
    "\n",
    "Load movie metadata:\n",
    "\n",
    "`df_movies_metadata, df_movies_language, df_movies_countries, df_movies_genres = load_and_clean_movies_df()`\n",
    "\n",
    "Load movie reviews from kaggle:\n",
    "\n",
    "`df_reviews_kaggle = load_movie_reviews_kaggle(df_movies_metadata)`\n",
    "\n",
    "Load mapping IMDB id to wikipedia ID:\n",
    "\n",
    "`df_mapping_imdb_id_wikipedia_id = load_imdb_id_wikipedia_id(df_movies_metadata)`\n",
    "\n",
    "Load movie average reviews from the non-commercial IMDB:\n",
    "\n",
    "`df_imdb_average_reviews = load_imdb_average_reviews(df_mapping_imdb_id_wikipedia_id)`\n",
    "\n",
    "### Predict emotions\n",
    "\n",
    "Compute plot emotions:\n",
    "\n",
    "`predict_emotions_to_tsv(df_movies, column='plot', file_name='plot_emotions.tsv')`\n",
    "\n",
    "Merging df_movies with plot_emotions.tsv:\n",
    "\n",
    "`df_movies_with_emotions = merge_df_with_emotions_tsv(df_movies, file_name='plot_emotions.tsv', prefix='plot')`\n",
    "\n",
    "Compute review emotions:\n",
    "`predict_emotions_to_tsv(df_reviews, column='review_detail', file_name='review_emotions.tsv, is_review=True')`\n",
    "\n",
    "Merging df_reviews with review_emotions.tsv:\n",
    "\n",
    "`df_reviews_with_emotions = merge_df_with_emotions_tsv(df_reviews, file_name='review_emotions.tsv', prefix='review', is_review=True)`\n",
    "\n",
    "### Scrap more years and months:\n",
    "We scrap our years and months data using:\n",
    "\n",
    "`scrap_years_months_movies(df_movies_metadata)`\n",
    "\n",
    "Then we load the resulting csv and combine both data (from both the original dataset and scrapped data):\n",
    "\n",
    "`save_final_dates(get_final_dates(load_scrapped_dates()))`\n",
    "\n",
    "### Scrap more reviews:\n",
    "\n",
    "`scrape_reviews(df_mapping_imdb_id_wikipedia_id)`\n",
    "\n",
    "### Scripts to normalize emotion scores\n",
    "We normalize the plot emotion scores using: \n",
    "\n",
    "`df_movies_with_emotions_normalized = normalize_total_plot_emotions(df_movies_with_emotions, with_neutral=False)`\n",
    "\n",
    "We normalize the review emotion scores using: \n",
    "\n",
    "`df_reviews_with_emotions_normalized = normalize_review_emotions(df_reviews_with_emotions, with_neutral=False)`"
   ]
  },
  {
   "cell_type": "markdown",
   "metadata": {},
   "source": [
    "# Scripts to create and load our final data\n",
    "Note: You need at least the files 'final_movies.csv' and 'final_reviews.csv' and 'movie.metadata.tsv' (More information in the README)"
   ]
  },
  {
   "cell_type": "code",
   "execution_count": 2,
   "metadata": {
    "execution": {
     "iopub.execute_input": "2024-12-13T13:52:41.478584Z",
     "iopub.status.busy": "2024-12-13T13:52:41.478469Z",
     "iopub.status.idle": "2024-12-13T13:53:05.373028Z",
     "shell.execute_reply": "2024-12-13T13:53:05.372324Z",
     "shell.execute_reply.started": "2024-12-13T13:52:41.478570Z"
    },
    "tags": []
   },
   "outputs": [],
   "source": [
    "df_movies, df_language, df_countries, df_genres, df_reviews = load_final_movies_and_reviews()"
   ]
  },
  {
   "cell_type": "code",
   "execution_count": 3,
   "metadata": {
    "execution": {
     "iopub.execute_input": "2024-12-13T13:53:05.375076Z",
     "iopub.status.busy": "2024-12-13T13:53:05.374635Z",
     "iopub.status.idle": "2024-12-13T13:53:07.122389Z",
     "shell.execute_reply": "2024-12-13T13:53:07.121969Z",
     "shell.execute_reply.started": "2024-12-13T13:53:05.375053Z"
    },
    "tags": []
   },
   "outputs": [],
   "source": [
    "df_movies_with_emotions = merge_df_with_emotions_tsv(\n",
    "    df_movies, \n",
    "    file_name='plot_emotions.tsv', \n",
    "    prefix='plot'\n",
    ")"
   ]
  },
  {
   "cell_type": "code",
   "execution_count": 4,
   "metadata": {
    "execution": {
     "iopub.execute_input": "2024-12-13T13:53:07.123232Z",
     "iopub.status.busy": "2024-12-13T13:53:07.123119Z",
     "iopub.status.idle": "2024-12-13T13:53:07.260817Z",
     "shell.execute_reply": "2024-12-13T13:53:07.260451Z",
     "shell.execute_reply.started": "2024-12-13T13:53:07.123219Z"
    },
    "tags": []
   },
   "outputs": [],
   "source": [
    "df_movies_with_emotions_normalized = normalize_total_plot_emotions(\n",
    "    df_movies_with_emotions, \n",
    "    with_neutral=False\n",
    ")"
   ]
  },
  {
   "cell_type": "code",
   "execution_count": 5,
   "metadata": {
    "execution": {
     "iopub.execute_input": "2024-12-13T13:53:07.261426Z",
     "iopub.status.busy": "2024-12-13T13:53:07.261331Z",
     "iopub.status.idle": "2024-12-13T13:53:21.314206Z",
     "shell.execute_reply": "2024-12-13T13:53:21.310940Z",
     "shell.execute_reply.started": "2024-12-13T13:53:07.261415Z"
    },
    "tags": []
   },
   "outputs": [],
   "source": [
    "df_reviews_with_emotions = merge_df_with_emotions_tsv(\n",
    "    df_reviews, \n",
    "    file_name='review_emotions.tsv', \n",
    "    prefix='review', \n",
    "    is_review=True)"
   ]
  },
  {
   "cell_type": "code",
   "execution_count": 6,
   "metadata": {
    "execution": {
     "iopub.execute_input": "2024-12-13T13:53:21.318759Z",
     "iopub.status.busy": "2024-12-13T13:53:21.318547Z",
     "iopub.status.idle": "2024-12-13T13:53:21.688272Z",
     "shell.execute_reply": "2024-12-13T13:53:21.687933Z",
     "shell.execute_reply.started": "2024-12-13T13:53:21.318741Z"
    },
    "tags": []
   },
   "outputs": [],
   "source": [
    "df_reviews_with_emotions_normalized = normalize_review_emotions(\n",
    "    df_reviews_with_emotions, \n",
    "    with_neutral=False)"
   ]
  },
  {
   "cell_type": "code",
   "execution_count": 7,
   "metadata": {
    "execution": {
     "iopub.execute_input": "2024-12-13T13:53:21.691072Z",
     "iopub.status.busy": "2024-12-13T13:53:21.690942Z",
     "iopub.status.idle": "2024-12-13T13:53:22.047644Z",
     "shell.execute_reply": "2024-12-13T13:53:22.047181Z",
     "shell.execute_reply.started": "2024-12-13T13:53:21.691060Z"
    },
    "tags": []
   },
   "outputs": [],
   "source": [
    "df_reviews_with_emotions_normalized=df_reviews_with_emotions_normalized.select_dtypes(exclude=['object'])\n",
    "df_reviews_with_emotions_normalized = df_reviews_with_emotions_normalized.groupby(by='wikipedia_ID').mean()\n",
    "df_reviews_with_emotions_normalized = pd.merge(df_reviews_with_emotions_normalized, df_movies, on='wikipedia_ID', how='inner')"
   ]
  },
  {
   "cell_type": "code",
   "execution_count": 8,
   "metadata": {
    "execution": {
     "iopub.execute_input": "2024-12-13T13:53:22.048423Z",
     "iopub.status.busy": "2024-12-13T13:53:22.048308Z",
     "iopub.status.idle": "2024-12-13T13:53:22.708359Z",
     "shell.execute_reply": "2024-12-13T13:53:22.707828Z",
     "shell.execute_reply.started": "2024-12-13T13:53:22.048409Z"
    },
    "tags": []
   },
   "outputs": [
    {
     "data": {
      "application/vnd.plotly.v1+json": {
       "config": {
        "plotlyServerURL": "https://plot.ly"
       },
       "data": [
        {
         "hovertemplate": "Variation of %{x}: %{y} % <extra></extra>",
         "marker": {
          "color": "#e13c29",
          "size": 10.68999562628691,
          "symbol": "triangle-down"
         },
         "mode": "markers+text",
         "text": [
          "<b><span style='color: red;'>-0.14%</span> 😠</b>"
         ],
         "textposition": "bottom center",
         "type": "scatter",
         "x": [
          "Anger"
         ],
         "xaxis": "x",
         "y": [
          -0.137999125257382
         ],
         "yaxis": "y"
        },
        {
         "hovertemplate": "Variation of %{x}: %{y} % <extra></extra>",
         "marker": {
          "color": "#8bc664",
          "size": 24.622766738522476,
          "symbol": "triangle-up"
         },
         "mode": "markers+text",
         "text": [
          "<b><span style='color: green;'>+2.92%</span> 🤢</b>"
         ],
         "textposition": "top center",
         "type": "scatter",
         "x": [
          "Disgust"
         ],
         "xaxis": "x",
         "y": [
          2.924553347704495
         ],
         "yaxis": "y"
        },
        {
         "hovertemplate": "Variation of %{x}: %{y} % <extra></extra>",
         "marker": {
          "color": "#b99be5",
          "size": 25.053964668720944,
          "symbol": "triangle-down"
         },
         "mode": "markers+text",
         "text": [
          "<b><span style='color: red;'>-3.01%</span> 😨</b>"
         ],
         "textposition": "bottom center",
         "type": "scatter",
         "x": [
          "Fear"
         ],
         "xaxis": "x",
         "y": [
          -3.0107929337441885
         ],
         "yaxis": "y"
        },
        {
         "hovertemplate": "Variation of %{x}: %{y} % <extra></extra>",
         "marker": {
          "color": "#f3c35f",
          "size": 37.195828403898446,
          "symbol": "triangle-up"
         },
         "mode": "markers+text",
         "text": [
          "<b><span style='color: green;'>+5.44%</span> 😊</b>"
         ],
         "textposition": "top center",
         "type": "scatter",
         "x": [
          "Joy"
         ],
         "xaxis": "x",
         "y": [
          5.4391656807796895
         ],
         "yaxis": "y"
        },
        {
         "hovertemplate": "Variation of %{x}: %{y} % <extra></extra>",
         "marker": {
          "color": "#85b8ed",
          "size": 13.382312438410473,
          "symbol": "triangle-down"
         },
         "mode": "markers+text",
         "text": [
          "<b><span style='color: red;'>-0.68%</span> 😢</b>"
         ],
         "textposition": "bottom center",
         "type": "scatter",
         "x": [
          "Sadness"
         ],
         "xaxis": "x",
         "y": [
          -0.6764624876820946
         ],
         "yaxis": "y"
        },
        {
         "hovertemplate": "Variation of %{x}: %{y} % <extra></extra>",
         "marker": {
          "color": "#de9f81",
          "size": 33.58611309379821,
          "symbol": "triangle-down"
         },
         "mode": "markers+text",
         "text": [
          "<b><span style='color: red;'>-4.72%</span> 😲</b>"
         ],
         "textposition": "bottom center",
         "type": "scatter",
         "x": [
          "Surprise"
         ],
         "xaxis": "x",
         "y": [
          -4.717222618759642
         ],
         "yaxis": "y"
        },
        {
         "hovertemplate": "Mean score of %{x}: %{y} <extra></extra>",
         "marker": {
          "color": [
           "#e13c29",
           "#8bc664",
           "#b99be5",
           "#f3c35f",
           "#85b8ed",
           "#de9f81"
          ]
         },
         "name": "Mean score (January)",
         "type": "bar",
         "x": [
          "Anger",
          "Disgust",
          "Fear",
          "Joy",
          "Sadness",
          "Surprise"
         ],
         "xaxis": "x2",
         "y": [
          0.21759156084000525,
          0.19292354590571936,
          0.17683712101147497,
          0.11516435189592333,
          0.21301723997593777,
          0.08446618037093923
         ],
         "yaxis": "y2"
        }
       ],
       "frames": [
        {
         "data": [
          {
           "hovertemplate": "Variation of %{x}: %{y} % <extra></extra>",
           "marker": {
            "color": "#e13c29",
            "size": 10.68999562628691,
            "symbol": "triangle-down"
           },
           "mode": "markers+text",
           "text": [
            "<b><span style='color: red;'>-0.14%</span> 😠</b>"
           ],
           "textposition": "bottom center",
           "type": "scatter",
           "x": [
            "Anger"
           ],
           "y": [
            -0.137999125257382
           ]
          },
          {
           "hovertemplate": "Variation of %{x}: %{y} % <extra></extra>",
           "marker": {
            "color": "#8bc664",
            "size": 24.622766738522476,
            "symbol": "triangle-up"
           },
           "mode": "markers+text",
           "text": [
            "<b><span style='color: green;'>+2.92%</span> 🤢</b>"
           ],
           "textposition": "top center",
           "type": "scatter",
           "x": [
            "Disgust"
           ],
           "y": [
            2.924553347704495
           ]
          },
          {
           "hovertemplate": "Variation of %{x}: %{y} % <extra></extra>",
           "marker": {
            "color": "#b99be5",
            "size": 25.053964668720944,
            "symbol": "triangle-down"
           },
           "mode": "markers+text",
           "text": [
            "<b><span style='color: red;'>-3.01%</span> 😨</b>"
           ],
           "textposition": "bottom center",
           "type": "scatter",
           "x": [
            "Fear"
           ],
           "y": [
            -3.0107929337441885
           ]
          },
          {
           "hovertemplate": "Variation of %{x}: %{y} % <extra></extra>",
           "marker": {
            "color": "#f3c35f",
            "size": 37.195828403898446,
            "symbol": "triangle-up"
           },
           "mode": "markers+text",
           "text": [
            "<b><span style='color: green;'>+5.44%</span> 😊</b>"
           ],
           "textposition": "top center",
           "type": "scatter",
           "x": [
            "Joy"
           ],
           "y": [
            5.4391656807796895
           ]
          },
          {
           "hovertemplate": "Variation of %{x}: %{y} % <extra></extra>",
           "marker": {
            "color": "#85b8ed",
            "size": 13.382312438410473,
            "symbol": "triangle-down"
           },
           "mode": "markers+text",
           "text": [
            "<b><span style='color: red;'>-0.68%</span> 😢</b>"
           ],
           "textposition": "bottom center",
           "type": "scatter",
           "x": [
            "Sadness"
           ],
           "y": [
            -0.6764624876820946
           ]
          },
          {
           "hovertemplate": "Variation of %{x}: %{y} % <extra></extra>",
           "marker": {
            "color": "#de9f81",
            "size": 33.58611309379821,
            "symbol": "triangle-down"
           },
           "mode": "markers+text",
           "text": [
            "<b><span style='color: red;'>-4.72%</span> 😲</b>"
           ],
           "textposition": "bottom center",
           "type": "scatter",
           "x": [
            "Surprise"
           ],
           "y": [
            -4.717222618759642
           ]
          },
          {
           "hovertemplate": "Mean score of %{x}: %{y} <extra></extra>",
           "marker": {
            "color": [
             "#e13c29",
             "#8bc664",
             "#b99be5",
             "#f3c35f",
             "#85b8ed",
             "#de9f81"
            ]
           },
           "name": "Mean score (January)",
           "type": "bar",
           "x": [
            "Anger",
            "Disgust",
            "Fear",
            "Joy",
            "Sadness",
            "Surprise"
           ],
           "y": [
            0.21759156084000525,
            0.19292354590571936,
            0.17683712101147497,
            0.11516435189592333,
            0.21301723997593777,
            0.08446618037093923
           ]
          }
         ],
         "layout": {
          "annotations": [
           {
            "font": {
             "color": "#f3c35f",
             "family": "Arial, sans-serif",
             "size": 18
            },
            "showarrow": false,
            "text": "<b>January : New Year 🎆🎇<br>Significant variation from last month : Joy 😊</b>",
            "x": 0.47,
            "xref": "paper",
            "y": 1.31,
            "yref": "paper"
           },
           {
            "font": {
             "color": "black",
             "family": "Trebuchet MS, sans-serif",
             "size": 14,
             "weight": "bold"
            },
            "showarrow": false,
            "text": "Mean score for each emotion during the current period of the year in plots",
            "x": 0.98,
            "xref": "paper",
            "y": 1.1,
            "yref": "paper"
           },
           {
            "font": {
             "color": "black",
             "family": "Trebuchet MS, sans-serif",
             "size": 14,
             "weight": "bold"
            },
            "showarrow": false,
            "text": "Period-to-period variation of emotions in plots",
            "x": 0,
            "xref": "paper",
            "y": 1.16,
            "yref": "paper"
           },
           {
            "align": "center",
            "font": {
             "color": "black",
             "family": "Trebuchet MS, sans-serif",
             "size": 14,
             "weight": "bold"
            },
            "showarrow": false,
            "text": "Variation trends from Christmas to New Year",
            "x": 0,
            "xref": "paper",
            "y": 1.1,
            "yref": "paper"
           }
          ]
         },
         "name": "January"
        },
        {
         "data": [
          {
           "hovertemplate": "Variation of %{x}: %{y} % <extra></extra>",
           "marker": {
            "color": "#e13c29",
            "size": 21.99186711763217,
            "symbol": "triangle-down"
           },
           "mode": "markers+text",
           "text": [
            "<b><span style='color: red;'>-2.40%</span> 😠</b>"
           ],
           "textposition": "bottom center",
           "type": "scatter",
           "x": [
            "Anger"
           ],
           "y": [
            -2.3983734235264342
           ]
          },
          {
           "hovertemplate": "Variation of %{x}: %{y} % <extra></extra>",
           "marker": {
            "color": "#8bc664",
            "size": 29.484051008678005,
            "symbol": "triangle-up"
           },
           "mode": "markers+text",
           "text": [
            "<b><span style='color: green;'>+3.90%</span> 🤢</b>"
           ],
           "textposition": "top center",
           "type": "scatter",
           "x": [
            "Disgust"
           ],
           "y": [
            3.896810201735601
           ]
          },
          {
           "hovertemplate": "Variation of %{x}: %{y} % <extra></extra>",
           "marker": {
            "color": "#b99be5",
            "size": 26.884540367243016,
            "symbol": "triangle-down"
           },
           "mode": "markers+text",
           "text": [
            "<b><span style='color: red;'>-3.38%</span> 😨</b>"
           ],
           "textposition": "bottom center",
           "type": "scatter",
           "x": [
            "Fear"
           ],
           "y": [
            -3.3769080734486034
           ]
          },
          {
           "hovertemplate": "Variation of %{x}: %{y} % <extra></extra>",
           "marker": {
            "color": "#f3c35f",
            "size": 20.04442079058876,
            "symbol": "triangle-down"
           },
           "mode": "markers+text",
           "text": [
            "<b><span style='color: red;'>-2.01%</span> 😊</b>"
           ],
           "textposition": "bottom center",
           "type": "scatter",
           "x": [
            "Joy"
           ],
           "y": [
            -2.008884158117752
           ]
          },
          {
           "hovertemplate": "Variation of %{x}: %{y} % <extra></extra>",
           "marker": {
            "color": "#85b8ed",
            "size": 28.85738439647888,
            "symbol": "triangle-up"
           },
           "mode": "markers+text",
           "text": [
            "<b><span style='color: green;'>+3.77%</span> 😢</b>"
           ],
           "textposition": "top center",
           "type": "scatter",
           "x": [
            "Sadness"
           ],
           "y": [
            3.7714768792957765
           ]
          },
          {
           "hovertemplate": "Variation of %{x}: %{y} % <extra></extra>",
           "marker": {
            "color": "#de9f81",
            "size": 15.194953126213875,
            "symbol": "triangle-down"
           },
           "mode": "markers+text",
           "text": [
            "<b><span style='color: red;'>-1.04%</span> 😲</b>"
           ],
           "textposition": "bottom center",
           "type": "scatter",
           "x": [
            "Surprise"
           ],
           "y": [
            -1.038990625242775
           ]
          },
          {
           "hovertemplate": "Mean score of %{x}: %{y} <extra></extra>",
           "marker": {
            "color": [
             "#e13c29",
             "#8bc664",
             "#b99be5",
             "#f3c35f",
             "#85b8ed",
             "#de9f81"
            ]
           },
           "name": "Mean score (February)",
           "type": "bar",
           "x": [
            "Anger",
            "Disgust",
            "Fear",
            "Joy",
            "Sadness",
            "Surprise"
           ],
           "y": [
            0.22102597122825657,
            0.18006110628394842,
            0.16940506400867822,
            0.1239068341612723,
            0.22088832687357662,
            0.08471269744426786
           ]
          }
         ],
         "layout": {
          "annotations": [
           {
            "font": {
             "color": "#8bc664",
             "family": "Arial, sans-serif",
             "size": 18
            },
            "showarrow": false,
            "text": "<b>February : Valentine's Day ❤️💖<br>Significant variation from last month : Disgust 🤢</b>",
            "x": 0.47,
            "xref": "paper",
            "y": 1.31,
            "yref": "paper"
           },
           {
            "font": {
             "color": "black",
             "family": "Trebuchet MS, sans-serif",
             "size": 14,
             "weight": "bold"
            },
            "showarrow": false,
            "text": "Mean score for each emotion during the current period of the year in plots",
            "x": 0.98,
            "xref": "paper",
            "y": 1.1,
            "yref": "paper"
           },
           {
            "font": {
             "color": "black",
             "family": "Trebuchet MS, sans-serif",
             "size": 14,
             "weight": "bold"
            },
            "showarrow": false,
            "text": "Period-to-period variation of emotions in plots",
            "x": 0,
            "xref": "paper",
            "y": 1.16,
            "yref": "paper"
           },
           {
            "align": "center",
            "font": {
             "color": "black",
             "family": "Trebuchet MS, sans-serif",
             "size": 14,
             "weight": "bold"
            },
            "showarrow": false,
            "text": "Variation trends from New Year to Valentine's Day",
            "x": 0,
            "xref": "paper",
            "y": 1.1,
            "yref": "paper"
           }
          ]
         },
         "name": "February"
        },
        {
         "data": [
          {
           "hovertemplate": "Variation of %{x}: %{y} % <extra></extra>",
           "marker": {
            "color": "#e13c29",
            "size": 17.525736855658494,
            "symbol": "triangle-up"
           },
           "mode": "markers+text",
           "text": [
            "<b><span style='color: green;'>+1.51%</span> 😠</b>"
           ],
           "textposition": "top center",
           "type": "scatter",
           "x": [
            "Anger"
           ],
           "y": [
            1.5051473711316987
           ]
          },
          {
           "hovertemplate": "Variation of %{x}: %{y} % <extra></extra>",
           "marker": {
            "color": "#8bc664",
            "size": 42.383940674822085,
            "symbol": "triangle-down"
           },
           "mode": "markers+text",
           "text": [
            "<b><span style='color: red;'>-6.48%</span> 🤢</b>"
           ],
           "textposition": "bottom center",
           "type": "scatter",
           "x": [
            "Disgust"
           ],
           "y": [
            -6.476788134964417
           ]
          },
          {
           "hovertemplate": "Variation of %{x}: %{y} % <extra></extra>",
           "marker": {
            "color": "#b99be5",
            "size": 33.132984044060166,
            "symbol": "triangle-down"
           },
           "mode": "markers+text",
           "text": [
            "<b><span style='color: red;'>-4.63%</span> 😨</b>"
           ],
           "textposition": "bottom center",
           "type": "scatter",
           "x": [
            "Fear"
           ],
           "y": [
            -4.6265968088120335
           ]
          },
          {
           "hovertemplate": "Variation of %{x}: %{y} % <extra></extra>",
           "marker": {
            "color": "#f3c35f",
            "size": 33.56325283559413,
            "symbol": "triangle-up"
           },
           "mode": "markers+text",
           "text": [
            "<b><span style='color: green;'>+4.71%</span> 😊</b>"
           ],
           "textposition": "top center",
           "type": "scatter",
           "x": [
            "Joy"
           ],
           "y": [
            4.712650567118826
           ]
          },
          {
           "hovertemplate": "Variation of %{x}: %{y} % <extra></extra>",
           "marker": {
            "color": "#85b8ed",
            "size": 25.197151328464997,
            "symbol": "triangle-up"
           },
           "mode": "markers+text",
           "text": [
            "<b><span style='color: green;'>+3.04%</span> 😢</b>"
           ],
           "textposition": "top center",
           "type": "scatter",
           "x": [
            "Sadness"
           ],
           "y": [
            3.0394302656929995
           ]
          },
          {
           "hovertemplate": "Variation of %{x}: %{y} % <extra></extra>",
           "marker": {
            "color": "#de9f81",
            "size": 45.90479337536712,
            "symbol": "triangle-up"
           },
           "mode": "markers+text",
           "text": [
            "<b><span style='color: green;'>+7.18%</span> 😲</b>"
           ],
           "textposition": "top center",
           "type": "scatter",
           "x": [
            "Surprise"
           ],
           "y": [
            7.180958675073423
           ]
          },
          {
           "hovertemplate": "Mean score of %{x}: %{y} <extra></extra>",
           "marker": {
            "color": [
             "#e13c29",
             "#8bc664",
             "#b99be5",
             "#f3c35f",
             "#85b8ed",
             "#de9f81"
            ]
           },
           "name": "Mean score (March)",
           "type": "bar",
           "x": [
            "Anger",
            "Disgust",
            "Fear",
            "Joy",
            "Sadness",
            "Surprise"
           ],
           "y": [
            0.22772576730461216,
            0.1808096455272762,
            0.17177992215405757,
            0.11770269989934075,
            0.21470577993395093,
            0.08727618518076238
           ]
          }
         ],
         "layout": {
          "annotations": [
           {
            "font": {
             "color": "#de9f81",
             "family": "Arial, sans-serif",
             "size": 18
            },
            "showarrow": false,
            "text": "<b>March : Spring Release 🌸🌼<br>Significant variation from last month : Surprise 😲</b>",
            "x": 0.47,
            "xref": "paper",
            "y": 1.31,
            "yref": "paper"
           },
           {
            "font": {
             "color": "black",
             "family": "Trebuchet MS, sans-serif",
             "size": 14,
             "weight": "bold"
            },
            "showarrow": false,
            "text": "Mean score for each emotion during the current period of the year in plots",
            "x": 0.98,
            "xref": "paper",
            "y": 1.1,
            "yref": "paper"
           },
           {
            "font": {
             "color": "black",
             "family": "Trebuchet MS, sans-serif",
             "size": 14,
             "weight": "bold"
            },
            "showarrow": false,
            "text": "Period-to-period variation of emotions in plots",
            "x": 0,
            "xref": "paper",
            "y": 1.16,
            "yref": "paper"
           },
           {
            "align": "center",
            "font": {
             "color": "black",
             "family": "Trebuchet MS, sans-serif",
             "size": 14,
             "weight": "bold"
            },
            "showarrow": false,
            "text": "Variation trends from Valentine's Day to Spring Release",
            "x": 0,
            "xref": "paper",
            "y": 1.1,
            "yref": "paper"
           }
          ]
         },
         "name": "March"
        },
        {
         "data": [
          {
           "hovertemplate": "Variation of %{x}: %{y} % <extra></extra>",
           "marker": {
            "color": "#e13c29",
            "size": 29.951215685385492,
            "symbol": "triangle-up"
           },
           "mode": "markers+text",
           "text": [
            "<b><span style='color: green;'>+3.99%</span> 😠</b>"
           ],
           "textposition": "top center",
           "type": "scatter",
           "x": [
            "Anger"
           ],
           "y": [
            3.9902431370770985
           ]
          },
          {
           "hovertemplate": "Variation of %{x}: %{y} % <extra></extra>",
           "marker": {
            "color": "#8bc664",
            "size": 25.15893940817803,
            "symbol": "triangle-up"
           },
           "mode": "markers+text",
           "text": [
            "<b><span style='color: green;'>+3.03%</span> 🤢</b>"
           ],
           "textposition": "top center",
           "type": "scatter",
           "x": [
            "Disgust"
           ],
           "y": [
            3.031787881635606
           ]
          },
          {
           "hovertemplate": "Variation of %{x}: %{y} % <extra></extra>",
           "marker": {
            "color": "#b99be5",
            "size": 32.377276626423196,
            "symbol": "triangle-up"
           },
           "mode": "markers+text",
           "text": [
            "<b><span style='color: green;'>+4.48%</span> 😨</b>"
           ],
           "textposition": "top center",
           "type": "scatter",
           "x": [
            "Fear"
           ],
           "y": [
            4.4754553252846385
           ]
          },
          {
           "hovertemplate": "Variation of %{x}: %{y} % <extra></extra>",
           "marker": {
            "color": "#f3c35f",
            "size": 26.793145928225673,
            "symbol": "triangle-down"
           },
           "mode": "markers+text",
           "text": [
            "<b><span style='color: red;'>-3.36%</span> 😊</b>"
           ],
           "textposition": "bottom center",
           "type": "scatter",
           "x": [
            "Joy"
           ],
           "y": [
            -3.3586291856451345
           ]
          },
          {
           "hovertemplate": "Variation of %{x}: %{y} % <extra></extra>",
           "marker": {
            "color": "#85b8ed",
            "size": 35.304937541191954,
            "symbol": "triangle-down"
           },
           "mode": "markers+text",
           "text": [
            "<b><span style='color: red;'>-5.06%</span> 😢</b>"
           ],
           "textposition": "bottom center",
           "type": "scatter",
           "x": [
            "Sadness"
           ],
           "y": [
            -5.060987508238391
           ]
          },
          {
           "hovertemplate": "Variation of %{x}: %{y} % <extra></extra>",
           "marker": {
            "color": "#de9f81",
            "size": 43.82003868649941,
            "symbol": "triangle-down"
           },
           "mode": "markers+text",
           "text": [
            "<b><span style='color: red;'>-6.76%</span> 😲</b>"
           ],
           "textposition": "bottom center",
           "type": "scatter",
           "x": [
            "Surprise"
           ],
           "y": [
            -6.764007737299882
           ]
          },
          {
           "hovertemplate": "Mean score of %{x}: %{y} <extra></extra>",
           "marker": {
            "color": [
             "#e13c29",
             "#8bc664",
             "#b99be5",
             "#f3c35f",
             "#85b8ed",
             "#de9f81"
            ]
           },
           "name": "Mean score (April)",
           "type": "bar",
           "x": [
            "Anger",
            "Disgust",
            "Fear",
            "Joy",
            "Sadness",
            "Surprise"
           ],
           "y": [
            0.22678292481204423,
            0.1789676083187084,
            0.17734275797985966,
            0.12333543546357001,
            0.20889380274402736,
            0.08467747068179035
           ]
          }
         ],
         "layout": {
          "annotations": [
           {
            "font": {
             "color": "#b99be5",
             "family": "Arial, sans-serif",
             "size": 18
            },
            "showarrow": false,
            "text": "<b>April : Easter Break 🐣🥚<br>Significant variation from last month : Fear 😨</b>",
            "x": 0.47,
            "xref": "paper",
            "y": 1.31,
            "yref": "paper"
           },
           {
            "font": {
             "color": "black",
             "family": "Trebuchet MS, sans-serif",
             "size": 14,
             "weight": "bold"
            },
            "showarrow": false,
            "text": "Mean score for each emotion during the current period of the year in plots",
            "x": 0.98,
            "xref": "paper",
            "y": 1.1,
            "yref": "paper"
           },
           {
            "font": {
             "color": "black",
             "family": "Trebuchet MS, sans-serif",
             "size": 14,
             "weight": "bold"
            },
            "showarrow": false,
            "text": "Period-to-period variation of emotions in plots",
            "x": 0,
            "xref": "paper",
            "y": 1.16,
            "yref": "paper"
           },
           {
            "align": "center",
            "font": {
             "color": "black",
             "family": "Trebuchet MS, sans-serif",
             "size": 14,
             "weight": "bold"
            },
            "showarrow": false,
            "text": "Variation trends from Spring Release to Easter Break",
            "x": 0,
            "xref": "paper",
            "y": 1.1,
            "yref": "paper"
           }
          ]
         },
         "name": "April"
        },
        {
         "data": [
          {
           "hovertemplate": "Variation of %{x}: %{y} % <extra></extra>",
           "marker": {
            "color": "#e13c29",
            "size": 25.52777046296616,
            "symbol": "triangle-up"
           },
           "mode": "markers+text",
           "text": [
            "<b><span style='color: green;'>+3.11%</span> 😠</b>"
           ],
           "textposition": "top center",
           "type": "scatter",
           "x": [
            "Anger"
           ],
           "y": [
            3.1055540925932323
           ]
          },
          {
           "hovertemplate": "Variation of %{x}: %{y} % <extra></extra>",
           "marker": {
            "color": "#8bc664",
            "size": 11.05678809690668,
            "symbol": "triangle-up"
           },
           "mode": "markers+text",
           "text": [
            "<b><span style='color: green;'>+0.21%</span> 🤢</b>"
           ],
           "textposition": "top center",
           "type": "scatter",
           "x": [
            "Disgust"
           ],
           "y": [
            0.21135761938133601
           ]
          },
          {
           "hovertemplate": "Variation of %{x}: %{y} % <extra></extra>",
           "marker": {
            "color": "#b99be5",
            "size": 19.262491440917398,
            "symbol": "triangle-up"
           },
           "mode": "markers+text",
           "text": [
            "<b><span style='color: green;'>+1.85%</span> 😨</b>"
           ],
           "textposition": "top center",
           "type": "scatter",
           "x": [
            "Fear"
           ],
           "y": [
            1.8524982881834795
           ]
          },
          {
           "hovertemplate": "Variation of %{x}: %{y} % <extra></extra>",
           "marker": {
            "color": "#f3c35f",
            "size": 21.97821569750157,
            "symbol": "triangle-down"
           },
           "mode": "markers+text",
           "text": [
            "<b><span style='color: red;'>-2.40%</span> 😊</b>"
           ],
           "textposition": "bottom center",
           "type": "scatter",
           "x": [
            "Joy"
           ],
           "y": [
            -2.395643139500314
           ]
          },
          {
           "hovertemplate": "Variation of %{x}: %{y} % <extra></extra>",
           "marker": {
            "color": "#85b8ed",
            "size": 20.90239267623727,
            "symbol": "triangle-down"
           },
           "mode": "markers+text",
           "text": [
            "<b><span style='color: red;'>-2.18%</span> 😢</b>"
           ],
           "textposition": "bottom center",
           "type": "scatter",
           "x": [
            "Sadness"
           ],
           "y": [
            -2.1804785352474543
           ]
          },
          {
           "hovertemplate": "Variation of %{x}: %{y} % <extra></extra>",
           "marker": {
            "color": "#de9f81",
            "size": 27.979768787529828,
            "symbol": "triangle-down"
           },
           "mode": "markers+text",
           "text": [
            "<b><span style='color: red;'>-3.60%</span> 😲</b>"
           ],
           "textposition": "bottom center",
           "type": "scatter",
           "x": [
            "Surprise"
           ],
           "y": [
            -3.5959537575059652
           ]
          },
          {
           "hovertemplate": "Mean score of %{x}: %{y} <extra></extra>",
           "marker": {
            "color": [
             "#e13c29",
             "#8bc664",
             "#b99be5",
             "#f3c35f",
             "#85b8ed",
             "#de9f81"
            ]
           },
           "name": "Mean score (May)",
           "type": "bar",
           "x": [
            "Anger",
            "Disgust",
            "Fear",
            "Joy",
            "Sadness",
            "Surprise"
           ],
           "y": [
            0.22434898446280954,
            0.19333130451957176,
            0.1801130256510855,
            0.11240542500057865,
            0.20837244478188588,
            0.08142881558406867
           ]
          }
         ],
         "layout": {
          "annotations": [
           {
            "font": {
             "color": "#e13c29",
             "family": "Arial, sans-serif",
             "size": 18
            },
            "showarrow": false,
            "text": "<b>May : Pre-Summer Warm-up ☀️🏖️<br>Significant variation from last month : Anger 😠</b>",
            "x": 0.47,
            "xref": "paper",
            "y": 1.31,
            "yref": "paper"
           },
           {
            "font": {
             "color": "black",
             "family": "Trebuchet MS, sans-serif",
             "size": 14,
             "weight": "bold"
            },
            "showarrow": false,
            "text": "Mean score for each emotion during the current period of the year in plots",
            "x": 0.98,
            "xref": "paper",
            "y": 1.1,
            "yref": "paper"
           },
           {
            "font": {
             "color": "black",
             "family": "Trebuchet MS, sans-serif",
             "size": 14,
             "weight": "bold"
            },
            "showarrow": false,
            "text": "Period-to-period variation of emotions in plots",
            "x": 0,
            "xref": "paper",
            "y": 1.16,
            "yref": "paper"
           },
           {
            "align": "center",
            "font": {
             "color": "black",
             "family": "Trebuchet MS, sans-serif",
             "size": 14,
             "weight": "bold"
            },
            "showarrow": false,
            "text": "Variation trends from Easter Break to Pre-Summer Warm-up",
            "x": 0,
            "xref": "paper",
            "y": 1.1,
            "yref": "paper"
           }
          ]
         },
         "name": "May"
        },
        {
         "data": [
          {
           "hovertemplate": "Variation of %{x}: %{y} % <extra></extra>",
           "marker": {
            "color": "#e13c29",
            "size": 17.66440185255668,
            "symbol": "triangle-up"
           },
           "mode": "markers+text",
           "text": [
            "<b><span style='color: green;'>+1.53%</span> 😠</b>"
           ],
           "textposition": "top center",
           "type": "scatter",
           "x": [
            "Anger"
           ],
           "y": [
            1.5328803705113359
           ]
          },
          {
           "hovertemplate": "Variation of %{x}: %{y} % <extra></extra>",
           "marker": {
            "color": "#8bc664",
            "size": 26.85161130278945,
            "symbol": "triangle-down"
           },
           "mode": "markers+text",
           "text": [
            "<b><span style='color: red;'>-3.37%</span> 🤢</b>"
           ],
           "textposition": "bottom center",
           "type": "scatter",
           "x": [
            "Disgust"
           ],
           "y": [
            -3.3703222605578897
           ]
          },
          {
           "hovertemplate": "Variation of %{x}: %{y} % <extra></extra>",
           "marker": {
            "color": "#b99be5",
            "size": 32.171021820370115,
            "symbol": "triangle-up"
           },
           "mode": "markers+text",
           "text": [
            "<b><span style='color: green;'>+4.43%</span> 😨</b>"
           ],
           "textposition": "top center",
           "type": "scatter",
           "x": [
            "Fear"
           ],
           "y": [
            4.434204364074024
           ]
          },
          {
           "hovertemplate": "Variation of %{x}: %{y} % <extra></extra>",
           "marker": {
            "color": "#f3c35f",
            "size": 23.325372084113884,
            "symbol": "triangle-up"
           },
           "mode": "markers+text",
           "text": [
            "<b><span style='color: green;'>+2.67%</span> 😊</b>"
           ],
           "textposition": "top center",
           "type": "scatter",
           "x": [
            "Joy"
           ],
           "y": [
            2.665074416822777
           ]
          },
          {
           "hovertemplate": "Variation of %{x}: %{y} % <extra></extra>",
           "marker": {
            "color": "#85b8ed",
            "size": 28.308263414199498,
            "symbol": "triangle-down"
           },
           "mode": "markers+text",
           "text": [
            "<b><span style='color: red;'>-3.66%</span> 😢</b>"
           ],
           "textposition": "bottom center",
           "type": "scatter",
           "x": [
            "Sadness"
           ],
           "y": [
            -3.6616526828399
           ]
          },
          {
           "hovertemplate": "Variation of %{x}: %{y} % <extra></extra>",
           "marker": {
            "color": "#de9f81",
            "size": 11.65596863044476,
            "symbol": "triangle-down"
           },
           "mode": "markers+text",
           "text": [
            "<b><span style='color: red;'>-0.33%</span> 😲</b>"
           ],
           "textposition": "bottom center",
           "type": "scatter",
           "x": [
            "Surprise"
           ],
           "y": [
            -0.3311937260889519
           ]
          },
          {
           "hovertemplate": "Mean score of %{x}: %{y} <extra></extra>",
           "marker": {
            "color": [
             "#e13c29",
             "#8bc664",
             "#b99be5",
             "#f3c35f",
             "#85b8ed",
             "#de9f81"
            ]
           },
           "name": "Mean score (June/July)",
           "type": "bar",
           "x": [
            "Anger",
            "Disgust",
            "Fear",
            "Joy",
            "Sadness",
            "Surprise"
           ],
           "y": [
            0.2312165308902209,
            0.1747157777948346,
            0.17939699495881575,
            0.12083956444226777,
            0.20684399998278707,
            0.08698713193107392
           ]
          }
         ],
         "layout": {
          "annotations": [
           {
            "font": {
             "color": "#b99be5",
             "family": "Arial, sans-serif",
             "size": 18
            },
            "showarrow": false,
            "text": "<b>June/July : Summer movies 🎥🍿<br>Significant variation from last month : Fear 😨</b>",
            "x": 0.47,
            "xref": "paper",
            "y": 1.31,
            "yref": "paper"
           },
           {
            "font": {
             "color": "black",
             "family": "Trebuchet MS, sans-serif",
             "size": 14,
             "weight": "bold"
            },
            "showarrow": false,
            "text": "Mean score for each emotion during the current period of the year in plots",
            "x": 0.98,
            "xref": "paper",
            "y": 1.1,
            "yref": "paper"
           },
           {
            "font": {
             "color": "black",
             "family": "Trebuchet MS, sans-serif",
             "size": 14,
             "weight": "bold"
            },
            "showarrow": false,
            "text": "Period-to-period variation of emotions in plots",
            "x": 0,
            "xref": "paper",
            "y": 1.16,
            "yref": "paper"
           },
           {
            "align": "center",
            "font": {
             "color": "black",
             "family": "Trebuchet MS, sans-serif",
             "size": 14,
             "weight": "bold"
            },
            "showarrow": false,
            "text": "Variation trends from Pre-Summer Warm-up to Summer movies",
            "x": 0,
            "xref": "paper",
            "y": 1.1,
            "yref": "paper"
           }
          ]
         },
         "name": "June/July"
        },
        {
         "data": [
          {
           "hovertemplate": "Variation of %{x}: %{y} % <extra></extra>",
           "marker": {
            "color": "#e13c29",
            "size": 19.999213897566364,
            "symbol": "triangle-down"
           },
           "mode": "markers+text",
           "text": [
            "<b><span style='color: red;'>-2.00%</span> 😠</b>"
           ],
           "textposition": "bottom center",
           "type": "scatter",
           "x": [
            "Anger"
           ],
           "y": [
            -1.9998427795132723
           ]
          },
          {
           "hovertemplate": "Variation of %{x}: %{y} % <extra></extra>",
           "marker": {
            "color": "#8bc664",
            "size": 37.81880068566589,
            "symbol": "triangle-up"
           },
           "mode": "markers+text",
           "text": [
            "<b><span style='color: green;'>+5.56%</span> 🤢</b>"
           ],
           "textposition": "top center",
           "type": "scatter",
           "x": [
            "Disgust"
           ],
           "y": [
            5.563760137133178
           ]
          },
          {
           "hovertemplate": "Variation of %{x}: %{y} % <extra></extra>",
           "marker": {
            "color": "#b99be5",
            "size": 25.243630145068465,
            "symbol": "triangle-down"
           },
           "mode": "markers+text",
           "text": [
            "<b><span style='color: red;'>-3.05%</span> 😨</b>"
           ],
           "textposition": "bottom center",
           "type": "scatter",
           "x": [
            "Fear"
           ],
           "y": [
            -3.048726029013693
           ]
          },
          {
           "hovertemplate": "Variation of %{x}: %{y} % <extra></extra>",
           "marker": {
            "color": "#f3c35f",
            "size": 32.72031716725937,
            "symbol": "triangle-down"
           },
           "mode": "markers+text",
           "text": [
            "<b><span style='color: red;'>-4.54%</span> 😊</b>"
           ],
           "textposition": "bottom center",
           "type": "scatter",
           "x": [
            "Joy"
           ],
           "y": [
            -4.544063433451873
           ]
          },
          {
           "hovertemplate": "Variation of %{x}: %{y} % <extra></extra>",
           "marker": {
            "color": "#85b8ed",
            "size": 27.16366753481391,
            "symbol": "triangle-up"
           },
           "mode": "markers+text",
           "text": [
            "<b><span style='color: green;'>+3.43%</span> 😢</b>"
           ],
           "textposition": "top center",
           "type": "scatter",
           "x": [
            "Sadness"
           ],
           "y": [
            3.432733506962782
           ]
          },
          {
           "hovertemplate": "Variation of %{x}: %{y} % <extra></extra>",
           "marker": {
            "color": "#de9f81",
            "size": 19.33931306952651,
            "symbol": "triangle-down"
           },
           "mode": "markers+text",
           "text": [
            "<b><span style='color: red;'>-1.87%</span> 😲</b>"
           ],
           "textposition": "bottom center",
           "type": "scatter",
           "x": [
            "Surprise"
           ],
           "y": [
            -1.8678626139053023
           ]
          },
          {
           "hovertemplate": "Mean score of %{x}: %{y} <extra></extra>",
           "marker": {
            "color": [
             "#e13c29",
             "#8bc664",
             "#b99be5",
             "#f3c35f",
             "#85b8ed",
             "#de9f81"
            ]
           },
           "name": "Mean score (August/September)",
           "type": "bar",
           "x": [
            "Anger",
            "Disgust",
            "Fear",
            "Joy",
            "Sadness",
            "Surprise"
           ],
           "y": [
            0.22224762286502156,
            0.18892493676872532,
            0.1719360631567569,
            0.1177309950401813,
            0.21606457030479034,
            0.08309581186452457
           ]
          }
         ],
         "layout": {
          "annotations": [
           {
            "font": {
             "color": "#8bc664",
             "family": "Arial, sans-serif",
             "size": 18
            },
            "showarrow": false,
            "text": "<b>August/September : Fall Releases/Back-to-School 📚🍂<br>Significant variation from last month : Disgust 🤢</b>",
            "x": 0.47,
            "xref": "paper",
            "y": 1.31,
            "yref": "paper"
           },
           {
            "font": {
             "color": "black",
             "family": "Trebuchet MS, sans-serif",
             "size": 14,
             "weight": "bold"
            },
            "showarrow": false,
            "text": "Mean score for each emotion during the current period of the year in plots",
            "x": 0.98,
            "xref": "paper",
            "y": 1.1,
            "yref": "paper"
           },
           {
            "font": {
             "color": "black",
             "family": "Trebuchet MS, sans-serif",
             "size": 14,
             "weight": "bold"
            },
            "showarrow": false,
            "text": "Period-to-period variation of emotions in plots",
            "x": 0,
            "xref": "paper",
            "y": 1.16,
            "yref": "paper"
           },
           {
            "align": "center",
            "font": {
             "color": "black",
             "family": "Trebuchet MS, sans-serif",
             "size": 14,
             "weight": "bold"
            },
            "showarrow": false,
            "text": "Variation trends from Summer movies to Fall Releases/Back-to-School",
            "x": 0,
            "xref": "paper",
            "y": 1.1,
            "yref": "paper"
           }
          ]
         },
         "name": "August/September"
        },
        {
         "data": [
          {
           "hovertemplate": "Variation of %{x}: %{y} % <extra></extra>",
           "marker": {
            "color": "#e13c29",
            "size": 19.798468414502604,
            "symbol": "triangle-down"
           },
           "mode": "markers+text",
           "text": [
            "<b><span style='color: red;'>-1.96%</span> 😠</b>"
           ],
           "textposition": "bottom center",
           "type": "scatter",
           "x": [
            "Anger"
           ],
           "y": [
            -1.9596936829005207
           ]
          },
          {
           "hovertemplate": "Variation of %{x}: %{y} % <extra></extra>",
           "marker": {
            "color": "#8bc664",
            "size": 13.925431394301404,
            "symbol": "triangle-down"
           },
           "mode": "markers+text",
           "text": [
            "<b><span style='color: red;'>-0.79%</span> 🤢</b>"
           ],
           "textposition": "bottom center",
           "type": "scatter",
           "x": [
            "Disgust"
           ],
           "y": [
            -0.7850862788602808
           ]
          },
          {
           "hovertemplate": "Variation of %{x}: %{y} % <extra></extra>",
           "marker": {
            "color": "#b99be5",
            "size": 40.2162733413559,
            "symbol": "triangle-up"
           },
           "mode": "markers+text",
           "text": [
            "<b><span style='color: green;'>+6.04%</span> 😨</b>"
           ],
           "textposition": "top center",
           "type": "scatter",
           "x": [
            "Fear"
           ],
           "y": [
            6.043254668271181
           ]
          },
          {
           "hovertemplate": "Variation of %{x}: %{y} % <extra></extra>",
           "marker": {
            "color": "#f3c35f",
            "size": 46.13105671404426,
            "symbol": "triangle-down"
           },
           "mode": "markers+text",
           "text": [
            "<b><span style='color: red;'>-7.23%</span> 😊</b>"
           ],
           "textposition": "bottom center",
           "type": "scatter",
           "x": [
            "Joy"
           ],
           "y": [
            -7.226211342808853
           ]
          },
          {
           "hovertemplate": "Variation of %{x}: %{y} % <extra></extra>",
           "marker": {
            "color": "#85b8ed",
            "size": 13.694577311862957,
            "symbol": "triangle-down"
           },
           "mode": "markers+text",
           "text": [
            "<b><span style='color: red;'>-0.74%</span> 😢</b>"
           ],
           "textposition": "bottom center",
           "type": "scatter",
           "x": [
            "Sadness"
           ],
           "y": [
            -0.7389154623725913
           ]
          },
          {
           "hovertemplate": "Variation of %{x}: %{y} % <extra></extra>",
           "marker": {
            "color": "#de9f81",
            "size": 43.407744206019,
            "symbol": "triangle-up"
           },
           "mode": "markers+text",
           "text": [
            "<b><span style='color: green;'>+6.68%</span> 😲</b>"
           ],
           "textposition": "top center",
           "type": "scatter",
           "x": [
            "Surprise"
           ],
           "y": [
            6.681548841203799
           ]
          },
          {
           "hovertemplate": "Mean score of %{x}: %{y} <extra></extra>",
           "marker": {
            "color": [
             "#e13c29",
             "#8bc664",
             "#b99be5",
             "#f3c35f",
             "#85b8ed",
             "#de9f81"
            ]
           },
           "name": "Mean score (October)",
           "type": "bar",
           "x": [
            "Anger",
            "Disgust",
            "Fear",
            "Joy",
            "Sadness",
            "Surprise"
           ],
           "y": [
            0.21789225023933917,
            0.1874417130128086,
            0.18232659731991932,
            0.10922350452258599,
            0.21446803578609935,
            0.0886478991192476
           ]
          }
         ],
         "layout": {
          "annotations": [
           {
            "font": {
             "color": "#de9f81",
             "family": "Arial, sans-serif",
             "size": 18
            },
            "showarrow": false,
            "text": "<b>October : Halloween 🎃👻<br>Significant variation from last month : Surprise 😲</b>",
            "x": 0.47,
            "xref": "paper",
            "y": 1.31,
            "yref": "paper"
           },
           {
            "font": {
             "color": "black",
             "family": "Trebuchet MS, sans-serif",
             "size": 14,
             "weight": "bold"
            },
            "showarrow": false,
            "text": "Mean score for each emotion during the current period of the year in plots",
            "x": 0.98,
            "xref": "paper",
            "y": 1.1,
            "yref": "paper"
           },
           {
            "font": {
             "color": "black",
             "family": "Trebuchet MS, sans-serif",
             "size": 14,
             "weight": "bold"
            },
            "showarrow": false,
            "text": "Period-to-period variation of emotions in plots",
            "x": 0,
            "xref": "paper",
            "y": 1.16,
            "yref": "paper"
           },
           {
            "align": "center",
            "font": {
             "color": "black",
             "family": "Trebuchet MS, sans-serif",
             "size": 14,
             "weight": "bold"
            },
            "showarrow": false,
            "text": "Variation trends from Fall Releases/Back-to-School to Halloween",
            "x": 0,
            "xref": "paper",
            "y": 1.1,
            "yref": "paper"
           }
          ]
         },
         "name": "October"
        },
        {
         "data": [
          {
           "hovertemplate": "Variation of %{x}: %{y} % <extra></extra>",
           "marker": {
            "color": "#e13c29",
            "size": 20.29180062472329,
            "symbol": "triangle-down"
           },
           "mode": "markers+text",
           "text": [
            "<b><span style='color: red;'>-2.06%</span> 😠</b>"
           ],
           "textposition": "bottom center",
           "type": "scatter",
           "x": [
            "Anger"
           ],
           "y": [
            -2.058360124944658
           ]
          },
          {
           "hovertemplate": "Variation of %{x}: %{y} % <extra></extra>",
           "marker": {
            "color": "#8bc664",
            "size": 14.029805415528942,
            "symbol": "triangle-down"
           },
           "mode": "markers+text",
           "text": [
            "<b><span style='color: red;'>-0.81%</span> 🤢</b>"
           ],
           "textposition": "bottom center",
           "type": "scatter",
           "x": [
            "Disgust"
           ],
           "y": [
            -0.8059610831057884
           ]
          },
          {
           "hovertemplate": "Variation of %{x}: %{y} % <extra></extra>",
           "marker": {
            "color": "#b99be5",
            "size": 21.34730523232985,
            "symbol": "triangle-down"
           },
           "mode": "markers+text",
           "text": [
            "<b><span style='color: red;'>-2.27%</span> 😨</b>"
           ],
           "textposition": "bottom center",
           "type": "scatter",
           "x": [
            "Fear"
           ],
           "y": [
            -2.2694610464659704
           ]
          },
          {
           "hovertemplate": "Variation of %{x}: %{y} % <extra></extra>",
           "marker": {
            "color": "#f3c35f",
            "size": 33.202018554585706,
            "symbol": "triangle-up"
           },
           "mode": "markers+text",
           "text": [
            "<b><span style='color: green;'>+4.64%</span> 😊</b>"
           ],
           "textposition": "top center",
           "type": "scatter",
           "x": [
            "Joy"
           ],
           "y": [
            4.64040371091714
           ]
          },
          {
           "hovertemplate": "Variation of %{x}: %{y} % <extra></extra>",
           "marker": {
            "color": "#85b8ed",
            "size": 24.543201830779175,
            "symbol": "triangle-up"
           },
           "mode": "markers+text",
           "text": [
            "<b><span style='color: green;'>+2.91%</span> 😢</b>"
           ],
           "textposition": "top center",
           "type": "scatter",
           "x": [
            "Sadness"
           ],
           "y": [
            2.9086403661558347
           ]
          },
          {
           "hovertemplate": "Variation of %{x}: %{y} % <extra></extra>",
           "marker": {
            "color": "#de9f81",
            "size": 17.961158806142954,
            "symbol": "triangle-down"
           },
           "mode": "markers+text",
           "text": [
            "<b><span style='color: red;'>-1.59%</span> 😲</b>"
           ],
           "textposition": "bottom center",
           "type": "scatter",
           "x": [
            "Surprise"
           ],
           "y": [
            -1.5922317612285908
           ]
          },
          {
           "hovertemplate": "Mean score of %{x}: %{y} <extra></extra>",
           "marker": {
            "color": [
             "#e13c29",
             "#8bc664",
             "#b99be5",
             "#f3c35f",
             "#85b8ed",
             "#de9f81"
            ]
           },
           "name": "Mean score (November)",
           "type": "bar",
           "x": [
            "Anger",
            "Disgust",
            "Fear",
            "Joy",
            "Sadness",
            "Surprise"
           ],
           "y": [
            0.22645726201609626,
            0.17330763661976265,
            0.1753256500396949,
            0.1264470080749029,
            0.21286034806125778,
            0.08560209518828554
           ]
          }
         ],
         "layout": {
          "annotations": [
           {
            "font": {
             "color": "#f3c35f",
             "family": "Arial, sans-serif",
             "size": 18
            },
            "showarrow": false,
            "text": "<b>November : Thanksgiving 🦃🍂<br>Significant variation from last month : Joy 😊</b>",
            "x": 0.47,
            "xref": "paper",
            "y": 1.31,
            "yref": "paper"
           },
           {
            "font": {
             "color": "black",
             "family": "Trebuchet MS, sans-serif",
             "size": 14,
             "weight": "bold"
            },
            "showarrow": false,
            "text": "Mean score for each emotion during the current period of the year in plots",
            "x": 0.98,
            "xref": "paper",
            "y": 1.1,
            "yref": "paper"
           },
           {
            "font": {
             "color": "black",
             "family": "Trebuchet MS, sans-serif",
             "size": 14,
             "weight": "bold"
            },
            "showarrow": false,
            "text": "Period-to-period variation of emotions in plots",
            "x": 0,
            "xref": "paper",
            "y": 1.16,
            "yref": "paper"
           },
           {
            "align": "center",
            "font": {
             "color": "black",
             "family": "Trebuchet MS, sans-serif",
             "size": 14,
             "weight": "bold"
            },
            "showarrow": false,
            "text": "Variation trends from Halloween to Thanksgiving",
            "x": 0,
            "xref": "paper",
            "y": 1.1,
            "yref": "paper"
           }
          ]
         },
         "name": "November"
        },
        {
         "data": [
          {
           "hovertemplate": "Variation of %{x}: %{y} % <extra></extra>",
           "marker": {
            "color": "#e13c29",
            "size": 16.662129123231892,
            "symbol": "triangle-down"
           },
           "mode": "markers+text",
           "text": [
            "<b><span style='color: red;'>-1.33%</span> 😠</b>"
           ],
           "textposition": "bottom center",
           "type": "scatter",
           "x": [
            "Anger"
           ],
           "y": [
            -1.332425824646378
           ]
          },
          {
           "hovertemplate": "Variation of %{x}: %{y} % <extra></extra>",
           "marker": {
            "color": "#8bc664",
            "size": 27.659989517301483,
            "symbol": "triangle-down"
           },
           "mode": "markers+text",
           "text": [
            "<b><span style='color: red;'>-3.53%</span> 🤢</b>"
           ],
           "textposition": "bottom center",
           "type": "scatter",
           "x": [
            "Disgust"
           ],
           "y": [
            -3.531997903460297
           ]
          },
          {
           "hovertemplate": "Variation of %{x}: %{y} % <extra></extra>",
           "marker": {
            "color": "#b99be5",
            "size": 11.005855210105436,
            "symbol": "triangle-up"
           },
           "mode": "markers+text",
           "text": [
            "<b><span style='color: green;'>+0.20%</span> 😨</b>"
           ],
           "textposition": "top center",
           "type": "scatter",
           "x": [
            "Fear"
           ],
           "y": [
            0.20117104202108713
           ]
          },
          {
           "hovertemplate": "Variation of %{x}: %{y} % <extra></extra>",
           "marker": {
            "color": "#f3c35f",
            "size": 24.990874400871448,
            "symbol": "triangle-up"
           },
           "mode": "markers+text",
           "text": [
            "<b><span style='color: green;'>+3.00%</span> 😊</b>"
           ],
           "textposition": "top center",
           "type": "scatter",
           "x": [
            "Joy"
           ],
           "y": [
            2.99817488017429
           ]
          },
          {
           "hovertemplate": "Variation of %{x}: %{y} % <extra></extra>",
           "marker": {
            "color": "#85b8ed",
            "size": 11.944105251289443,
            "symbol": "triangle-down"
           },
           "mode": "markers+text",
           "text": [
            "<b><span style='color: red;'>-0.39%</span> 😢</b>"
           ],
           "textposition": "bottom center",
           "type": "scatter",
           "x": [
            "Sadness"
           ],
           "y": [
            -0.38882105025788855
           ]
          },
          {
           "hovertemplate": "Variation of %{x}: %{y} % <extra></extra>",
           "marker": {
            "color": "#de9f81",
            "size": 46.05058395193502,
            "symbol": "triangle-up"
           },
           "mode": "markers+text",
           "text": [
            "<b><span style='color: green;'>+7.21%</span> 😲</b>"
           ],
           "textposition": "top center",
           "type": "scatter",
           "x": [
            "Surprise"
           ],
           "y": [
            7.210116790387004
           ]
          },
          {
           "hovertemplate": "Mean score of %{x}: %{y} <extra></extra>",
           "marker": {
            "color": [
             "#e13c29",
             "#8bc664",
             "#b99be5",
             "#f3c35f",
             "#85b8ed",
             "#de9f81"
            ]
           },
           "name": "Mean score (December)",
           "type": "bar",
           "x": [
            "Anger",
            "Disgust",
            "Fear",
            "Joy",
            "Sadness",
            "Surprise"
           ],
           "y": [
            0.2180809641084358,
            0.17370135178505194,
            0.16974585794118097,
            0.12762177773791478,
            0.2200294665611297,
            0.09082058186628676
           ]
          }
         ],
         "layout": {
          "annotations": [
           {
            "font": {
             "color": "#de9f81",
             "family": "Arial, sans-serif",
             "size": 18
            },
            "showarrow": false,
            "text": "<b>December : Christmas 🎄🎅<br>Significant variation from last month : Surprise 😲</b>",
            "x": 0.47,
            "xref": "paper",
            "y": 1.31,
            "yref": "paper"
           },
           {
            "font": {
             "color": "black",
             "family": "Trebuchet MS, sans-serif",
             "size": 14,
             "weight": "bold"
            },
            "showarrow": false,
            "text": "Mean score for each emotion during the current period of the year in plots",
            "x": 0.98,
            "xref": "paper",
            "y": 1.1,
            "yref": "paper"
           },
           {
            "font": {
             "color": "black",
             "family": "Trebuchet MS, sans-serif",
             "size": 14,
             "weight": "bold"
            },
            "showarrow": false,
            "text": "Period-to-period variation of emotions in plots",
            "x": 0,
            "xref": "paper",
            "y": 1.16,
            "yref": "paper"
           },
           {
            "align": "center",
            "font": {
             "color": "black",
             "family": "Trebuchet MS, sans-serif",
             "size": 14,
             "weight": "bold"
            },
            "showarrow": false,
            "text": "Variation trends from Thanksgiving to Christmas",
            "x": 0,
            "xref": "paper",
            "y": 1.1,
            "yref": "paper"
           }
          ]
         },
         "name": "December"
        }
       ],
       "layout": {
        "annotations": [
         {
          "font": {
           "color": "#f3c35f",
           "family": "Arial, sans-serif",
           "size": 18
          },
          "showarrow": false,
          "text": "<b>January : New Year 🎆🎇<br>Significant variation from last month : Joy 😊</b>",
          "x": 0.47,
          "xref": "paper",
          "y": 1.31,
          "yref": "paper"
         },
         {
          "font": {
           "color": "black",
           "family": "Trebuchet MS, sans-serif",
           "size": 14,
           "weight": "bold"
          },
          "showarrow": false,
          "text": "Mean score for each emotion during the current period of the year in plots",
          "x": 0.98,
          "xref": "paper",
          "y": 1.1,
          "yref": "paper"
         },
         {
          "font": {
           "color": "black",
           "family": "Trebuchet MS, sans-serif",
           "size": 14,
           "weight": "bold"
          },
          "showarrow": false,
          "text": "Period-to-period variation of emotions in plots",
          "x": 0,
          "xref": "paper",
          "y": 1.16,
          "yref": "paper"
         },
         {
          "align": "center",
          "font": {
           "color": "black",
           "family": "Trebuchet MS, sans-serif",
           "size": 14,
           "weight": "bold"
          },
          "showarrow": false,
          "text": "Variation trends from Christmas to New Year",
          "x": 0,
          "xref": "paper",
          "y": 1.1,
          "yref": "paper"
         }
        ],
        "autosize": true,
        "height": 600,
        "margin": {
         "b": 50,
         "l": 50,
         "r": 50,
         "t": 150
        },
        "showlegend": false,
        "sliders": [
         {
          "active": 0,
          "currentvalue": {
           "font": {
            "color": "black",
            "size": 15
           },
           "prefix": "Month: "
          },
          "steps": [
           {
            "args": [
             [
              "January"
             ],
             {
              "frame": {
               "duration": 0,
               "redraw": true
              },
              "mode": "immediate"
             }
            ],
            "label": "January",
            "method": "animate"
           },
           {
            "args": [
             [
              "February"
             ],
             {
              "frame": {
               "duration": 0,
               "redraw": true
              },
              "mode": "immediate"
             }
            ],
            "label": "February",
            "method": "animate"
           },
           {
            "args": [
             [
              "March"
             ],
             {
              "frame": {
               "duration": 0,
               "redraw": true
              },
              "mode": "immediate"
             }
            ],
            "label": "March",
            "method": "animate"
           },
           {
            "args": [
             [
              "April"
             ],
             {
              "frame": {
               "duration": 0,
               "redraw": true
              },
              "mode": "immediate"
             }
            ],
            "label": "April",
            "method": "animate"
           },
           {
            "args": [
             [
              "May"
             ],
             {
              "frame": {
               "duration": 0,
               "redraw": true
              },
              "mode": "immediate"
             }
            ],
            "label": "May",
            "method": "animate"
           },
           {
            "args": [
             [
              "June/July"
             ],
             {
              "frame": {
               "duration": 0,
               "redraw": true
              },
              "mode": "immediate"
             }
            ],
            "label": "June/July",
            "method": "animate"
           },
           {
            "args": [
             [
              "August/September"
             ],
             {
              "frame": {
               "duration": 0,
               "redraw": true
              },
              "mode": "immediate"
             }
            ],
            "label": "August/September",
            "method": "animate"
           },
           {
            "args": [
             [
              "October"
             ],
             {
              "frame": {
               "duration": 0,
               "redraw": true
              },
              "mode": "immediate"
             }
            ],
            "label": "October",
            "method": "animate"
           },
           {
            "args": [
             [
              "November"
             ],
             {
              "frame": {
               "duration": 0,
               "redraw": true
              },
              "mode": "immediate"
             }
            ],
            "label": "November",
            "method": "animate"
           },
           {
            "args": [
             [
              "December"
             ],
             {
              "frame": {
               "duration": 0,
               "redraw": true
              },
              "mode": "immediate"
             }
            ],
            "label": "December",
            "method": "animate"
           }
          ]
         }
        ],
        "template": {
         "data": {
          "bar": [
           {
            "error_x": {
             "color": "#2a3f5f"
            },
            "error_y": {
             "color": "#2a3f5f"
            },
            "marker": {
             "line": {
              "color": "white",
              "width": 0.5
             },
             "pattern": {
              "fillmode": "overlay",
              "size": 10,
              "solidity": 0.2
             }
            },
            "type": "bar"
           }
          ],
          "barpolar": [
           {
            "marker": {
             "line": {
              "color": "white",
              "width": 0.5
             },
             "pattern": {
              "fillmode": "overlay",
              "size": 10,
              "solidity": 0.2
             }
            },
            "type": "barpolar"
           }
          ],
          "carpet": [
           {
            "aaxis": {
             "endlinecolor": "#2a3f5f",
             "gridcolor": "#C8D4E3",
             "linecolor": "#C8D4E3",
             "minorgridcolor": "#C8D4E3",
             "startlinecolor": "#2a3f5f"
            },
            "baxis": {
             "endlinecolor": "#2a3f5f",
             "gridcolor": "#C8D4E3",
             "linecolor": "#C8D4E3",
             "minorgridcolor": "#C8D4E3",
             "startlinecolor": "#2a3f5f"
            },
            "type": "carpet"
           }
          ],
          "choropleth": [
           {
            "colorbar": {
             "outlinewidth": 0,
             "ticks": ""
            },
            "type": "choropleth"
           }
          ],
          "contour": [
           {
            "colorbar": {
             "outlinewidth": 0,
             "ticks": ""
            },
            "colorscale": [
             [
              0,
              "#0d0887"
             ],
             [
              0.1111111111111111,
              "#46039f"
             ],
             [
              0.2222222222222222,
              "#7201a8"
             ],
             [
              0.3333333333333333,
              "#9c179e"
             ],
             [
              0.4444444444444444,
              "#bd3786"
             ],
             [
              0.5555555555555556,
              "#d8576b"
             ],
             [
              0.6666666666666666,
              "#ed7953"
             ],
             [
              0.7777777777777778,
              "#fb9f3a"
             ],
             [
              0.8888888888888888,
              "#fdca26"
             ],
             [
              1,
              "#f0f921"
             ]
            ],
            "type": "contour"
           }
          ],
          "contourcarpet": [
           {
            "colorbar": {
             "outlinewidth": 0,
             "ticks": ""
            },
            "type": "contourcarpet"
           }
          ],
          "heatmap": [
           {
            "colorbar": {
             "outlinewidth": 0,
             "ticks": ""
            },
            "colorscale": [
             [
              0,
              "#0d0887"
             ],
             [
              0.1111111111111111,
              "#46039f"
             ],
             [
              0.2222222222222222,
              "#7201a8"
             ],
             [
              0.3333333333333333,
              "#9c179e"
             ],
             [
              0.4444444444444444,
              "#bd3786"
             ],
             [
              0.5555555555555556,
              "#d8576b"
             ],
             [
              0.6666666666666666,
              "#ed7953"
             ],
             [
              0.7777777777777778,
              "#fb9f3a"
             ],
             [
              0.8888888888888888,
              "#fdca26"
             ],
             [
              1,
              "#f0f921"
             ]
            ],
            "type": "heatmap"
           }
          ],
          "heatmapgl": [
           {
            "colorbar": {
             "outlinewidth": 0,
             "ticks": ""
            },
            "colorscale": [
             [
              0,
              "#0d0887"
             ],
             [
              0.1111111111111111,
              "#46039f"
             ],
             [
              0.2222222222222222,
              "#7201a8"
             ],
             [
              0.3333333333333333,
              "#9c179e"
             ],
             [
              0.4444444444444444,
              "#bd3786"
             ],
             [
              0.5555555555555556,
              "#d8576b"
             ],
             [
              0.6666666666666666,
              "#ed7953"
             ],
             [
              0.7777777777777778,
              "#fb9f3a"
             ],
             [
              0.8888888888888888,
              "#fdca26"
             ],
             [
              1,
              "#f0f921"
             ]
            ],
            "type": "heatmapgl"
           }
          ],
          "histogram": [
           {
            "marker": {
             "pattern": {
              "fillmode": "overlay",
              "size": 10,
              "solidity": 0.2
             }
            },
            "type": "histogram"
           }
          ],
          "histogram2d": [
           {
            "colorbar": {
             "outlinewidth": 0,
             "ticks": ""
            },
            "colorscale": [
             [
              0,
              "#0d0887"
             ],
             [
              0.1111111111111111,
              "#46039f"
             ],
             [
              0.2222222222222222,
              "#7201a8"
             ],
             [
              0.3333333333333333,
              "#9c179e"
             ],
             [
              0.4444444444444444,
              "#bd3786"
             ],
             [
              0.5555555555555556,
              "#d8576b"
             ],
             [
              0.6666666666666666,
              "#ed7953"
             ],
             [
              0.7777777777777778,
              "#fb9f3a"
             ],
             [
              0.8888888888888888,
              "#fdca26"
             ],
             [
              1,
              "#f0f921"
             ]
            ],
            "type": "histogram2d"
           }
          ],
          "histogram2dcontour": [
           {
            "colorbar": {
             "outlinewidth": 0,
             "ticks": ""
            },
            "colorscale": [
             [
              0,
              "#0d0887"
             ],
             [
              0.1111111111111111,
              "#46039f"
             ],
             [
              0.2222222222222222,
              "#7201a8"
             ],
             [
              0.3333333333333333,
              "#9c179e"
             ],
             [
              0.4444444444444444,
              "#bd3786"
             ],
             [
              0.5555555555555556,
              "#d8576b"
             ],
             [
              0.6666666666666666,
              "#ed7953"
             ],
             [
              0.7777777777777778,
              "#fb9f3a"
             ],
             [
              0.8888888888888888,
              "#fdca26"
             ],
             [
              1,
              "#f0f921"
             ]
            ],
            "type": "histogram2dcontour"
           }
          ],
          "mesh3d": [
           {
            "colorbar": {
             "outlinewidth": 0,
             "ticks": ""
            },
            "type": "mesh3d"
           }
          ],
          "parcoords": [
           {
            "line": {
             "colorbar": {
              "outlinewidth": 0,
              "ticks": ""
             }
            },
            "type": "parcoords"
           }
          ],
          "pie": [
           {
            "automargin": true,
            "type": "pie"
           }
          ],
          "scatter": [
           {
            "fillpattern": {
             "fillmode": "overlay",
             "size": 10,
             "solidity": 0.2
            },
            "type": "scatter"
           }
          ],
          "scatter3d": [
           {
            "line": {
             "colorbar": {
              "outlinewidth": 0,
              "ticks": ""
             }
            },
            "marker": {
             "colorbar": {
              "outlinewidth": 0,
              "ticks": ""
             }
            },
            "type": "scatter3d"
           }
          ],
          "scattercarpet": [
           {
            "marker": {
             "colorbar": {
              "outlinewidth": 0,
              "ticks": ""
             }
            },
            "type": "scattercarpet"
           }
          ],
          "scattergeo": [
           {
            "marker": {
             "colorbar": {
              "outlinewidth": 0,
              "ticks": ""
             }
            },
            "type": "scattergeo"
           }
          ],
          "scattergl": [
           {
            "marker": {
             "colorbar": {
              "outlinewidth": 0,
              "ticks": ""
             }
            },
            "type": "scattergl"
           }
          ],
          "scattermapbox": [
           {
            "marker": {
             "colorbar": {
              "outlinewidth": 0,
              "ticks": ""
             }
            },
            "type": "scattermapbox"
           }
          ],
          "scatterpolar": [
           {
            "marker": {
             "colorbar": {
              "outlinewidth": 0,
              "ticks": ""
             }
            },
            "type": "scatterpolar"
           }
          ],
          "scatterpolargl": [
           {
            "marker": {
             "colorbar": {
              "outlinewidth": 0,
              "ticks": ""
             }
            },
            "type": "scatterpolargl"
           }
          ],
          "scatterternary": [
           {
            "marker": {
             "colorbar": {
              "outlinewidth": 0,
              "ticks": ""
             }
            },
            "type": "scatterternary"
           }
          ],
          "surface": [
           {
            "colorbar": {
             "outlinewidth": 0,
             "ticks": ""
            },
            "colorscale": [
             [
              0,
              "#0d0887"
             ],
             [
              0.1111111111111111,
              "#46039f"
             ],
             [
              0.2222222222222222,
              "#7201a8"
             ],
             [
              0.3333333333333333,
              "#9c179e"
             ],
             [
              0.4444444444444444,
              "#bd3786"
             ],
             [
              0.5555555555555556,
              "#d8576b"
             ],
             [
              0.6666666666666666,
              "#ed7953"
             ],
             [
              0.7777777777777778,
              "#fb9f3a"
             ],
             [
              0.8888888888888888,
              "#fdca26"
             ],
             [
              1,
              "#f0f921"
             ]
            ],
            "type": "surface"
           }
          ],
          "table": [
           {
            "cells": {
             "fill": {
              "color": "#EBF0F8"
             },
             "line": {
              "color": "white"
             }
            },
            "header": {
             "fill": {
              "color": "#C8D4E3"
             },
             "line": {
              "color": "white"
             }
            },
            "type": "table"
           }
          ]
         },
         "layout": {
          "annotationdefaults": {
           "arrowcolor": "#2a3f5f",
           "arrowhead": 0,
           "arrowwidth": 1
          },
          "autotypenumbers": "strict",
          "coloraxis": {
           "colorbar": {
            "outlinewidth": 0,
            "ticks": ""
           }
          },
          "colorscale": {
           "diverging": [
            [
             0,
             "#8e0152"
            ],
            [
             0.1,
             "#c51b7d"
            ],
            [
             0.2,
             "#de77ae"
            ],
            [
             0.3,
             "#f1b6da"
            ],
            [
             0.4,
             "#fde0ef"
            ],
            [
             0.5,
             "#f7f7f7"
            ],
            [
             0.6,
             "#e6f5d0"
            ],
            [
             0.7,
             "#b8e186"
            ],
            [
             0.8,
             "#7fbc41"
            ],
            [
             0.9,
             "#4d9221"
            ],
            [
             1,
             "#276419"
            ]
           ],
           "sequential": [
            [
             0,
             "#0d0887"
            ],
            [
             0.1111111111111111,
             "#46039f"
            ],
            [
             0.2222222222222222,
             "#7201a8"
            ],
            [
             0.3333333333333333,
             "#9c179e"
            ],
            [
             0.4444444444444444,
             "#bd3786"
            ],
            [
             0.5555555555555556,
             "#d8576b"
            ],
            [
             0.6666666666666666,
             "#ed7953"
            ],
            [
             0.7777777777777778,
             "#fb9f3a"
            ],
            [
             0.8888888888888888,
             "#fdca26"
            ],
            [
             1,
             "#f0f921"
            ]
           ],
           "sequentialminus": [
            [
             0,
             "#0d0887"
            ],
            [
             0.1111111111111111,
             "#46039f"
            ],
            [
             0.2222222222222222,
             "#7201a8"
            ],
            [
             0.3333333333333333,
             "#9c179e"
            ],
            [
             0.4444444444444444,
             "#bd3786"
            ],
            [
             0.5555555555555556,
             "#d8576b"
            ],
            [
             0.6666666666666666,
             "#ed7953"
            ],
            [
             0.7777777777777778,
             "#fb9f3a"
            ],
            [
             0.8888888888888888,
             "#fdca26"
            ],
            [
             1,
             "#f0f921"
            ]
           ]
          },
          "colorway": [
           "#636efa",
           "#EF553B",
           "#00cc96",
           "#ab63fa",
           "#FFA15A",
           "#19d3f3",
           "#FF6692",
           "#B6E880",
           "#FF97FF",
           "#FECB52"
          ],
          "font": {
           "color": "#2a3f5f"
          },
          "geo": {
           "bgcolor": "white",
           "lakecolor": "white",
           "landcolor": "white",
           "showlakes": true,
           "showland": true,
           "subunitcolor": "#C8D4E3"
          },
          "hoverlabel": {
           "align": "left"
          },
          "hovermode": "closest",
          "mapbox": {
           "style": "light"
          },
          "paper_bgcolor": "white",
          "plot_bgcolor": "white",
          "polar": {
           "angularaxis": {
            "gridcolor": "#EBF0F8",
            "linecolor": "#EBF0F8",
            "ticks": ""
           },
           "bgcolor": "white",
           "radialaxis": {
            "gridcolor": "#EBF0F8",
            "linecolor": "#EBF0F8",
            "ticks": ""
           }
          },
          "scene": {
           "xaxis": {
            "backgroundcolor": "white",
            "gridcolor": "#DFE8F3",
            "gridwidth": 2,
            "linecolor": "#EBF0F8",
            "showbackground": true,
            "ticks": "",
            "zerolinecolor": "#EBF0F8"
           },
           "yaxis": {
            "backgroundcolor": "white",
            "gridcolor": "#DFE8F3",
            "gridwidth": 2,
            "linecolor": "#EBF0F8",
            "showbackground": true,
            "ticks": "",
            "zerolinecolor": "#EBF0F8"
           },
           "zaxis": {
            "backgroundcolor": "white",
            "gridcolor": "#DFE8F3",
            "gridwidth": 2,
            "linecolor": "#EBF0F8",
            "showbackground": true,
            "ticks": "",
            "zerolinecolor": "#EBF0F8"
           }
          },
          "shapedefaults": {
           "line": {
            "color": "#2a3f5f"
           }
          },
          "ternary": {
           "aaxis": {
            "gridcolor": "#DFE8F3",
            "linecolor": "#A2B1C6",
            "ticks": ""
           },
           "baxis": {
            "gridcolor": "#DFE8F3",
            "linecolor": "#A2B1C6",
            "ticks": ""
           },
           "bgcolor": "white",
           "caxis": {
            "gridcolor": "#DFE8F3",
            "linecolor": "#A2B1C6",
            "ticks": ""
           }
          },
          "title": {
           "x": 0.05
          },
          "xaxis": {
           "automargin": true,
           "gridcolor": "#EBF0F8",
           "linecolor": "#EBF0F8",
           "ticks": "",
           "title": {
            "standoff": 15
           },
           "zerolinecolor": "#EBF0F8",
           "zerolinewidth": 2
          },
          "yaxis": {
           "automargin": true,
           "gridcolor": "#EBF0F8",
           "linecolor": "#EBF0F8",
           "ticks": "",
           "title": {
            "standoff": 15
           },
           "zerolinecolor": "#EBF0F8",
           "zerolinewidth": 2
          }
         }
        },
        "width": 1200,
        "xaxis": {
         "anchor": "y",
         "categoryorder": "total ascending",
         "domain": [
          0,
          0.45
         ],
         "range": [
          -0.5,
          5.5
         ],
         "title": {}
        },
        "xaxis2": {
         "anchor": "y2",
         "domain": [
          0.55,
          1
         ]
        },
        "yaxis": {
         "anchor": "x",
         "domain": [
          0,
          1
         ],
         "range": [
          -30,
          30
         ],
         "showticklabels": false,
         "title": {
          "text": "Variation (%)"
         }
        },
        "yaxis2": {
         "anchor": "x2",
         "domain": [
          0,
          1
         ],
         "range": [
          0,
          0.26
         ],
         "title": {
          "text": "Variation (%)"
         }
        }
       }
      }
     },
     "metadata": {},
     "output_type": "display_data"
    }
   ],
   "source": [
    "periodic_emotions_diff_plot = plot_variation(\"plot\", df_movies_with_emotions_normalized)"
   ]
  },
  {
   "cell_type": "code",
   "execution_count": 9,
   "metadata": {
    "execution": {
     "iopub.execute_input": "2024-12-13T13:53:22.709372Z",
     "iopub.status.busy": "2024-12-13T13:53:22.709250Z",
     "iopub.status.idle": "2024-12-13T13:53:22.896461Z",
     "shell.execute_reply": "2024-12-13T13:53:22.893927Z",
     "shell.execute_reply.started": "2024-12-13T13:53:22.709358Z"
    },
    "tags": []
   },
   "outputs": [
    {
     "data": {
      "application/vnd.plotly.v1+json": {
       "config": {
        "plotlyServerURL": "https://plot.ly"
       },
       "data": [
        {
         "hovertemplate": "Variation of %{x}: %{y} % <extra></extra>",
         "marker": {
          "color": "#e13c29",
          "size": 18.765588607155706,
          "symbol": "triangle-up"
         },
         "mode": "markers+text",
         "text": [
          "<b><span style='color: green;'>+1.75%</span> 😠</b>"
         ],
         "textposition": "top center",
         "type": "scatter",
         "x": [
          "Anger"
         ],
         "xaxis": "x",
         "y": [
          1.753117721431141
         ],
         "yaxis": "y"
        },
        {
         "hovertemplate": "Variation of %{x}: %{y} % <extra></extra>",
         "marker": {
          "color": "#8bc664",
          "size": 22.764716138249256,
          "symbol": "triangle-up"
         },
         "mode": "markers+text",
         "text": [
          "<b><span style='color: green;'>+2.55%</span> 🤢</b>"
         ],
         "textposition": "top center",
         "type": "scatter",
         "x": [
          "Disgust"
         ],
         "xaxis": "x",
         "y": [
          2.552943227649851
         ],
         "yaxis": "y"
        },
        {
         "hovertemplate": "Variation of %{x}: %{y} % <extra></extra>",
         "marker": {
          "color": "#b99be5",
          "size": 32.84526683908811,
          "symbol": "triangle-down"
         },
         "mode": "markers+text",
         "text": [
          "<b><span style='color: red;'>-4.57%</span> 😨</b>"
         ],
         "textposition": "bottom center",
         "type": "scatter",
         "x": [
          "Fear"
         ],
         "xaxis": "x",
         "y": [
          -4.569053367817622
         ],
         "yaxis": "y"
        },
        {
         "hovertemplate": "Variation of %{x}: %{y} % <extra></extra>",
         "marker": {
          "color": "#f3c35f",
          "size": 14.09157197313348,
          "symbol": "triangle-down"
         },
         "mode": "markers+text",
         "text": [
          "<b><span style='color: red;'>-0.82%</span> 😊</b>"
         ],
         "textposition": "bottom center",
         "type": "scatter",
         "x": [
          "Joy"
         ],
         "xaxis": "x",
         "y": [
          -0.8183143946266958
         ],
         "yaxis": "y"
        },
        {
         "hovertemplate": "Variation of %{x}: %{y} % <extra></extra>",
         "marker": {
          "color": "#85b8ed",
          "size": 18.3311554040858,
          "symbol": "triangle-up"
         },
         "mode": "markers+text",
         "text": [
          "<b><span style='color: green;'>+1.67%</span> 😢</b>"
         ],
         "textposition": "top center",
         "type": "scatter",
         "x": [
          "Sadness"
         ],
         "xaxis": "x",
         "y": [
          1.6662310808171599
         ],
         "yaxis": "y"
        },
        {
         "hovertemplate": "Variation of %{x}: %{y} % <extra></extra>",
         "marker": {
          "color": "#de9f81",
          "size": 12.70922763509962,
          "symbol": "triangle-down"
         },
         "mode": "markers+text",
         "text": [
          "<b><span style='color: red;'>-0.54%</span> 😲</b>"
         ],
         "textposition": "bottom center",
         "type": "scatter",
         "x": [
          "Surprise"
         ],
         "xaxis": "x",
         "y": [
          -0.5418455270199241
         ],
         "yaxis": "y"
        },
        {
         "hovertemplate": "Mean score of %{x}: %{y} <extra></extra>",
         "marker": {
          "color": [
           "#e13c29",
           "#8bc664",
           "#b99be5",
           "#f3c35f",
           "#85b8ed",
           "#de9f81"
          ]
         },
         "name": "Mean score (January)",
         "type": "bar",
         "x": [
          "Anger",
          "Disgust",
          "Fear",
          "Joy",
          "Sadness",
          "Surprise"
         ],
         "xaxis": "x2",
         "y": [
          0.09621089072682987,
          0.18385756623923338,
          0.10410882198540018,
          0.32114080791589755,
          0.13760984920252797,
          0.15707206393011106
         ],
         "yaxis": "y2"
        }
       ],
       "frames": [
        {
         "data": [
          {
           "hovertemplate": "Variation of %{x}: %{y} % <extra></extra>",
           "marker": {
            "color": "#e13c29",
            "size": 18.765588607155706,
            "symbol": "triangle-up"
           },
           "mode": "markers+text",
           "text": [
            "<b><span style='color: green;'>+1.75%</span> 😠</b>"
           ],
           "textposition": "top center",
           "type": "scatter",
           "x": [
            "Anger"
           ],
           "y": [
            1.753117721431141
           ]
          },
          {
           "hovertemplate": "Variation of %{x}: %{y} % <extra></extra>",
           "marker": {
            "color": "#8bc664",
            "size": 22.764716138249256,
            "symbol": "triangle-up"
           },
           "mode": "markers+text",
           "text": [
            "<b><span style='color: green;'>+2.55%</span> 🤢</b>"
           ],
           "textposition": "top center",
           "type": "scatter",
           "x": [
            "Disgust"
           ],
           "y": [
            2.552943227649851
           ]
          },
          {
           "hovertemplate": "Variation of %{x}: %{y} % <extra></extra>",
           "marker": {
            "color": "#b99be5",
            "size": 32.84526683908811,
            "symbol": "triangle-down"
           },
           "mode": "markers+text",
           "text": [
            "<b><span style='color: red;'>-4.57%</span> 😨</b>"
           ],
           "textposition": "bottom center",
           "type": "scatter",
           "x": [
            "Fear"
           ],
           "y": [
            -4.569053367817622
           ]
          },
          {
           "hovertemplate": "Variation of %{x}: %{y} % <extra></extra>",
           "marker": {
            "color": "#f3c35f",
            "size": 14.09157197313348,
            "symbol": "triangle-down"
           },
           "mode": "markers+text",
           "text": [
            "<b><span style='color: red;'>-0.82%</span> 😊</b>"
           ],
           "textposition": "bottom center",
           "type": "scatter",
           "x": [
            "Joy"
           ],
           "y": [
            -0.8183143946266958
           ]
          },
          {
           "hovertemplate": "Variation of %{x}: %{y} % <extra></extra>",
           "marker": {
            "color": "#85b8ed",
            "size": 18.3311554040858,
            "symbol": "triangle-up"
           },
           "mode": "markers+text",
           "text": [
            "<b><span style='color: green;'>+1.67%</span> 😢</b>"
           ],
           "textposition": "top center",
           "type": "scatter",
           "x": [
            "Sadness"
           ],
           "y": [
            1.6662310808171599
           ]
          },
          {
           "hovertemplate": "Variation of %{x}: %{y} % <extra></extra>",
           "marker": {
            "color": "#de9f81",
            "size": 12.70922763509962,
            "symbol": "triangle-down"
           },
           "mode": "markers+text",
           "text": [
            "<b><span style='color: red;'>-0.54%</span> 😲</b>"
           ],
           "textposition": "bottom center",
           "type": "scatter",
           "x": [
            "Surprise"
           ],
           "y": [
            -0.5418455270199241
           ]
          },
          {
           "hovertemplate": "Mean score of %{x}: %{y} <extra></extra>",
           "marker": {
            "color": [
             "#e13c29",
             "#8bc664",
             "#b99be5",
             "#f3c35f",
             "#85b8ed",
             "#de9f81"
            ]
           },
           "name": "Mean score (January)",
           "type": "bar",
           "x": [
            "Anger",
            "Disgust",
            "Fear",
            "Joy",
            "Sadness",
            "Surprise"
           ],
           "y": [
            0.09621089072682987,
            0.18385756623923338,
            0.10410882198540018,
            0.32114080791589755,
            0.13760984920252797,
            0.15707206393011106
           ]
          }
         ],
         "layout": {
          "annotations": [
           {
            "font": {
             "color": "#8bc664",
             "family": "Arial, sans-serif",
             "size": 18
            },
            "showarrow": false,
            "text": "<b>January : New Year 🎆🎇<br>Significant variation from last month : Disgust 🤢</b>",
            "x": 0.47,
            "xref": "paper",
            "y": 1.31,
            "yref": "paper"
           },
           {
            "font": {
             "color": "black",
             "family": "Trebuchet MS, sans-serif",
             "size": 14,
             "weight": "bold"
            },
            "showarrow": false,
            "text": "Mean score for each emotion during the current period of the year in reviews",
            "x": 0.98,
            "xref": "paper",
            "y": 1.1,
            "yref": "paper"
           },
           {
            "font": {
             "color": "black",
             "family": "Trebuchet MS, sans-serif",
             "size": 14,
             "weight": "bold"
            },
            "showarrow": false,
            "text": "Period-to-period variation of emotions in reviews",
            "x": 0,
            "xref": "paper",
            "y": 1.16,
            "yref": "paper"
           },
           {
            "align": "center",
            "font": {
             "color": "black",
             "family": "Trebuchet MS, sans-serif",
             "size": 14,
             "weight": "bold"
            },
            "showarrow": false,
            "text": "Variation trends from Christmas to New Year",
            "x": 0,
            "xref": "paper",
            "y": 1.1,
            "yref": "paper"
           }
          ]
         },
         "name": "January"
        },
        {
         "data": [
          {
           "hovertemplate": "Variation of %{x}: %{y} % <extra></extra>",
           "marker": {
            "color": "#e13c29",
            "size": 15.441206593964631,
            "symbol": "triangle-up"
           },
           "mode": "markers+text",
           "text": [
            "<b><span style='color: green;'>+1.09%</span> 😠</b>"
           ],
           "textposition": "top center",
           "type": "scatter",
           "x": [
            "Anger"
           ],
           "y": [
            1.0882413187929263
           ]
          },
          {
           "hovertemplate": "Variation of %{x}: %{y} % <extra></extra>",
           "marker": {
            "color": "#8bc664",
            "size": 24.108454416346117,
            "symbol": "triangle-up"
           },
           "mode": "markers+text",
           "text": [
            "<b><span style='color: green;'>+2.82%</span> 🤢</b>"
           ],
           "textposition": "top center",
           "type": "scatter",
           "x": [
            "Disgust"
           ],
           "y": [
            2.8216908832692233
           ]
          },
          {
           "hovertemplate": "Variation of %{x}: %{y} % <extra></extra>",
           "marker": {
            "color": "#b99be5",
            "size": 15.99692942753649,
            "symbol": "triangle-up"
           },
           "mode": "markers+text",
           "text": [
            "<b><span style='color: green;'>+1.20%</span> 😨</b>"
           ],
           "textposition": "top center",
           "type": "scatter",
           "x": [
            "Fear"
           ],
           "y": [
            1.199385885507298
           ]
          },
          {
           "hovertemplate": "Variation of %{x}: %{y} % <extra></extra>",
           "marker": {
            "color": "#f3c35f",
            "size": 22.715385185161132,
            "symbol": "triangle-down"
           },
           "mode": "markers+text",
           "text": [
            "<b><span style='color: red;'>-2.54%</span> 😊</b>"
           ],
           "textposition": "bottom center",
           "type": "scatter",
           "x": [
            "Joy"
           ],
           "y": [
            -2.5430770370322264
           ]
          },
          {
           "hovertemplate": "Variation of %{x}: %{y} % <extra></extra>",
           "marker": {
            "color": "#85b8ed",
            "size": 10.54600925812398,
            "symbol": "triangle-up"
           },
           "mode": "markers+text",
           "text": [
            "<b><span style='color: green;'>+0.11%</span> 😢</b>"
           ],
           "textposition": "top center",
           "type": "scatter",
           "x": [
            "Sadness"
           ],
           "y": [
            0.10920185162479612
           ]
          },
          {
           "hovertemplate": "Variation of %{x}: %{y} % <extra></extra>",
           "marker": {
            "color": "#de9f81",
            "size": 14.939506452602327,
            "symbol": "triangle-up"
           },
           "mode": "markers+text",
           "text": [
            "<b><span style='color: green;'>+0.99%</span> 😲</b>"
           ],
           "textposition": "top center",
           "type": "scatter",
           "x": [
            "Surprise"
           ],
           "y": [
            0.9879012905204654
           ]
          },
          {
           "hovertemplate": "Mean score of %{x}: %{y} <extra></extra>",
           "marker": {
            "color": [
             "#e13c29",
             "#8bc664",
             "#b99be5",
             "#f3c35f",
             "#85b8ed",
             "#de9f81"
            ]
           },
           "name": "Mean score (February)",
           "type": "bar",
           "x": [
            "Anger",
            "Disgust",
            "Fear",
            "Joy",
            "Sadness",
            "Surprise"
           ],
           "y": [
            0.09559167129441663,
            0.17604578823531045,
            0.09558292227980796,
            0.3339628647078473,
            0.13825212034365353,
            0.1605646331389641
           ]
          }
         ],
         "layout": {
          "annotations": [
           {
            "font": {
             "color": "#8bc664",
             "family": "Arial, sans-serif",
             "size": 18
            },
            "showarrow": false,
            "text": "<b>February : Valentine's Day ❤️💖<br>Significant variation from last month : Disgust 🤢</b>",
            "x": 0.47,
            "xref": "paper",
            "y": 1.31,
            "yref": "paper"
           },
           {
            "font": {
             "color": "black",
             "family": "Trebuchet MS, sans-serif",
             "size": 14,
             "weight": "bold"
            },
            "showarrow": false,
            "text": "Mean score for each emotion during the current period of the year in reviews",
            "x": 0.98,
            "xref": "paper",
            "y": 1.1,
            "yref": "paper"
           },
           {
            "font": {
             "color": "black",
             "family": "Trebuchet MS, sans-serif",
             "size": 14,
             "weight": "bold"
            },
            "showarrow": false,
            "text": "Period-to-period variation of emotions in reviews",
            "x": 0,
            "xref": "paper",
            "y": 1.16,
            "yref": "paper"
           },
           {
            "align": "center",
            "font": {
             "color": "black",
             "family": "Trebuchet MS, sans-serif",
             "size": 14,
             "weight": "bold"
            },
            "showarrow": false,
            "text": "Variation trends from New Year to Valentine's Day",
            "x": 0,
            "xref": "paper",
            "y": 1.1,
            "yref": "paper"
           }
          ]
         },
         "name": "February"
        },
        {
         "data": [
          {
           "hovertemplate": "Variation of %{x}: %{y} % <extra></extra>",
           "marker": {
            "color": "#e13c29",
            "size": 20.693272067012813,
            "symbol": "triangle-down"
           },
           "mode": "markers+text",
           "text": [
            "<b><span style='color: red;'>-2.14%</span> 😠</b>"
           ],
           "textposition": "bottom center",
           "type": "scatter",
           "x": [
            "Anger"
           ],
           "y": [
            -2.138654413402563
           ]
          },
          {
           "hovertemplate": "Variation of %{x}: %{y} % <extra></extra>",
           "marker": {
            "color": "#8bc664",
            "size": 20.69074528162206,
            "symbol": "triangle-down"
           },
           "mode": "markers+text",
           "text": [
            "<b><span style='color: red;'>-2.14%</span> 🤢</b>"
           ],
           "textposition": "bottom center",
           "type": "scatter",
           "x": [
            "Disgust"
           ],
           "y": [
            -2.138149056324412
           ]
          },
          {
           "hovertemplate": "Variation of %{x}: %{y} % <extra></extra>",
           "marker": {
            "color": "#b99be5",
            "size": 35.739947303442364,
            "symbol": "triangle-down"
           },
           "mode": "markers+text",
           "text": [
            "<b><span style='color: red;'>-5.15%</span> 😨</b>"
           ],
           "textposition": "bottom center",
           "type": "scatter",
           "x": [
            "Fear"
           ],
           "y": [
            -5.147989460688473
           ]
          },
          {
           "hovertemplate": "Variation of %{x}: %{y} % <extra></extra>",
           "marker": {
            "color": "#f3c35f",
            "size": 36.63471032196007,
            "symbol": "triangle-up"
           },
           "mode": "markers+text",
           "text": [
            "<b><span style='color: green;'>+5.33%</span> 😊</b>"
           ],
           "textposition": "top center",
           "type": "scatter",
           "x": [
            "Joy"
           ],
           "y": [
            5.326942064392015
           ]
          },
          {
           "hovertemplate": "Variation of %{x}: %{y} % <extra></extra>",
           "marker": {
            "color": "#85b8ed",
            "size": 31.617712745163278,
            "symbol": "triangle-down"
           },
           "mode": "markers+text",
           "text": [
            "<b><span style='color: red;'>-4.32%</span> 😢</b>"
           ],
           "textposition": "bottom center",
           "type": "scatter",
           "x": [
            "Sadness"
           ],
           "y": [
            -4.323542549032656
           ]
          },
          {
           "hovertemplate": "Variation of %{x}: %{y} % <extra></extra>",
           "marker": {
            "color": "#de9f81",
            "size": 10.584172307347918,
            "symbol": "triangle-down"
           },
           "mode": "markers+text",
           "text": [
            "<b><span style='color: red;'>-0.12%</span> 😲</b>"
           ],
           "textposition": "bottom center",
           "type": "scatter",
           "x": [
            "Surprise"
           ],
           "y": [
            -0.11683446146958376
           ]
          },
          {
           "hovertemplate": "Mean score of %{x}: %{y} <extra></extra>",
           "marker": {
            "color": [
             "#e13c29",
             "#8bc664",
             "#b99be5",
             "#f3c35f",
             "#85b8ed",
             "#de9f81"
            ]
           },
           "name": "Mean score (March)",
           "type": "bar",
           "x": [
            "Anger",
            "Disgust",
            "Fear",
            "Joy",
            "Sadness",
            "Surprise"
           ],
           "y": [
            0.09491545545433125,
            0.17484612307664446,
            0.09614787777983742,
            0.34243865688292485,
            0.1332374150934578,
            0.1584144717128042
           ]
          }
         ],
         "layout": {
          "annotations": [
           {
            "font": {
             "color": "#f3c35f",
             "family": "Arial, sans-serif",
             "size": 18
            },
            "showarrow": false,
            "text": "<b>March : Spring Release 🌸🌼<br>Significant variation from last month : Joy 😊</b>",
            "x": 0.47,
            "xref": "paper",
            "y": 1.31,
            "yref": "paper"
           },
           {
            "font": {
             "color": "black",
             "family": "Trebuchet MS, sans-serif",
             "size": 14,
             "weight": "bold"
            },
            "showarrow": false,
            "text": "Mean score for each emotion during the current period of the year in reviews",
            "x": 0.98,
            "xref": "paper",
            "y": 1.1,
            "yref": "paper"
           },
           {
            "font": {
             "color": "black",
             "family": "Trebuchet MS, sans-serif",
             "size": 14,
             "weight": "bold"
            },
            "showarrow": false,
            "text": "Period-to-period variation of emotions in reviews",
            "x": 0,
            "xref": "paper",
            "y": 1.16,
            "yref": "paper"
           },
           {
            "align": "center",
            "font": {
             "color": "black",
             "family": "Trebuchet MS, sans-serif",
             "size": 14,
             "weight": "bold"
            },
            "showarrow": false,
            "text": "Variation trends from Valentine's Day to Spring Release",
            "x": 0,
            "xref": "paper",
            "y": 1.1,
            "yref": "paper"
           }
          ]
         },
         "name": "March"
        },
        {
         "data": [
          {
           "hovertemplate": "Variation of %{x}: %{y} % <extra></extra>",
           "marker": {
            "color": "#e13c29",
            "size": 26.153455113346983,
            "symbol": "triangle-up"
           },
           "mode": "markers+text",
           "text": [
            "<b><span style='color: green;'>+3.23%</span> 😠</b>"
           ],
           "textposition": "top center",
           "type": "scatter",
           "x": [
            "Anger"
           ],
           "y": [
            3.2306910226693963
           ]
          },
          {
           "hovertemplate": "Variation of %{x}: %{y} % <extra></extra>",
           "marker": {
            "color": "#8bc664",
            "size": 36.72938311946316,
            "symbol": "triangle-up"
           },
           "mode": "markers+text",
           "text": [
            "<b><span style='color: green;'>+5.35%</span> 🤢</b>"
           ],
           "textposition": "top center",
           "type": "scatter",
           "x": [
            "Disgust"
           ],
           "y": [
            5.345876623892631
           ]
          },
          {
           "hovertemplate": "Variation of %{x}: %{y} % <extra></extra>",
           "marker": {
            "color": "#b99be5",
            "size": 51.84221794827259,
            "symbol": "triangle-up"
           },
           "mode": "markers+text",
           "text": [
            "<b><span style='color: green;'>+8.37%</span> 😨</b>"
           ],
           "textposition": "top center",
           "type": "scatter",
           "x": [
            "Fear"
           ],
           "y": [
            8.368443589654518
           ]
          },
          {
           "hovertemplate": "Variation of %{x}: %{y} % <extra></extra>",
           "marker": {
            "color": "#f3c35f",
            "size": 26.870328148271664,
            "symbol": "triangle-down"
           },
           "mode": "markers+text",
           "text": [
            "<b><span style='color: red;'>-3.37%</span> 😊</b>"
           ],
           "textposition": "bottom center",
           "type": "scatter",
           "x": [
            "Joy"
           ],
           "y": [
            -3.3740656296543325
           ]
          },
          {
           "hovertemplate": "Variation of %{x}: %{y} % <extra></extra>",
           "marker": {
            "color": "#85b8ed",
            "size": 31.622304825164807,
            "symbol": "triangle-down"
           },
           "mode": "markers+text",
           "text": [
            "<b><span style='color: red;'>-4.32%</span> 😢</b>"
           ],
           "textposition": "bottom center",
           "type": "scatter",
           "x": [
            "Sadness"
           ],
           "y": [
            -4.324460965032961
           ]
          },
          {
           "hovertemplate": "Variation of %{x}: %{y} % <extra></extra>",
           "marker": {
            "color": "#de9f81",
            "size": 13.924157547341045,
            "symbol": "triangle-down"
           },
           "mode": "markers+text",
           "text": [
            "<b><span style='color: red;'>-0.78%</span> 😲</b>"
           ],
           "textposition": "bottom center",
           "type": "scatter",
           "x": [
            "Surprise"
           ],
           "y": [
            -0.784831509468209
           ]
          },
          {
           "hovertemplate": "Mean score of %{x}: %{y} <extra></extra>",
           "marker": {
            "color": [
             "#e13c29",
             "#8bc664",
             "#b99be5",
             "#f3c35f",
             "#85b8ed",
             "#de9f81"
            ]
           },
           "name": "Mean score (April)",
           "type": "bar",
           "x": [
            "Anger",
            "Disgust",
            "Fear",
            "Joy",
            "Sadness",
            "Surprise"
           ],
           "y": [
            0.09524124708863206,
            0.17601947102781818,
            0.09434149101929537,
            0.3429954419682817,
            0.13183759639129414,
            0.15956475250467855
           ]
          }
         ],
         "layout": {
          "annotations": [
           {
            "font": {
             "color": "#b99be5",
             "family": "Arial, sans-serif",
             "size": 18
            },
            "showarrow": false,
            "text": "<b>April : Easter Break 🐣🥚<br>Significant variation from last month : Fear 😨</b>",
            "x": 0.47,
            "xref": "paper",
            "y": 1.31,
            "yref": "paper"
           },
           {
            "font": {
             "color": "black",
             "family": "Trebuchet MS, sans-serif",
             "size": 14,
             "weight": "bold"
            },
            "showarrow": false,
            "text": "Mean score for each emotion during the current period of the year in reviews",
            "x": 0.98,
            "xref": "paper",
            "y": 1.1,
            "yref": "paper"
           },
           {
            "font": {
             "color": "black",
             "family": "Trebuchet MS, sans-serif",
             "size": 14,
             "weight": "bold"
            },
            "showarrow": false,
            "text": "Period-to-period variation of emotions in reviews",
            "x": 0,
            "xref": "paper",
            "y": 1.16,
            "yref": "paper"
           },
           {
            "align": "center",
            "font": {
             "color": "black",
             "family": "Trebuchet MS, sans-serif",
             "size": 14,
             "weight": "bold"
            },
            "showarrow": false,
            "text": "Variation trends from Spring Release to Easter Break",
            "x": 0,
            "xref": "paper",
            "y": 1.1,
            "yref": "paper"
           }
          ]
         },
         "name": "April"
        },
        {
         "data": [
          {
           "hovertemplate": "Variation of %{x}: %{y} % <extra></extra>",
           "marker": {
            "color": "#e13c29",
            "size": 14.047566111405665,
            "symbol": "triangle-up"
           },
           "mode": "markers+text",
           "text": [
            "<b><span style='color: green;'>+0.81%</span> 😠</b>"
           ],
           "textposition": "top center",
           "type": "scatter",
           "x": [
            "Anger"
           ],
           "y": [
            0.809513222281133
           ]
          },
          {
           "hovertemplate": "Variation of %{x}: %{y} % <extra></extra>",
           "marker": {
            "color": "#8bc664",
            "size": 24.11769994051687,
            "symbol": "triangle-down"
           },
           "mode": "markers+text",
           "text": [
            "<b><span style='color: red;'>-2.82%</span> 🤢</b>"
           ],
           "textposition": "bottom center",
           "type": "scatter",
           "x": [
            "Disgust"
           ],
           "y": [
            -2.823539988103374
           ]
          },
          {
           "hovertemplate": "Variation of %{x}: %{y} % <extra></extra>",
           "marker": {
            "color": "#b99be5",
            "size": 23.171904699795622,
            "symbol": "triangle-down"
           },
           "mode": "markers+text",
           "text": [
            "<b><span style='color: red;'>-2.63%</span> 😨</b>"
           ],
           "textposition": "bottom center",
           "type": "scatter",
           "x": [
            "Fear"
           ],
           "y": [
            -2.6343809399591245
           ]
          },
          {
           "hovertemplate": "Variation of %{x}: %{y} % <extra></extra>",
           "marker": {
            "color": "#f3c35f",
            "size": 16.19496161496036,
            "symbol": "triangle-up"
           },
           "mode": "markers+text",
           "text": [
            "<b><span style='color: green;'>+1.24%</span> 😊</b>"
           ],
           "textposition": "top center",
           "type": "scatter",
           "x": [
            "Joy"
           ],
           "y": [
            1.2389923229920718
           ]
          },
          {
           "hovertemplate": "Variation of %{x}: %{y} % <extra></extra>",
           "marker": {
            "color": "#85b8ed",
            "size": 15.98960782230562,
            "symbol": "triangle-up"
           },
           "mode": "markers+text",
           "text": [
            "<b><span style='color: green;'>+1.20%</span> 😢</b>"
           ],
           "textposition": "top center",
           "type": "scatter",
           "x": [
            "Sadness"
           ],
           "y": [
            1.197921564461124
           ]
          },
          {
           "hovertemplate": "Variation of %{x}: %{y} % <extra></extra>",
           "marker": {
            "color": "#de9f81",
            "size": 14.863076643587982,
            "symbol": "triangle-up"
           },
           "mode": "markers+text",
           "text": [
            "<b><span style='color: green;'>+0.97%</span> 😲</b>"
           ],
           "textposition": "top center",
           "type": "scatter",
           "x": [
            "Surprise"
           ],
           "y": [
            0.9726153287175965
           ]
          },
          {
           "hovertemplate": "Mean score of %{x}: %{y} <extra></extra>",
           "marker": {
            "color": [
             "#e13c29",
             "#8bc664",
             "#b99be5",
             "#f3c35f",
             "#85b8ed",
             "#de9f81"
            ]
           },
           "name": "Mean score (May)",
           "type": "bar",
           "x": [
            "Anger",
            "Disgust",
            "Fear",
            "Joy",
            "Sadness",
            "Surprise"
           ],
           "y": [
            0.09698973060853801,
            0.17866627433531498,
            0.10136619902220083,
            0.32511971787197025,
            0.13925830726094748,
            0.15859977090102842
           ]
          }
         ],
         "layout": {
          "annotations": [
           {
            "font": {
             "color": "#f3c35f",
             "family": "Arial, sans-serif",
             "size": 18
            },
            "showarrow": false,
            "text": "<b>May : Pre-Summer Warm-up ☀️🏖️<br>Significant variation from last month : Joy 😊</b>",
            "x": 0.47,
            "xref": "paper",
            "y": 1.31,
            "yref": "paper"
           },
           {
            "font": {
             "color": "black",
             "family": "Trebuchet MS, sans-serif",
             "size": 14,
             "weight": "bold"
            },
            "showarrow": false,
            "text": "Mean score for each emotion during the current period of the year in reviews",
            "x": 0.98,
            "xref": "paper",
            "y": 1.1,
            "yref": "paper"
           },
           {
            "font": {
             "color": "black",
             "family": "Trebuchet MS, sans-serif",
             "size": 14,
             "weight": "bold"
            },
            "showarrow": false,
            "text": "Period-to-period variation of emotions in reviews",
            "x": 0,
            "xref": "paper",
            "y": 1.16,
            "yref": "paper"
           },
           {
            "align": "center",
            "font": {
             "color": "black",
             "family": "Trebuchet MS, sans-serif",
             "size": 14,
             "weight": "bold"
            },
            "showarrow": false,
            "text": "Variation trends from Easter Break to Pre-Summer Warm-up",
            "x": 0,
            "xref": "paper",
            "y": 1.1,
            "yref": "paper"
           }
          ]
         },
         "name": "May"
        },
        {
         "data": [
          {
           "hovertemplate": "Variation of %{x}: %{y} % <extra></extra>",
           "marker": {
            "color": "#e13c29",
            "size": 19.688183866332245,
            "symbol": "triangle-down"
           },
           "mode": "markers+text",
           "text": [
            "<b><span style='color: red;'>-1.94%</span> 😠</b>"
           ],
           "textposition": "bottom center",
           "type": "scatter",
           "x": [
            "Anger"
           ],
           "y": [
            -1.937636773266449
           ]
          },
          {
           "hovertemplate": "Variation of %{x}: %{y} % <extra></extra>",
           "marker": {
            "color": "#8bc664",
            "size": 25.769009848472905,
            "symbol": "triangle-down"
           },
           "mode": "markers+text",
           "text": [
            "<b><span style='color: red;'>-3.15%</span> 🤢</b>"
           ],
           "textposition": "bottom center",
           "type": "scatter",
           "x": [
            "Disgust"
           ],
           "y": [
            -3.1538019696945807
           ]
          },
          {
           "hovertemplate": "Variation of %{x}: %{y} % <extra></extra>",
           "marker": {
            "color": "#b99be5",
            "size": 39.09851571156147,
            "symbol": "triangle-down"
           },
           "mode": "markers+text",
           "text": [
            "<b><span style='color: red;'>-5.82%</span> 😨</b>"
           ],
           "textposition": "bottom center",
           "type": "scatter",
           "x": [
            "Fear"
           ],
           "y": [
            -5.819703142312294
           ]
          },
          {
           "hovertemplate": "Variation of %{x}: %{y} % <extra></extra>",
           "marker": {
            "color": "#f3c35f",
            "size": 30.516573285838113,
            "symbol": "triangle-up"
           },
           "mode": "markers+text",
           "text": [
            "<b><span style='color: green;'>+4.10%</span> 😊</b>"
           ],
           "textposition": "top center",
           "type": "scatter",
           "x": [
            "Joy"
           ],
           "y": [
            4.103314657167623
           ]
          },
          {
           "hovertemplate": "Variation of %{x}: %{y} % <extra></extra>",
           "marker": {
            "color": "#85b8ed",
            "size": 16.645782535101286,
            "symbol": "triangle-down"
           },
           "mode": "markers+text",
           "text": [
            "<b><span style='color: red;'>-1.33%</span> 😢</b>"
           ],
           "textposition": "bottom center",
           "type": "scatter",
           "x": [
            "Sadness"
           ],
           "y": [
            -1.3291565070202571
           ]
          },
          {
           "hovertemplate": "Variation of %{x}: %{y} % <extra></extra>",
           "marker": {
            "color": "#de9f81",
            "size": 12.110086508918641,
            "symbol": "triangle-up"
           },
           "mode": "markers+text",
           "text": [
            "<b><span style='color: green;'>+0.42%</span> 😲</b>"
           ],
           "textposition": "top center",
           "type": "scatter",
           "x": [
            "Surprise"
           ],
           "y": [
            0.4220173017837281
           ]
          },
          {
           "hovertemplate": "Mean score of %{x}: %{y} <extra></extra>",
           "marker": {
            "color": [
             "#e13c29",
             "#8bc664",
             "#b99be5",
             "#f3c35f",
             "#85b8ed",
             "#de9f81"
            ]
           },
           "name": "Mean score (June/July)",
           "type": "bar",
           "x": [
            "Anger",
            "Disgust",
            "Fear",
            "Joy",
            "Sadness",
            "Surprise"
           ],
           "y": [
            0.09307633868593479,
            0.16933182260311863,
            0.09055235671541764,
            0.3564899924826099,
            0.1314664813209575,
            0.15908300819196153
           ]
          }
         ],
         "layout": {
          "annotations": [
           {
            "font": {
             "color": "#f3c35f",
             "family": "Arial, sans-serif",
             "size": 18
            },
            "showarrow": false,
            "text": "<b>June/July : Summer movies 🎥🍿<br>Significant variation from last month : Joy 😊</b>",
            "x": 0.47,
            "xref": "paper",
            "y": 1.31,
            "yref": "paper"
           },
           {
            "font": {
             "color": "black",
             "family": "Trebuchet MS, sans-serif",
             "size": 14,
             "weight": "bold"
            },
            "showarrow": false,
            "text": "Mean score for each emotion during the current period of the year in reviews",
            "x": 0.98,
            "xref": "paper",
            "y": 1.1,
            "yref": "paper"
           },
           {
            "font": {
             "color": "black",
             "family": "Trebuchet MS, sans-serif",
             "size": 14,
             "weight": "bold"
            },
            "showarrow": false,
            "text": "Period-to-period variation of emotions in reviews",
            "x": 0,
            "xref": "paper",
            "y": 1.16,
            "yref": "paper"
           },
           {
            "align": "center",
            "font": {
             "color": "black",
             "family": "Trebuchet MS, sans-serif",
             "size": 14,
             "weight": "bold"
            },
            "showarrow": false,
            "text": "Variation trends from Pre-Summer Warm-up to Summer movies",
            "x": 0,
            "xref": "paper",
            "y": 1.1,
            "yref": "paper"
           }
          ]
         },
         "name": "June/July"
        },
        {
         "data": [
          {
           "hovertemplate": "Variation of %{x}: %{y} % <extra></extra>",
           "marker": {
            "color": "#e13c29",
            "size": 10.01286397801975,
            "symbol": "triangle-down"
           },
           "mode": "markers+text",
           "text": [
            "<b><span style='color: red;'>-0.00%</span> 😠</b>"
           ],
           "textposition": "bottom center",
           "type": "scatter",
           "x": [
            "Anger"
           ],
           "y": [
            -0.0025727956039500732
           ]
          },
          {
           "hovertemplate": "Variation of %{x}: %{y} % <extra></extra>",
           "marker": {
            "color": "#8bc664",
            "size": 14.180547145251179,
            "symbol": "triangle-up"
           },
           "mode": "markers+text",
           "text": [
            "<b><span style='color: green;'>+0.84%</span> 🤢</b>"
           ],
           "textposition": "top center",
           "type": "scatter",
           "x": [
            "Disgust"
           ],
           "y": [
            0.8361094290502358
           ]
          },
          {
           "hovertemplate": "Variation of %{x}: %{y} % <extra></extra>",
           "marker": {
            "color": "#b99be5",
            "size": 24.370480117620986,
            "symbol": "triangle-up"
           },
           "mode": "markers+text",
           "text": [
            "<b><span style='color: green;'>+2.87%</span> 😨</b>"
           ],
           "textposition": "top center",
           "type": "scatter",
           "x": [
            "Fear"
           ],
           "y": [
            2.8740960235241975
           ]
          },
          {
           "hovertemplate": "Variation of %{x}: %{y} % <extra></extra>",
           "marker": {
            "color": "#f3c35f",
            "size": 21.60937309132587,
            "symbol": "triangle-down"
           },
           "mode": "markers+text",
           "text": [
            "<b><span style='color: red;'>-2.32%</span> 😊</b>"
           ],
           "textposition": "bottom center",
           "type": "scatter",
           "x": [
            "Joy"
           ],
           "y": [
            -2.321874618265174
           ]
          },
          {
           "hovertemplate": "Variation of %{x}: %{y} % <extra></extra>",
           "marker": {
            "color": "#85b8ed",
            "size": 29.653781062109353,
            "symbol": "triangle-up"
           },
           "mode": "markers+text",
           "text": [
            "<b><span style='color: green;'>+3.93%</span> 😢</b>"
           ],
           "textposition": "top center",
           "type": "scatter",
           "x": [
            "Sadness"
           ],
           "y": [
            3.930756212421871
           ]
          },
          {
           "hovertemplate": "Variation of %{x}: %{y} % <extra></extra>",
           "marker": {
            "color": "#de9f81",
            "size": 14.383864397239535,
            "symbol": "triangle-down"
           },
           "mode": "markers+text",
           "text": [
            "<b><span style='color: red;'>-0.88%</span> 😲</b>"
           ],
           "textposition": "bottom center",
           "type": "scatter",
           "x": [
            "Surprise"
           ],
           "y": [
            -0.8767728794479068
           ]
          },
          {
           "hovertemplate": "Mean score of %{x}: %{y} <extra></extra>",
           "marker": {
            "color": [
             "#e13c29",
             "#8bc664",
             "#b99be5",
             "#f3c35f",
             "#85b8ed",
             "#de9f81"
            ]
           },
           "name": "Mean score (August/September)",
           "type": "bar",
           "x": [
            "Anger",
            "Disgust",
            "Fear",
            "Joy",
            "Sadness",
            "Surprise"
           ],
           "y": [
            0.09523879672601382,
            0.17749118642204612,
            0.09705295606121438,
            0.3350315178594137,
            0.1370198109017526,
            0.15816573202955936
           ]
          }
         ],
         "layout": {
          "annotations": [
           {
            "font": {
             "color": "#85b8ed",
             "family": "Arial, sans-serif",
             "size": 18
            },
            "showarrow": false,
            "text": "<b>August/September : Fall Releases/Back-to-School 📚🍂<br>Significant variation from last month : Sadness 😢</b>",
            "x": 0.47,
            "xref": "paper",
            "y": 1.31,
            "yref": "paper"
           },
           {
            "font": {
             "color": "black",
             "family": "Trebuchet MS, sans-serif",
             "size": 14,
             "weight": "bold"
            },
            "showarrow": false,
            "text": "Mean score for each emotion during the current period of the year in reviews",
            "x": 0.98,
            "xref": "paper",
            "y": 1.1,
            "yref": "paper"
           },
           {
            "font": {
             "color": "black",
             "family": "Trebuchet MS, sans-serif",
             "size": 14,
             "weight": "bold"
            },
            "showarrow": false,
            "text": "Period-to-period variation of emotions in reviews",
            "x": 0,
            "xref": "paper",
            "y": 1.16,
            "yref": "paper"
           },
           {
            "align": "center",
            "font": {
             "color": "black",
             "family": "Trebuchet MS, sans-serif",
             "size": 14,
             "weight": "bold"
            },
            "showarrow": false,
            "text": "Variation trends from Summer movies to Fall Releases/Back-to-School",
            "x": 0,
            "xref": "paper",
            "y": 1.1,
            "yref": "paper"
           }
          ]
         },
         "name": "August/September"
        },
        {
         "data": [
          {
           "hovertemplate": "Variation of %{x}: %{y} % <extra></extra>",
           "marker": {
            "color": "#e13c29",
            "size": 13.599037331740773,
            "symbol": "triangle-down"
           },
           "mode": "markers+text",
           "text": [
            "<b><span style='color: red;'>-0.72%</span> 😠</b>"
           ],
           "textposition": "bottom center",
           "type": "scatter",
           "x": [
            "Anger"
           ],
           "y": [
            -0.7198074663481546
           ]
          },
          {
           "hovertemplate": "Variation of %{x}: %{y} % <extra></extra>",
           "marker": {
            "color": "#8bc664",
            "size": 15.040946153815007,
            "symbol": "triangle-up"
           },
           "mode": "markers+text",
           "text": [
            "<b><span style='color: green;'>+1.01%</span> 🤢</b>"
           ],
           "textposition": "top center",
           "type": "scatter",
           "x": [
            "Disgust"
           ],
           "y": [
            1.0081892307630014
           ]
          },
          {
           "hovertemplate": "Variation of %{x}: %{y} % <extra></extra>",
           "marker": {
            "color": "#b99be5",
            "size": 72.03005066545364,
            "symbol": "triangle-up"
           },
           "mode": "markers+text",
           "text": [
            "<b><span style='color: green;'>+12.41%</span> 😨</b>"
           ],
           "textposition": "top center",
           "type": "scatter",
           "x": [
            "Fear"
           ],
           "y": [
            12.406010133090728
           ]
          },
          {
           "hovertemplate": "Variation of %{x}: %{y} % <extra></extra>",
           "marker": {
            "color": "#f3c35f",
            "size": 26.77616229200718,
            "symbol": "triangle-down"
           },
           "mode": "markers+text",
           "text": [
            "<b><span style='color: red;'>-3.36%</span> 😊</b>"
           ],
           "textposition": "bottom center",
           "type": "scatter",
           "x": [
            "Joy"
           ],
           "y": [
            -3.355232458401436
           ]
          },
          {
           "hovertemplate": "Variation of %{x}: %{y} % <extra></extra>",
           "marker": {
            "color": "#85b8ed",
            "size": 16.07678895362401,
            "symbol": "triangle-down"
           },
           "mode": "markers+text",
           "text": [
            "<b><span style='color: red;'>-1.22%</span> 😢</b>"
           ],
           "textposition": "bottom center",
           "type": "scatter",
           "x": [
            "Sadness"
           ],
           "y": [
            -1.2153577907248025
           ]
          },
          {
           "hovertemplate": "Variation of %{x}: %{y} % <extra></extra>",
           "marker": {
            "color": "#de9f81",
            "size": 10.75219656624348,
            "symbol": "triangle-down"
           },
           "mode": "markers+text",
           "text": [
            "<b><span style='color: red;'>-0.15%</span> 😲</b>"
           ],
           "textposition": "bottom center",
           "type": "scatter",
           "x": [
            "Surprise"
           ],
           "y": [
            -0.15043931324869586
           ]
          },
          {
           "hovertemplate": "Mean score of %{x}: %{y} <extra></extra>",
           "marker": {
            "color": [
             "#e13c29",
             "#8bc664",
             "#b99be5",
             "#f3c35f",
             "#85b8ed",
             "#de9f81"
            ]
           },
           "name": "Mean score (October)",
           "type": "bar",
           "x": [
            "Anger",
            "Disgust",
            "Fear",
            "Joy",
            "Sadness",
            "Surprise"
           ],
           "y": [
            0.09455326075631983,
            0.17928063344910666,
            0.10909335562463272,
            0.32379043162631965,
            0.13535452995512176,
            0.15792778858849932
           ]
          }
         ],
         "layout": {
          "annotations": [
           {
            "font": {
             "color": "#b99be5",
             "family": "Arial, sans-serif",
             "size": 18
            },
            "showarrow": false,
            "text": "<b>October : Halloween 🎃👻<br>Significant variation from last month : Fear 😨</b>",
            "x": 0.47,
            "xref": "paper",
            "y": 1.31,
            "yref": "paper"
           },
           {
            "font": {
             "color": "black",
             "family": "Trebuchet MS, sans-serif",
             "size": 14,
             "weight": "bold"
            },
            "showarrow": false,
            "text": "Mean score for each emotion during the current period of the year in reviews",
            "x": 0.98,
            "xref": "paper",
            "y": 1.1,
            "yref": "paper"
           },
           {
            "font": {
             "color": "black",
             "family": "Trebuchet MS, sans-serif",
             "size": 14,
             "weight": "bold"
            },
            "showarrow": false,
            "text": "Period-to-period variation of emotions in reviews",
            "x": 0,
            "xref": "paper",
            "y": 1.16,
            "yref": "paper"
           },
           {
            "align": "center",
            "font": {
             "color": "black",
             "family": "Trebuchet MS, sans-serif",
             "size": 14,
             "weight": "bold"
            },
            "showarrow": false,
            "text": "Variation trends from Fall Releases/Back-to-School to Halloween",
            "x": 0,
            "xref": "paper",
            "y": 1.1,
            "yref": "paper"
           }
          ]
         },
         "name": "October"
        },
        {
         "data": [
          {
           "hovertemplate": "Variation of %{x}: %{y} % <extra></extra>",
           "marker": {
            "color": "#e13c29",
            "size": 17.98410918667325,
            "symbol": "triangle-up"
           },
           "mode": "markers+text",
           "text": [
            "<b><span style='color: green;'>+1.60%</span> 😠</b>"
           ],
           "textposition": "top center",
           "type": "scatter",
           "x": [
            "Anger"
           ],
           "y": [
            1.5968218373346499
           ]
          },
          {
           "hovertemplate": "Variation of %{x}: %{y} % <extra></extra>",
           "marker": {
            "color": "#8bc664",
            "size": 15.55955078616055,
            "symbol": "triangle-up"
           },
           "mode": "markers+text",
           "text": [
            "<b><span style='color: green;'>+1.11%</span> 🤢</b>"
           ],
           "textposition": "top center",
           "type": "scatter",
           "x": [
            "Disgust"
           ],
           "y": [
            1.11191015723211
           ]
          },
          {
           "hovertemplate": "Variation of %{x}: %{y} % <extra></extra>",
           "marker": {
            "color": "#b99be5",
            "size": 31.52204826219195,
            "symbol": "triangle-up"
           },
           "mode": "markers+text",
           "text": [
            "<b><span style='color: green;'>+4.30%</span> 😨</b>"
           ],
           "textposition": "top center",
           "type": "scatter",
           "x": [
            "Fear"
           ],
           "y": [
            4.30440965243839
           ]
          },
          {
           "hovertemplate": "Variation of %{x}: %{y} % <extra></extra>",
           "marker": {
            "color": "#f3c35f",
            "size": 29.37302225123022,
            "symbol": "triangle-down"
           },
           "mode": "markers+text",
           "text": [
            "<b><span style='color: red;'>-3.87%</span> 😊</b>"
           ],
           "textposition": "bottom center",
           "type": "scatter",
           "x": [
            "Joy"
           ],
           "y": [
            -3.874604450246044
           ]
          },
          {
           "hovertemplate": "Variation of %{x}: %{y} % <extra></extra>",
           "marker": {
            "color": "#85b8ed",
            "size": 35.23392186027584,
            "symbol": "triangle-up"
           },
           "mode": "markers+text",
           "text": [
            "<b><span style='color: green;'>+5.05%</span> 😢</b>"
           ],
           "textposition": "top center",
           "type": "scatter",
           "x": [
            "Sadness"
           ],
           "y": [
            5.046784372055169
           ]
          },
          {
           "hovertemplate": "Variation of %{x}: %{y} % <extra></extra>",
           "marker": {
            "color": "#de9f81",
            "size": 10.279973772321917,
            "symbol": "triangle-down"
           },
           "mode": "markers+text",
           "text": [
            "<b><span style='color: red;'>-0.06%</span> 😲</b>"
           ],
           "textposition": "bottom center",
           "type": "scatter",
           "x": [
            "Surprise"
           ],
           "y": [
            -0.05599475446438351
           ]
          },
          {
           "hovertemplate": "Mean score of %{x}: %{y} <extra></extra>",
           "marker": {
            "color": [
             "#e13c29",
             "#8bc664",
             "#b99be5",
             "#f3c35f",
             "#85b8ed",
             "#de9f81"
            ]
           },
           "name": "Mean score (November)",
           "type": "bar",
           "x": [
            "Anger",
            "Disgust",
            "Fear",
            "Joy",
            "Sadness",
            "Surprise"
           ],
           "y": [
            0.09456260198746336,
            0.17121464033806896,
            0.09445010109838653,
            0.3426774153691969,
            0.1381013111547544,
            0.1589939300521299
           ]
          }
         ],
         "layout": {
          "annotations": [
           {
            "font": {
             "color": "#85b8ed",
             "family": "Arial, sans-serif",
             "size": 18
            },
            "showarrow": false,
            "text": "<b>November : Thanksgiving 🦃🍂<br>Significant variation from last month : Sadness 😢</b>",
            "x": 0.47,
            "xref": "paper",
            "y": 1.31,
            "yref": "paper"
           },
           {
            "font": {
             "color": "black",
             "family": "Trebuchet MS, sans-serif",
             "size": 14,
             "weight": "bold"
            },
            "showarrow": false,
            "text": "Mean score for each emotion during the current period of the year in reviews",
            "x": 0.98,
            "xref": "paper",
            "y": 1.1,
            "yref": "paper"
           },
           {
            "font": {
             "color": "black",
             "family": "Trebuchet MS, sans-serif",
             "size": 14,
             "weight": "bold"
            },
            "showarrow": false,
            "text": "Period-to-period variation of emotions in reviews",
            "x": 0,
            "xref": "paper",
            "y": 1.16,
            "yref": "paper"
           },
           {
            "align": "center",
            "font": {
             "color": "black",
             "family": "Trebuchet MS, sans-serif",
             "size": 14,
             "weight": "bold"
            },
            "showarrow": false,
            "text": "Variation trends from Halloween to Thanksgiving",
            "x": 0,
            "xref": "paper",
            "y": 1.1,
            "yref": "paper"
           }
          ]
         },
         "name": "November"
        },
        {
         "data": [
          {
           "hovertemplate": "Variation of %{x}: %{y} % <extra></extra>",
           "marker": {
            "color": "#e13c29",
            "size": 27.423478621085945,
            "symbol": "triangle-down"
           },
           "mode": "markers+text",
           "text": [
            "<b><span style='color: red;'>-3.48%</span> 😠</b>"
           ],
           "textposition": "bottom center",
           "type": "scatter",
           "x": [
            "Anger"
           ],
           "y": [
            -3.484695724217189
           ]
          },
          {
           "hovertemplate": "Variation of %{x}: %{y} % <extra></extra>",
           "marker": {
            "color": "#8bc664",
            "size": 35.443927495510856,
            "symbol": "triangle-down"
           },
           "mode": "markers+text",
           "text": [
            "<b><span style='color: red;'>-5.09%</span> 🤢</b>"
           ],
           "textposition": "bottom center",
           "type": "scatter",
           "x": [
            "Disgust"
           ],
           "y": [
            -5.088785499102171
           ]
          },
          {
           "hovertemplate": "Variation of %{x}: %{y} % <extra></extra>",
           "marker": {
            "color": "#b99be5",
            "size": 54.60359283414856,
            "symbol": "triangle-down"
           },
           "mode": "markers+text",
           "text": [
            "<b><span style='color: red;'>-8.92%</span> 😨</b>"
           ],
           "textposition": "bottom center",
           "type": "scatter",
           "x": [
            "Fear"
           ],
           "y": [
            -8.920718566829711
           ]
          },
          {
           "hovertemplate": "Variation of %{x}: %{y} % <extra></extra>",
           "marker": {
            "color": "#f3c35f",
            "size": 41.454965132613836,
            "symbol": "triangle-up"
           },
           "mode": "markers+text",
           "text": [
            "<b><span style='color: green;'>+6.29%</span> 😊</b>"
           ],
           "textposition": "top center",
           "type": "scatter",
           "x": [
            "Joy"
           ],
           "y": [
            6.290993026522767
           ]
          },
          {
           "hovertemplate": "Variation of %{x}: %{y} % <extra></extra>",
           "marker": {
            "color": "#85b8ed",
            "size": 11.64759041710363,
            "symbol": "triangle-down"
           },
           "mode": "markers+text",
           "text": [
            "<b><span style='color: red;'>-0.33%</span> 😢</b>"
           ],
           "textposition": "bottom center",
           "type": "scatter",
           "x": [
            "Sadness"
           ],
           "y": [
            -0.3295180834207261
           ]
          },
          {
           "hovertemplate": "Variation of %{x}: %{y} % <extra></extra>",
           "marker": {
            "color": "#de9f81",
            "size": 10.816929987962194,
            "symbol": "triangle-up"
           },
           "mode": "markers+text",
           "text": [
            "<b><span style='color: green;'>+0.16%</span> 😲</b>"
           ],
           "textposition": "top center",
           "type": "scatter",
           "x": [
            "Surprise"
           ],
           "y": [
            0.1633859975924387
           ]
          },
          {
           "hovertemplate": "Mean score of %{x}: %{y} <extra></extra>",
           "marker": {
            "color": [
             "#e13c29",
             "#8bc664",
             "#b99be5",
             "#f3c35f",
             "#85b8ed",
             "#de9f81"
            ]
           },
           "name": "Mean score (December)",
           "type": "bar",
           "x": [
            "Anger",
            "Disgust",
            "Fear",
            "Joy",
            "Sadness",
            "Surprise"
           ],
           "y": [
            0.09226059241211235,
            0.16708719569181185,
            0.08705623878527471,
            0.35497244523779364,
            0.1377965546064086,
            0.16082697326659884
           ]
          }
         ],
         "layout": {
          "annotations": [
           {
            "font": {
             "color": "#f3c35f",
             "family": "Arial, sans-serif",
             "size": 18
            },
            "showarrow": false,
            "text": "<b>December : Christmas 🎄🎅<br>Significant variation from last month : Joy 😊</b>",
            "x": 0.47,
            "xref": "paper",
            "y": 1.31,
            "yref": "paper"
           },
           {
            "font": {
             "color": "black",
             "family": "Trebuchet MS, sans-serif",
             "size": 14,
             "weight": "bold"
            },
            "showarrow": false,
            "text": "Mean score for each emotion during the current period of the year in reviews",
            "x": 0.98,
            "xref": "paper",
            "y": 1.1,
            "yref": "paper"
           },
           {
            "font": {
             "color": "black",
             "family": "Trebuchet MS, sans-serif",
             "size": 14,
             "weight": "bold"
            },
            "showarrow": false,
            "text": "Period-to-period variation of emotions in reviews",
            "x": 0,
            "xref": "paper",
            "y": 1.16,
            "yref": "paper"
           },
           {
            "align": "center",
            "font": {
             "color": "black",
             "family": "Trebuchet MS, sans-serif",
             "size": 14,
             "weight": "bold"
            },
            "showarrow": false,
            "text": "Variation trends from Thanksgiving to Christmas",
            "x": 0,
            "xref": "paper",
            "y": 1.1,
            "yref": "paper"
           }
          ]
         },
         "name": "December"
        }
       ],
       "layout": {
        "annotations": [
         {
          "font": {
           "color": "#8bc664",
           "family": "Arial, sans-serif",
           "size": 18
          },
          "showarrow": false,
          "text": "<b>January : New Year 🎆🎇<br>Significant variation from last month : Disgust 🤢</b>",
          "x": 0.47,
          "xref": "paper",
          "y": 1.31,
          "yref": "paper"
         },
         {
          "font": {
           "color": "black",
           "family": "Trebuchet MS, sans-serif",
           "size": 14,
           "weight": "bold"
          },
          "showarrow": false,
          "text": "Mean score for each emotion during the current period of the year in reviews",
          "x": 0.98,
          "xref": "paper",
          "y": 1.1,
          "yref": "paper"
         },
         {
          "font": {
           "color": "black",
           "family": "Trebuchet MS, sans-serif",
           "size": 14,
           "weight": "bold"
          },
          "showarrow": false,
          "text": "Period-to-period variation of emotions in reviews",
          "x": 0,
          "xref": "paper",
          "y": 1.16,
          "yref": "paper"
         },
         {
          "align": "center",
          "font": {
           "color": "black",
           "family": "Trebuchet MS, sans-serif",
           "size": 14,
           "weight": "bold"
          },
          "showarrow": false,
          "text": "Variation trends from Christmas to New Year",
          "x": 0,
          "xref": "paper",
          "y": 1.1,
          "yref": "paper"
         }
        ],
        "autosize": true,
        "height": 600,
        "margin": {
         "b": 50,
         "l": 50,
         "r": 50,
         "t": 150
        },
        "showlegend": false,
        "sliders": [
         {
          "active": 0,
          "currentvalue": {
           "font": {
            "color": "black",
            "size": 15
           },
           "prefix": "Month: "
          },
          "steps": [
           {
            "args": [
             [
              "January"
             ],
             {
              "frame": {
               "duration": 0,
               "redraw": true
              },
              "mode": "immediate"
             }
            ],
            "label": "January",
            "method": "animate"
           },
           {
            "args": [
             [
              "February"
             ],
             {
              "frame": {
               "duration": 0,
               "redraw": true
              },
              "mode": "immediate"
             }
            ],
            "label": "February",
            "method": "animate"
           },
           {
            "args": [
             [
              "March"
             ],
             {
              "frame": {
               "duration": 0,
               "redraw": true
              },
              "mode": "immediate"
             }
            ],
            "label": "March",
            "method": "animate"
           },
           {
            "args": [
             [
              "April"
             ],
             {
              "frame": {
               "duration": 0,
               "redraw": true
              },
              "mode": "immediate"
             }
            ],
            "label": "April",
            "method": "animate"
           },
           {
            "args": [
             [
              "May"
             ],
             {
              "frame": {
               "duration": 0,
               "redraw": true
              },
              "mode": "immediate"
             }
            ],
            "label": "May",
            "method": "animate"
           },
           {
            "args": [
             [
              "June/July"
             ],
             {
              "frame": {
               "duration": 0,
               "redraw": true
              },
              "mode": "immediate"
             }
            ],
            "label": "June/July",
            "method": "animate"
           },
           {
            "args": [
             [
              "August/September"
             ],
             {
              "frame": {
               "duration": 0,
               "redraw": true
              },
              "mode": "immediate"
             }
            ],
            "label": "August/September",
            "method": "animate"
           },
           {
            "args": [
             [
              "October"
             ],
             {
              "frame": {
               "duration": 0,
               "redraw": true
              },
              "mode": "immediate"
             }
            ],
            "label": "October",
            "method": "animate"
           },
           {
            "args": [
             [
              "November"
             ],
             {
              "frame": {
               "duration": 0,
               "redraw": true
              },
              "mode": "immediate"
             }
            ],
            "label": "November",
            "method": "animate"
           },
           {
            "args": [
             [
              "December"
             ],
             {
              "frame": {
               "duration": 0,
               "redraw": true
              },
              "mode": "immediate"
             }
            ],
            "label": "December",
            "method": "animate"
           }
          ]
         }
        ],
        "template": {
         "data": {
          "bar": [
           {
            "error_x": {
             "color": "#2a3f5f"
            },
            "error_y": {
             "color": "#2a3f5f"
            },
            "marker": {
             "line": {
              "color": "white",
              "width": 0.5
             },
             "pattern": {
              "fillmode": "overlay",
              "size": 10,
              "solidity": 0.2
             }
            },
            "type": "bar"
           }
          ],
          "barpolar": [
           {
            "marker": {
             "line": {
              "color": "white",
              "width": 0.5
             },
             "pattern": {
              "fillmode": "overlay",
              "size": 10,
              "solidity": 0.2
             }
            },
            "type": "barpolar"
           }
          ],
          "carpet": [
           {
            "aaxis": {
             "endlinecolor": "#2a3f5f",
             "gridcolor": "#C8D4E3",
             "linecolor": "#C8D4E3",
             "minorgridcolor": "#C8D4E3",
             "startlinecolor": "#2a3f5f"
            },
            "baxis": {
             "endlinecolor": "#2a3f5f",
             "gridcolor": "#C8D4E3",
             "linecolor": "#C8D4E3",
             "minorgridcolor": "#C8D4E3",
             "startlinecolor": "#2a3f5f"
            },
            "type": "carpet"
           }
          ],
          "choropleth": [
           {
            "colorbar": {
             "outlinewidth": 0,
             "ticks": ""
            },
            "type": "choropleth"
           }
          ],
          "contour": [
           {
            "colorbar": {
             "outlinewidth": 0,
             "ticks": ""
            },
            "colorscale": [
             [
              0,
              "#0d0887"
             ],
             [
              0.1111111111111111,
              "#46039f"
             ],
             [
              0.2222222222222222,
              "#7201a8"
             ],
             [
              0.3333333333333333,
              "#9c179e"
             ],
             [
              0.4444444444444444,
              "#bd3786"
             ],
             [
              0.5555555555555556,
              "#d8576b"
             ],
             [
              0.6666666666666666,
              "#ed7953"
             ],
             [
              0.7777777777777778,
              "#fb9f3a"
             ],
             [
              0.8888888888888888,
              "#fdca26"
             ],
             [
              1,
              "#f0f921"
             ]
            ],
            "type": "contour"
           }
          ],
          "contourcarpet": [
           {
            "colorbar": {
             "outlinewidth": 0,
             "ticks": ""
            },
            "type": "contourcarpet"
           }
          ],
          "heatmap": [
           {
            "colorbar": {
             "outlinewidth": 0,
             "ticks": ""
            },
            "colorscale": [
             [
              0,
              "#0d0887"
             ],
             [
              0.1111111111111111,
              "#46039f"
             ],
             [
              0.2222222222222222,
              "#7201a8"
             ],
             [
              0.3333333333333333,
              "#9c179e"
             ],
             [
              0.4444444444444444,
              "#bd3786"
             ],
             [
              0.5555555555555556,
              "#d8576b"
             ],
             [
              0.6666666666666666,
              "#ed7953"
             ],
             [
              0.7777777777777778,
              "#fb9f3a"
             ],
             [
              0.8888888888888888,
              "#fdca26"
             ],
             [
              1,
              "#f0f921"
             ]
            ],
            "type": "heatmap"
           }
          ],
          "heatmapgl": [
           {
            "colorbar": {
             "outlinewidth": 0,
             "ticks": ""
            },
            "colorscale": [
             [
              0,
              "#0d0887"
             ],
             [
              0.1111111111111111,
              "#46039f"
             ],
             [
              0.2222222222222222,
              "#7201a8"
             ],
             [
              0.3333333333333333,
              "#9c179e"
             ],
             [
              0.4444444444444444,
              "#bd3786"
             ],
             [
              0.5555555555555556,
              "#d8576b"
             ],
             [
              0.6666666666666666,
              "#ed7953"
             ],
             [
              0.7777777777777778,
              "#fb9f3a"
             ],
             [
              0.8888888888888888,
              "#fdca26"
             ],
             [
              1,
              "#f0f921"
             ]
            ],
            "type": "heatmapgl"
           }
          ],
          "histogram": [
           {
            "marker": {
             "pattern": {
              "fillmode": "overlay",
              "size": 10,
              "solidity": 0.2
             }
            },
            "type": "histogram"
           }
          ],
          "histogram2d": [
           {
            "colorbar": {
             "outlinewidth": 0,
             "ticks": ""
            },
            "colorscale": [
             [
              0,
              "#0d0887"
             ],
             [
              0.1111111111111111,
              "#46039f"
             ],
             [
              0.2222222222222222,
              "#7201a8"
             ],
             [
              0.3333333333333333,
              "#9c179e"
             ],
             [
              0.4444444444444444,
              "#bd3786"
             ],
             [
              0.5555555555555556,
              "#d8576b"
             ],
             [
              0.6666666666666666,
              "#ed7953"
             ],
             [
              0.7777777777777778,
              "#fb9f3a"
             ],
             [
              0.8888888888888888,
              "#fdca26"
             ],
             [
              1,
              "#f0f921"
             ]
            ],
            "type": "histogram2d"
           }
          ],
          "histogram2dcontour": [
           {
            "colorbar": {
             "outlinewidth": 0,
             "ticks": ""
            },
            "colorscale": [
             [
              0,
              "#0d0887"
             ],
             [
              0.1111111111111111,
              "#46039f"
             ],
             [
              0.2222222222222222,
              "#7201a8"
             ],
             [
              0.3333333333333333,
              "#9c179e"
             ],
             [
              0.4444444444444444,
              "#bd3786"
             ],
             [
              0.5555555555555556,
              "#d8576b"
             ],
             [
              0.6666666666666666,
              "#ed7953"
             ],
             [
              0.7777777777777778,
              "#fb9f3a"
             ],
             [
              0.8888888888888888,
              "#fdca26"
             ],
             [
              1,
              "#f0f921"
             ]
            ],
            "type": "histogram2dcontour"
           }
          ],
          "mesh3d": [
           {
            "colorbar": {
             "outlinewidth": 0,
             "ticks": ""
            },
            "type": "mesh3d"
           }
          ],
          "parcoords": [
           {
            "line": {
             "colorbar": {
              "outlinewidth": 0,
              "ticks": ""
             }
            },
            "type": "parcoords"
           }
          ],
          "pie": [
           {
            "automargin": true,
            "type": "pie"
           }
          ],
          "scatter": [
           {
            "fillpattern": {
             "fillmode": "overlay",
             "size": 10,
             "solidity": 0.2
            },
            "type": "scatter"
           }
          ],
          "scatter3d": [
           {
            "line": {
             "colorbar": {
              "outlinewidth": 0,
              "ticks": ""
             }
            },
            "marker": {
             "colorbar": {
              "outlinewidth": 0,
              "ticks": ""
             }
            },
            "type": "scatter3d"
           }
          ],
          "scattercarpet": [
           {
            "marker": {
             "colorbar": {
              "outlinewidth": 0,
              "ticks": ""
             }
            },
            "type": "scattercarpet"
           }
          ],
          "scattergeo": [
           {
            "marker": {
             "colorbar": {
              "outlinewidth": 0,
              "ticks": ""
             }
            },
            "type": "scattergeo"
           }
          ],
          "scattergl": [
           {
            "marker": {
             "colorbar": {
              "outlinewidth": 0,
              "ticks": ""
             }
            },
            "type": "scattergl"
           }
          ],
          "scattermapbox": [
           {
            "marker": {
             "colorbar": {
              "outlinewidth": 0,
              "ticks": ""
             }
            },
            "type": "scattermapbox"
           }
          ],
          "scatterpolar": [
           {
            "marker": {
             "colorbar": {
              "outlinewidth": 0,
              "ticks": ""
             }
            },
            "type": "scatterpolar"
           }
          ],
          "scatterpolargl": [
           {
            "marker": {
             "colorbar": {
              "outlinewidth": 0,
              "ticks": ""
             }
            },
            "type": "scatterpolargl"
           }
          ],
          "scatterternary": [
           {
            "marker": {
             "colorbar": {
              "outlinewidth": 0,
              "ticks": ""
             }
            },
            "type": "scatterternary"
           }
          ],
          "surface": [
           {
            "colorbar": {
             "outlinewidth": 0,
             "ticks": ""
            },
            "colorscale": [
             [
              0,
              "#0d0887"
             ],
             [
              0.1111111111111111,
              "#46039f"
             ],
             [
              0.2222222222222222,
              "#7201a8"
             ],
             [
              0.3333333333333333,
              "#9c179e"
             ],
             [
              0.4444444444444444,
              "#bd3786"
             ],
             [
              0.5555555555555556,
              "#d8576b"
             ],
             [
              0.6666666666666666,
              "#ed7953"
             ],
             [
              0.7777777777777778,
              "#fb9f3a"
             ],
             [
              0.8888888888888888,
              "#fdca26"
             ],
             [
              1,
              "#f0f921"
             ]
            ],
            "type": "surface"
           }
          ],
          "table": [
           {
            "cells": {
             "fill": {
              "color": "#EBF0F8"
             },
             "line": {
              "color": "white"
             }
            },
            "header": {
             "fill": {
              "color": "#C8D4E3"
             },
             "line": {
              "color": "white"
             }
            },
            "type": "table"
           }
          ]
         },
         "layout": {
          "annotationdefaults": {
           "arrowcolor": "#2a3f5f",
           "arrowhead": 0,
           "arrowwidth": 1
          },
          "autotypenumbers": "strict",
          "coloraxis": {
           "colorbar": {
            "outlinewidth": 0,
            "ticks": ""
           }
          },
          "colorscale": {
           "diverging": [
            [
             0,
             "#8e0152"
            ],
            [
             0.1,
             "#c51b7d"
            ],
            [
             0.2,
             "#de77ae"
            ],
            [
             0.3,
             "#f1b6da"
            ],
            [
             0.4,
             "#fde0ef"
            ],
            [
             0.5,
             "#f7f7f7"
            ],
            [
             0.6,
             "#e6f5d0"
            ],
            [
             0.7,
             "#b8e186"
            ],
            [
             0.8,
             "#7fbc41"
            ],
            [
             0.9,
             "#4d9221"
            ],
            [
             1,
             "#276419"
            ]
           ],
           "sequential": [
            [
             0,
             "#0d0887"
            ],
            [
             0.1111111111111111,
             "#46039f"
            ],
            [
             0.2222222222222222,
             "#7201a8"
            ],
            [
             0.3333333333333333,
             "#9c179e"
            ],
            [
             0.4444444444444444,
             "#bd3786"
            ],
            [
             0.5555555555555556,
             "#d8576b"
            ],
            [
             0.6666666666666666,
             "#ed7953"
            ],
            [
             0.7777777777777778,
             "#fb9f3a"
            ],
            [
             0.8888888888888888,
             "#fdca26"
            ],
            [
             1,
             "#f0f921"
            ]
           ],
           "sequentialminus": [
            [
             0,
             "#0d0887"
            ],
            [
             0.1111111111111111,
             "#46039f"
            ],
            [
             0.2222222222222222,
             "#7201a8"
            ],
            [
             0.3333333333333333,
             "#9c179e"
            ],
            [
             0.4444444444444444,
             "#bd3786"
            ],
            [
             0.5555555555555556,
             "#d8576b"
            ],
            [
             0.6666666666666666,
             "#ed7953"
            ],
            [
             0.7777777777777778,
             "#fb9f3a"
            ],
            [
             0.8888888888888888,
             "#fdca26"
            ],
            [
             1,
             "#f0f921"
            ]
           ]
          },
          "colorway": [
           "#636efa",
           "#EF553B",
           "#00cc96",
           "#ab63fa",
           "#FFA15A",
           "#19d3f3",
           "#FF6692",
           "#B6E880",
           "#FF97FF",
           "#FECB52"
          ],
          "font": {
           "color": "#2a3f5f"
          },
          "geo": {
           "bgcolor": "white",
           "lakecolor": "white",
           "landcolor": "white",
           "showlakes": true,
           "showland": true,
           "subunitcolor": "#C8D4E3"
          },
          "hoverlabel": {
           "align": "left"
          },
          "hovermode": "closest",
          "mapbox": {
           "style": "light"
          },
          "paper_bgcolor": "white",
          "plot_bgcolor": "white",
          "polar": {
           "angularaxis": {
            "gridcolor": "#EBF0F8",
            "linecolor": "#EBF0F8",
            "ticks": ""
           },
           "bgcolor": "white",
           "radialaxis": {
            "gridcolor": "#EBF0F8",
            "linecolor": "#EBF0F8",
            "ticks": ""
           }
          },
          "scene": {
           "xaxis": {
            "backgroundcolor": "white",
            "gridcolor": "#DFE8F3",
            "gridwidth": 2,
            "linecolor": "#EBF0F8",
            "showbackground": true,
            "ticks": "",
            "zerolinecolor": "#EBF0F8"
           },
           "yaxis": {
            "backgroundcolor": "white",
            "gridcolor": "#DFE8F3",
            "gridwidth": 2,
            "linecolor": "#EBF0F8",
            "showbackground": true,
            "ticks": "",
            "zerolinecolor": "#EBF0F8"
           },
           "zaxis": {
            "backgroundcolor": "white",
            "gridcolor": "#DFE8F3",
            "gridwidth": 2,
            "linecolor": "#EBF0F8",
            "showbackground": true,
            "ticks": "",
            "zerolinecolor": "#EBF0F8"
           }
          },
          "shapedefaults": {
           "line": {
            "color": "#2a3f5f"
           }
          },
          "ternary": {
           "aaxis": {
            "gridcolor": "#DFE8F3",
            "linecolor": "#A2B1C6",
            "ticks": ""
           },
           "baxis": {
            "gridcolor": "#DFE8F3",
            "linecolor": "#A2B1C6",
            "ticks": ""
           },
           "bgcolor": "white",
           "caxis": {
            "gridcolor": "#DFE8F3",
            "linecolor": "#A2B1C6",
            "ticks": ""
           }
          },
          "title": {
           "x": 0.05
          },
          "xaxis": {
           "automargin": true,
           "gridcolor": "#EBF0F8",
           "linecolor": "#EBF0F8",
           "ticks": "",
           "title": {
            "standoff": 15
           },
           "zerolinecolor": "#EBF0F8",
           "zerolinewidth": 2
          },
          "yaxis": {
           "automargin": true,
           "gridcolor": "#EBF0F8",
           "linecolor": "#EBF0F8",
           "ticks": "",
           "title": {
            "standoff": 15
           },
           "zerolinecolor": "#EBF0F8",
           "zerolinewidth": 2
          }
         }
        },
        "width": 1200,
        "xaxis": {
         "anchor": "y",
         "categoryorder": "total ascending",
         "domain": [
          0,
          0.45
         ],
         "range": [
          -0.5,
          5.5
         ],
         "title": {}
        },
        "xaxis2": {
         "anchor": "y2",
         "domain": [
          0.55,
          1
         ]
        },
        "yaxis": {
         "anchor": "x",
         "domain": [
          0,
          1
         ],
         "range": [
          -30,
          30
         ],
         "showticklabels": false,
         "title": {
          "text": "Variation (%)"
         }
        },
        "yaxis2": {
         "anchor": "x2",
         "domain": [
          0,
          1
         ],
         "range": [
          0,
          0.41
         ],
         "title": {
          "text": "Variation (%)"
         }
        }
       }
      }
     },
     "metadata": {},
     "output_type": "display_data"
    }
   ],
   "source": [
    "periodic_emotions_diff_review = plot_variation(\"review\", df_reviews_with_emotions_normalized)"
   ]
  },
  {
   "cell_type": "code",
   "execution_count": 10,
   "metadata": {
    "execution": {
     "iopub.execute_input": "2024-12-13T13:53:22.902650Z",
     "iopub.status.busy": "2024-12-13T13:53:22.902045Z",
     "iopub.status.idle": "2024-12-13T13:53:23.036474Z",
     "shell.execute_reply": "2024-12-13T13:53:23.035993Z",
     "shell.execute_reply.started": "2024-12-13T13:53:22.902629Z"
    },
    "tags": []
   },
   "outputs": [
    {
     "data": {
      "application/vnd.plotly.v1+json": {
       "config": {
        "plotlyServerURL": "https://plot.ly"
       },
       "data": [
        {
         "fill": "toself",
         "fillcolor": "#b0b0b0",
         "hoverinfo": "text",
         "mode": "none",
         "name": "Anger (0.565)",
         "opacity": 0.8,
         "r": [
          0.05,
          0.05,
          0.2075048941067857,
          0.2075048941067857
         ],
         "text": "Anger: correlation=0.21, p_value=0.565",
         "theta": [
          0,
          29.999999999999996,
          29.999999999999996,
          0
         ],
         "type": "scatterpolar"
        },
        {
         "fill": "toself",
         "fillcolor": "#8bc664",
         "hoverinfo": "text",
         "mode": "none",
         "name": "Disgust (0.020)",
         "opacity": 0.8,
         "r": [
          0.05,
          0.05,
          0.7147893437697166,
          0.7147893437697166
         ],
         "text": "Disgust: correlation=0.71, p_value=0.020",
         "theta": [
          59.99999999999999,
          90,
          90,
          59.99999999999999
         ],
         "type": "scatterpolar"
        },
        {
         "fill": "toself",
         "fillcolor": "#b0b0b0",
         "hoverinfo": "text",
         "mode": "none",
         "name": "Fear (0.256)",
         "opacity": 0.8,
         "r": [
          0.05,
          0.05,
          0.3969438129658,
          0.3969438129658
         ],
         "text": "Fear: correlation=0.40, p_value=0.256",
         "theta": [
          119.99999999999999,
          149.99999999999997,
          149.99999999999997,
          119.99999999999999
         ],
         "type": "scatterpolar"
        },
        {
         "fill": "toself",
         "fillcolor": "#b0b0b0",
         "hoverinfo": "text",
         "mode": "none",
         "name": "Joy (0.132)",
         "opacity": 0.8,
         "r": [
          0.05,
          0.05,
          0.5101737549841884,
          0.5101737549841884
         ],
         "text": "Joy: correlation=0.51, p_value=0.132",
         "theta": [
          180,
          210,
          210,
          180
         ],
         "type": "scatterpolar"
        },
        {
         "fill": "toself",
         "fillcolor": "#b0b0b0",
         "hoverinfo": "text",
         "mode": "none",
         "name": "Sadness (0.189)",
         "opacity": 0.8,
         "r": [
          0.05,
          0.05,
          0.45239570427571646,
          0.45239570427571646
         ],
         "text": "Sadness: correlation=0.45, p_value=0.189",
         "theta": [
          239.99999999999997,
          270,
          270,
          239.99999999999997
         ],
         "type": "scatterpolar"
        },
        {
         "fill": "toself",
         "fillcolor": "#b0b0b0",
         "hoverinfo": "text",
         "mode": "none",
         "name": "Surprise (0.697)",
         "opacity": 0.8,
         "r": [
          0.05,
          0.05,
          0.14134854343049208,
          0.14134854343049208
         ],
         "text": "Surprise: correlation=0.14, p_value=0.697",
         "theta": [
          299.99999999999994,
          330,
          330,
          299.99999999999994
         ],
         "type": "scatterpolar"
        }
       ],
       "layout": {
        "legend": {
         "bgcolor": "rgba(255,255,255,0.7)",
         "borderwidth": 1,
         "title": {
          "text": "H0: No correlation between reviews and plots period-to-period emotion variations<br>H0 rejected / correlation coefficient statistically significant : p < 0.05<br>H0 not rejected : p ≥ 0.05<br><br>P-Value significances : <br>"
         },
         "x": 1.1,
         "y": 1
        },
        "polar": {
         "angularaxis": {
          "direction": "clockwise",
          "rotation": 90,
          "showline": true,
          "ticktext": [
           "Anger",
           "Disgust",
           "Fear",
           "Joy",
           "Sadness",
           "Surprise"
          ],
          "tickvals": [
           14.999999999999998,
           74.99999999999999,
           135,
           195,
           254.99999999999997,
           314.99999999999994
          ]
         },
         "radialaxis": {
          "range": [
           0,
           0.8147893437697166
          ],
          "visible": true
         }
        },
        "showlegend": true,
        "template": {
         "data": {
          "bar": [
           {
            "error_x": {
             "color": "#2a3f5f"
            },
            "error_y": {
             "color": "#2a3f5f"
            },
            "marker": {
             "line": {
              "color": "white",
              "width": 0.5
             },
             "pattern": {
              "fillmode": "overlay",
              "size": 10,
              "solidity": 0.2
             }
            },
            "type": "bar"
           }
          ],
          "barpolar": [
           {
            "marker": {
             "line": {
              "color": "white",
              "width": 0.5
             },
             "pattern": {
              "fillmode": "overlay",
              "size": 10,
              "solidity": 0.2
             }
            },
            "type": "barpolar"
           }
          ],
          "carpet": [
           {
            "aaxis": {
             "endlinecolor": "#2a3f5f",
             "gridcolor": "#C8D4E3",
             "linecolor": "#C8D4E3",
             "minorgridcolor": "#C8D4E3",
             "startlinecolor": "#2a3f5f"
            },
            "baxis": {
             "endlinecolor": "#2a3f5f",
             "gridcolor": "#C8D4E3",
             "linecolor": "#C8D4E3",
             "minorgridcolor": "#C8D4E3",
             "startlinecolor": "#2a3f5f"
            },
            "type": "carpet"
           }
          ],
          "choropleth": [
           {
            "colorbar": {
             "outlinewidth": 0,
             "ticks": ""
            },
            "type": "choropleth"
           }
          ],
          "contour": [
           {
            "colorbar": {
             "outlinewidth": 0,
             "ticks": ""
            },
            "colorscale": [
             [
              0,
              "#0d0887"
             ],
             [
              0.1111111111111111,
              "#46039f"
             ],
             [
              0.2222222222222222,
              "#7201a8"
             ],
             [
              0.3333333333333333,
              "#9c179e"
             ],
             [
              0.4444444444444444,
              "#bd3786"
             ],
             [
              0.5555555555555556,
              "#d8576b"
             ],
             [
              0.6666666666666666,
              "#ed7953"
             ],
             [
              0.7777777777777778,
              "#fb9f3a"
             ],
             [
              0.8888888888888888,
              "#fdca26"
             ],
             [
              1,
              "#f0f921"
             ]
            ],
            "type": "contour"
           }
          ],
          "contourcarpet": [
           {
            "colorbar": {
             "outlinewidth": 0,
             "ticks": ""
            },
            "type": "contourcarpet"
           }
          ],
          "heatmap": [
           {
            "colorbar": {
             "outlinewidth": 0,
             "ticks": ""
            },
            "colorscale": [
             [
              0,
              "#0d0887"
             ],
             [
              0.1111111111111111,
              "#46039f"
             ],
             [
              0.2222222222222222,
              "#7201a8"
             ],
             [
              0.3333333333333333,
              "#9c179e"
             ],
             [
              0.4444444444444444,
              "#bd3786"
             ],
             [
              0.5555555555555556,
              "#d8576b"
             ],
             [
              0.6666666666666666,
              "#ed7953"
             ],
             [
              0.7777777777777778,
              "#fb9f3a"
             ],
             [
              0.8888888888888888,
              "#fdca26"
             ],
             [
              1,
              "#f0f921"
             ]
            ],
            "type": "heatmap"
           }
          ],
          "heatmapgl": [
           {
            "colorbar": {
             "outlinewidth": 0,
             "ticks": ""
            },
            "colorscale": [
             [
              0,
              "#0d0887"
             ],
             [
              0.1111111111111111,
              "#46039f"
             ],
             [
              0.2222222222222222,
              "#7201a8"
             ],
             [
              0.3333333333333333,
              "#9c179e"
             ],
             [
              0.4444444444444444,
              "#bd3786"
             ],
             [
              0.5555555555555556,
              "#d8576b"
             ],
             [
              0.6666666666666666,
              "#ed7953"
             ],
             [
              0.7777777777777778,
              "#fb9f3a"
             ],
             [
              0.8888888888888888,
              "#fdca26"
             ],
             [
              1,
              "#f0f921"
             ]
            ],
            "type": "heatmapgl"
           }
          ],
          "histogram": [
           {
            "marker": {
             "pattern": {
              "fillmode": "overlay",
              "size": 10,
              "solidity": 0.2
             }
            },
            "type": "histogram"
           }
          ],
          "histogram2d": [
           {
            "colorbar": {
             "outlinewidth": 0,
             "ticks": ""
            },
            "colorscale": [
             [
              0,
              "#0d0887"
             ],
             [
              0.1111111111111111,
              "#46039f"
             ],
             [
              0.2222222222222222,
              "#7201a8"
             ],
             [
              0.3333333333333333,
              "#9c179e"
             ],
             [
              0.4444444444444444,
              "#bd3786"
             ],
             [
              0.5555555555555556,
              "#d8576b"
             ],
             [
              0.6666666666666666,
              "#ed7953"
             ],
             [
              0.7777777777777778,
              "#fb9f3a"
             ],
             [
              0.8888888888888888,
              "#fdca26"
             ],
             [
              1,
              "#f0f921"
             ]
            ],
            "type": "histogram2d"
           }
          ],
          "histogram2dcontour": [
           {
            "colorbar": {
             "outlinewidth": 0,
             "ticks": ""
            },
            "colorscale": [
             [
              0,
              "#0d0887"
             ],
             [
              0.1111111111111111,
              "#46039f"
             ],
             [
              0.2222222222222222,
              "#7201a8"
             ],
             [
              0.3333333333333333,
              "#9c179e"
             ],
             [
              0.4444444444444444,
              "#bd3786"
             ],
             [
              0.5555555555555556,
              "#d8576b"
             ],
             [
              0.6666666666666666,
              "#ed7953"
             ],
             [
              0.7777777777777778,
              "#fb9f3a"
             ],
             [
              0.8888888888888888,
              "#fdca26"
             ],
             [
              1,
              "#f0f921"
             ]
            ],
            "type": "histogram2dcontour"
           }
          ],
          "mesh3d": [
           {
            "colorbar": {
             "outlinewidth": 0,
             "ticks": ""
            },
            "type": "mesh3d"
           }
          ],
          "parcoords": [
           {
            "line": {
             "colorbar": {
              "outlinewidth": 0,
              "ticks": ""
             }
            },
            "type": "parcoords"
           }
          ],
          "pie": [
           {
            "automargin": true,
            "type": "pie"
           }
          ],
          "scatter": [
           {
            "fillpattern": {
             "fillmode": "overlay",
             "size": 10,
             "solidity": 0.2
            },
            "type": "scatter"
           }
          ],
          "scatter3d": [
           {
            "line": {
             "colorbar": {
              "outlinewidth": 0,
              "ticks": ""
             }
            },
            "marker": {
             "colorbar": {
              "outlinewidth": 0,
              "ticks": ""
             }
            },
            "type": "scatter3d"
           }
          ],
          "scattercarpet": [
           {
            "marker": {
             "colorbar": {
              "outlinewidth": 0,
              "ticks": ""
             }
            },
            "type": "scattercarpet"
           }
          ],
          "scattergeo": [
           {
            "marker": {
             "colorbar": {
              "outlinewidth": 0,
              "ticks": ""
             }
            },
            "type": "scattergeo"
           }
          ],
          "scattergl": [
           {
            "marker": {
             "colorbar": {
              "outlinewidth": 0,
              "ticks": ""
             }
            },
            "type": "scattergl"
           }
          ],
          "scattermapbox": [
           {
            "marker": {
             "colorbar": {
              "outlinewidth": 0,
              "ticks": ""
             }
            },
            "type": "scattermapbox"
           }
          ],
          "scatterpolar": [
           {
            "marker": {
             "colorbar": {
              "outlinewidth": 0,
              "ticks": ""
             }
            },
            "type": "scatterpolar"
           }
          ],
          "scatterpolargl": [
           {
            "marker": {
             "colorbar": {
              "outlinewidth": 0,
              "ticks": ""
             }
            },
            "type": "scatterpolargl"
           }
          ],
          "scatterternary": [
           {
            "marker": {
             "colorbar": {
              "outlinewidth": 0,
              "ticks": ""
             }
            },
            "type": "scatterternary"
           }
          ],
          "surface": [
           {
            "colorbar": {
             "outlinewidth": 0,
             "ticks": ""
            },
            "colorscale": [
             [
              0,
              "#0d0887"
             ],
             [
              0.1111111111111111,
              "#46039f"
             ],
             [
              0.2222222222222222,
              "#7201a8"
             ],
             [
              0.3333333333333333,
              "#9c179e"
             ],
             [
              0.4444444444444444,
              "#bd3786"
             ],
             [
              0.5555555555555556,
              "#d8576b"
             ],
             [
              0.6666666666666666,
              "#ed7953"
             ],
             [
              0.7777777777777778,
              "#fb9f3a"
             ],
             [
              0.8888888888888888,
              "#fdca26"
             ],
             [
              1,
              "#f0f921"
             ]
            ],
            "type": "surface"
           }
          ],
          "table": [
           {
            "cells": {
             "fill": {
              "color": "#EBF0F8"
             },
             "line": {
              "color": "white"
             }
            },
            "header": {
             "fill": {
              "color": "#C8D4E3"
             },
             "line": {
              "color": "white"
             }
            },
            "type": "table"
           }
          ]
         },
         "layout": {
          "annotationdefaults": {
           "arrowcolor": "#2a3f5f",
           "arrowhead": 0,
           "arrowwidth": 1
          },
          "autotypenumbers": "strict",
          "coloraxis": {
           "colorbar": {
            "outlinewidth": 0,
            "ticks": ""
           }
          },
          "colorscale": {
           "diverging": [
            [
             0,
             "#8e0152"
            ],
            [
             0.1,
             "#c51b7d"
            ],
            [
             0.2,
             "#de77ae"
            ],
            [
             0.3,
             "#f1b6da"
            ],
            [
             0.4,
             "#fde0ef"
            ],
            [
             0.5,
             "#f7f7f7"
            ],
            [
             0.6,
             "#e6f5d0"
            ],
            [
             0.7,
             "#b8e186"
            ],
            [
             0.8,
             "#7fbc41"
            ],
            [
             0.9,
             "#4d9221"
            ],
            [
             1,
             "#276419"
            ]
           ],
           "sequential": [
            [
             0,
             "#0d0887"
            ],
            [
             0.1111111111111111,
             "#46039f"
            ],
            [
             0.2222222222222222,
             "#7201a8"
            ],
            [
             0.3333333333333333,
             "#9c179e"
            ],
            [
             0.4444444444444444,
             "#bd3786"
            ],
            [
             0.5555555555555556,
             "#d8576b"
            ],
            [
             0.6666666666666666,
             "#ed7953"
            ],
            [
             0.7777777777777778,
             "#fb9f3a"
            ],
            [
             0.8888888888888888,
             "#fdca26"
            ],
            [
             1,
             "#f0f921"
            ]
           ],
           "sequentialminus": [
            [
             0,
             "#0d0887"
            ],
            [
             0.1111111111111111,
             "#46039f"
            ],
            [
             0.2222222222222222,
             "#7201a8"
            ],
            [
             0.3333333333333333,
             "#9c179e"
            ],
            [
             0.4444444444444444,
             "#bd3786"
            ],
            [
             0.5555555555555556,
             "#d8576b"
            ],
            [
             0.6666666666666666,
             "#ed7953"
            ],
            [
             0.7777777777777778,
             "#fb9f3a"
            ],
            [
             0.8888888888888888,
             "#fdca26"
            ],
            [
             1,
             "#f0f921"
            ]
           ]
          },
          "colorway": [
           "#636efa",
           "#EF553B",
           "#00cc96",
           "#ab63fa",
           "#FFA15A",
           "#19d3f3",
           "#FF6692",
           "#B6E880",
           "#FF97FF",
           "#FECB52"
          ],
          "font": {
           "color": "#2a3f5f"
          },
          "geo": {
           "bgcolor": "white",
           "lakecolor": "white",
           "landcolor": "white",
           "showlakes": true,
           "showland": true,
           "subunitcolor": "#C8D4E3"
          },
          "hoverlabel": {
           "align": "left"
          },
          "hovermode": "closest",
          "mapbox": {
           "style": "light"
          },
          "paper_bgcolor": "white",
          "plot_bgcolor": "white",
          "polar": {
           "angularaxis": {
            "gridcolor": "#EBF0F8",
            "linecolor": "#EBF0F8",
            "ticks": ""
           },
           "bgcolor": "white",
           "radialaxis": {
            "gridcolor": "#EBF0F8",
            "linecolor": "#EBF0F8",
            "ticks": ""
           }
          },
          "scene": {
           "xaxis": {
            "backgroundcolor": "white",
            "gridcolor": "#DFE8F3",
            "gridwidth": 2,
            "linecolor": "#EBF0F8",
            "showbackground": true,
            "ticks": "",
            "zerolinecolor": "#EBF0F8"
           },
           "yaxis": {
            "backgroundcolor": "white",
            "gridcolor": "#DFE8F3",
            "gridwidth": 2,
            "linecolor": "#EBF0F8",
            "showbackground": true,
            "ticks": "",
            "zerolinecolor": "#EBF0F8"
           },
           "zaxis": {
            "backgroundcolor": "white",
            "gridcolor": "#DFE8F3",
            "gridwidth": 2,
            "linecolor": "#EBF0F8",
            "showbackground": true,
            "ticks": "",
            "zerolinecolor": "#EBF0F8"
           }
          },
          "shapedefaults": {
           "line": {
            "color": "#2a3f5f"
           }
          },
          "ternary": {
           "aaxis": {
            "gridcolor": "#DFE8F3",
            "linecolor": "#A2B1C6",
            "ticks": ""
           },
           "baxis": {
            "gridcolor": "#DFE8F3",
            "linecolor": "#A2B1C6",
            "ticks": ""
           },
           "bgcolor": "white",
           "caxis": {
            "gridcolor": "#DFE8F3",
            "linecolor": "#A2B1C6",
            "ticks": ""
           }
          },
          "title": {
           "x": 0.05
          },
          "xaxis": {
           "automargin": true,
           "gridcolor": "#EBF0F8",
           "linecolor": "#EBF0F8",
           "ticks": "",
           "title": {
            "standoff": 15
           },
           "zerolinecolor": "#EBF0F8",
           "zerolinewidth": 2
          },
          "yaxis": {
           "automargin": true,
           "gridcolor": "#EBF0F8",
           "linecolor": "#EBF0F8",
           "ticks": "",
           "title": {
            "standoff": 15
           },
           "zerolinecolor": "#EBF0F8",
           "zerolinewidth": 2
          }
         }
        },
        "title": {
         "text": "Correlation and significance analysis of emotional evolution throughout the year between plots and reviews"
        }
       }
      }
     },
     "metadata": {},
     "output_type": "display_data"
    }
   ],
   "source": [
    "corr_p_value_plot_periods(periodic_emotions_diff_plot, periodic_emotions_diff_review)"
   ]
  },
  {
   "cell_type": "code",
   "execution_count": 11,
   "metadata": {
    "execution": {
     "iopub.execute_input": "2024-12-13T13:53:23.037539Z",
     "iopub.status.busy": "2024-12-13T13:53:23.037424Z",
     "iopub.status.idle": "2024-12-13T13:53:23.282181Z",
     "shell.execute_reply": "2024-12-13T13:53:23.281624Z",
     "shell.execute_reply.started": "2024-12-13T13:53:23.037525Z"
    },
    "tags": []
   },
   "outputs": [
    {
     "data": {
      "application/vnd.plotly.v1+json": {
       "config": {
        "plotlyServerURL": "https://plot.ly"
       },
       "data": [
        {
         "colorscale": [
          [
           0,
           "rgb(5,48,97)"
          ],
          [
           0.1,
           "rgb(33,102,172)"
          ],
          [
           0.2,
           "rgb(67,147,195)"
          ],
          [
           0.3,
           "rgb(146,197,222)"
          ],
          [
           0.4,
           "rgb(209,229,240)"
          ],
          [
           0.5,
           "rgb(247,247,247)"
          ],
          [
           0.6,
           "rgb(253,219,199)"
          ],
          [
           0.7,
           "rgb(244,165,130)"
          ],
          [
           0.8,
           "rgb(214,96,77)"
          ],
          [
           0.9,
           "rgb(178,24,43)"
          ],
          [
           1,
           "rgb(103,0,31)"
          ]
         ],
         "hovertemplate": "Correlation [%{x} - %{y}]: %{z:.2f}<extra></extra>",
         "showscale": true,
         "text": [
          [
           "0.27",
           "-0.10",
           "0.20",
           "-0.19",
           "-0.17",
           "-0.05"
          ],
          [
           "-0.02",
           "-0.06",
           "0.07",
           "0.01",
           "-0.04",
           "0.08"
          ],
          [
           "-0.00",
           "-0.03",
           "0.05",
           "0.00",
           "-0.05",
           "0.04"
          ],
          [
           "-0.07",
           "-0.07",
           "-0.23",
           "0.26",
           "0.04",
           "0.16"
          ],
          [
           "0.20",
           "0.05",
           "0.11",
           "-0.23",
           "-0.11",
           "-0.08"
          ],
          [
           "-0.02",
           "-0.04",
           "0.13",
           "-0.08",
           "-0.02",
           "0.02"
          ],
          [
           "-0.06",
           "0.02",
           "0.03",
           "0.02",
           "-0.02",
           "0.01"
          ],
          [
           "-0.08",
           "-0.04",
           "-0.12",
           "0.11",
           "0.19",
           "-0.10"
          ],
          [
           "-0.03",
           "0.09",
           "0.01",
           "-0.02",
           "-0.05",
           "0.03"
          ],
          [
           "-0.05",
           "0.03",
           "0.17",
           "-0.11",
           "-0.08",
           "0.06"
          ],
          [
           "-0.00",
           "-0.00",
           "-0.04",
           "0.05",
           "0.05",
           "-0.10"
          ],
          [
           "-0.05",
           "0.23",
           "0.25",
           "-0.26",
           "-0.19",
           "0.02"
          ],
          [
           "-0.07",
           "-0.10",
           "-0.15",
           "0.24",
           "0.06",
           "0.04"
          ],
          [
           "0.02",
           "0.03",
           "0.12",
           "-0.15",
           "-0.04",
           "0.02"
          ],
          [
           "-0.04",
           "0.10",
           "-0.05",
           "-0.00",
           "0.01",
           "-0.03"
          ],
          [
           "0.01",
           "0.03",
           "-0.02",
           "-0.01",
           "-0.01",
           "-0.01"
          ],
          [
           "-0.14",
           "-0.09",
           "-0.24",
           "0.28",
           "0.19",
           "0.03"
          ],
          [
           "0.00",
           "0.04",
           "0.16",
           "-0.15",
           "-0.12",
           "0.12"
          ],
          [
           "-0.02",
           "-0.05",
           "-0.00",
           "0.05",
           "-0.02",
           "0.08"
          ],
          [
           "0.15",
           "0.06",
           "0.27",
           "-0.32",
           "-0.15",
           "-0.03"
          ],
          [
           "0.01",
           "-0.01",
           "0.11",
           "-0.05",
           "-0.01",
           "-0.10"
          ],
          [
           "0.13",
           "-0.04",
           "0.02",
           "-0.05",
           "-0.04",
           "-0.05"
          ]
         ],
         "textfont": {
          "size": 10
         },
         "texttemplate": "%{text}",
         "type": "heatmap",
         "x": [
          "Anger",
          "Disgust",
          "Fear",
          "Joy",
          "Sadness",
          "Surprise"
         ],
         "y": [
          "Action",
          "Adventure",
          "Animated",
          "Comedy",
          "Crime",
          "Disaster",
          "Documentary",
          "Drama",
          "Experimental",
          "Fantasy",
          "Historical",
          "Horror",
          "Musical",
          "Noir",
          "Pornographic",
          "Propaganda",
          "Romance",
          "Science Fiction",
          "Teen",
          "Thriller",
          "War",
          "Western"
         ],
         "z": [
          [
           0.2660595690551192,
           -0.09924246799148234,
           0.20487049778139235,
           -0.1898402432200878,
           -0.17117005147450515,
           -0.0548830943618897
          ],
          [
           -0.023618456128745205,
           -0.05695629531534616,
           0.06689810396702182,
           0.005898680929459945,
           -0.04117023671748524,
           0.07760430855653548
          ],
          [
           -0.0034140376390046786,
           -0.02821169288055174,
           0.04713830452087572,
           0.0038288823187121123,
           -0.04641761901350214,
           0.04309724760847627
          ],
          [
           -0.07283275478683143,
           -0.06870308756346157,
           -0.22668071771009196,
           0.2586822980612771,
           0.03560870989245588,
           0.15709316957576722
          ],
          [
           0.2047828330749894,
           0.047340571853542394,
           0.1142207395709835,
           -0.22580944629601002,
           -0.10846277166672627,
           -0.07506475168525717
          ],
          [
           -0.015794029388468064,
           -0.03774662508043512,
           0.13190064040234944,
           -0.08442308057330364,
           -0.017466832175616454,
           0.02321355081069362
          ],
          [
           -0.05976699866920522,
           0.022031591693687014,
           0.02564567716271325,
           0.023789567571886737,
           -0.018362504108683148,
           0.014993344841087667
          ],
          [
           -0.08023854175868253,
           -0.04032119332387082,
           -0.1205679760614537,
           0.11458588068011297,
           0.18854332437876228,
           -0.10075313165472977
          ],
          [
           -0.025706991066069655,
           0.08626114026638788,
           0.005745962637716212,
           -0.024525504695677693,
           -0.05331674065799861,
           0.02850366560039109
          ],
          [
           -0.04820199274053405,
           0.03402634746399609,
           0.16835574514046178,
           -0.10984377960309835,
           -0.0849053587919147,
           0.058199601976290455
          ],
          [
           -0.003702195508599833,
           -0.002816225290044997,
           -0.03607775758322526,
           0.0544677977168455,
           0.045712796784469344,
           -0.09648080808393245
          ],
          [
           -0.04509217359457088,
           0.2301845491865893,
           0.24875116523705637,
           -0.2577530347755183,
           -0.19293863459542016,
           0.022848105547871502
          ],
          [
           -0.06774214147465785,
           -0.09502420264048973,
           -0.14910766634341277,
           0.2398118250426248,
           0.05711761828514396,
           0.04329945471439424
          ],
          [
           0.018831918400966277,
           0.03157990873324899,
           0.11739583455269711,
           -0.15043213952619264,
           -0.036697432972594965,
           0.019201424576406535
          ],
          [
           -0.03847388610056322,
           0.10451289515231924,
           -0.045269766977384975,
           -0.0026378652994841732,
           0.008891652078753982,
           -0.03396421515433948
          ],
          [
           0.00917238192817223,
           0.03243916761199675,
           -0.015228040159377303,
           -0.007614252782607332,
           -0.010905485085905504,
           -0.00990433696978311
          ],
          [
           -0.13877187993823967,
           -0.09229909161058762,
           -0.23990072535004883,
           0.2761566597376676,
           0.1922044088038018,
           0.028013941147279908
          ],
          [
           0.0006698293506681467,
           0.03665424749925672,
           0.15922583449175626,
           -0.1493738526177924,
           -0.12113298863357391,
           0.11547717794052031
          ],
          [
           -0.018530338571886497,
           -0.054746478225132546,
           -0.004423871949304026,
           0.05060805030039621,
           -0.019385390404987334,
           0.08093741229670855
          ],
          [
           0.14724795917828606,
           0.06256927783299551,
           0.26608067694547777,
           -0.3242829375201782,
           -0.15065463496674603,
           -0.03445456104430301
          ],
          [
           0.008998348904301887,
           -0.008394468896844153,
           0.1074487391367727,
           -0.05062189681957012,
           -0.008850594666198237,
           -0.09724863182459959
          ],
          [
           0.1323874670726649,
           -0.036411545088115074,
           0.016411664931713664,
           -0.04935587283120928,
           -0.04068760766509879,
           -0.04805495273104586
          ]
         ],
         "zmid": 0
        }
       ],
       "layout": {
        "height": 600,
        "template": {
         "data": {
          "bar": [
           {
            "error_x": {
             "color": "#2a3f5f"
            },
            "error_y": {
             "color": "#2a3f5f"
            },
            "marker": {
             "line": {
              "color": "white",
              "width": 0.5
             },
             "pattern": {
              "fillmode": "overlay",
              "size": 10,
              "solidity": 0.2
             }
            },
            "type": "bar"
           }
          ],
          "barpolar": [
           {
            "marker": {
             "line": {
              "color": "white",
              "width": 0.5
             },
             "pattern": {
              "fillmode": "overlay",
              "size": 10,
              "solidity": 0.2
             }
            },
            "type": "barpolar"
           }
          ],
          "carpet": [
           {
            "aaxis": {
             "endlinecolor": "#2a3f5f",
             "gridcolor": "#C8D4E3",
             "linecolor": "#C8D4E3",
             "minorgridcolor": "#C8D4E3",
             "startlinecolor": "#2a3f5f"
            },
            "baxis": {
             "endlinecolor": "#2a3f5f",
             "gridcolor": "#C8D4E3",
             "linecolor": "#C8D4E3",
             "minorgridcolor": "#C8D4E3",
             "startlinecolor": "#2a3f5f"
            },
            "type": "carpet"
           }
          ],
          "choropleth": [
           {
            "colorbar": {
             "outlinewidth": 0,
             "ticks": ""
            },
            "type": "choropleth"
           }
          ],
          "contour": [
           {
            "colorbar": {
             "outlinewidth": 0,
             "ticks": ""
            },
            "colorscale": [
             [
              0,
              "#0d0887"
             ],
             [
              0.1111111111111111,
              "#46039f"
             ],
             [
              0.2222222222222222,
              "#7201a8"
             ],
             [
              0.3333333333333333,
              "#9c179e"
             ],
             [
              0.4444444444444444,
              "#bd3786"
             ],
             [
              0.5555555555555556,
              "#d8576b"
             ],
             [
              0.6666666666666666,
              "#ed7953"
             ],
             [
              0.7777777777777778,
              "#fb9f3a"
             ],
             [
              0.8888888888888888,
              "#fdca26"
             ],
             [
              1,
              "#f0f921"
             ]
            ],
            "type": "contour"
           }
          ],
          "contourcarpet": [
           {
            "colorbar": {
             "outlinewidth": 0,
             "ticks": ""
            },
            "type": "contourcarpet"
           }
          ],
          "heatmap": [
           {
            "colorbar": {
             "outlinewidth": 0,
             "ticks": ""
            },
            "colorscale": [
             [
              0,
              "#0d0887"
             ],
             [
              0.1111111111111111,
              "#46039f"
             ],
             [
              0.2222222222222222,
              "#7201a8"
             ],
             [
              0.3333333333333333,
              "#9c179e"
             ],
             [
              0.4444444444444444,
              "#bd3786"
             ],
             [
              0.5555555555555556,
              "#d8576b"
             ],
             [
              0.6666666666666666,
              "#ed7953"
             ],
             [
              0.7777777777777778,
              "#fb9f3a"
             ],
             [
              0.8888888888888888,
              "#fdca26"
             ],
             [
              1,
              "#f0f921"
             ]
            ],
            "type": "heatmap"
           }
          ],
          "heatmapgl": [
           {
            "colorbar": {
             "outlinewidth": 0,
             "ticks": ""
            },
            "colorscale": [
             [
              0,
              "#0d0887"
             ],
             [
              0.1111111111111111,
              "#46039f"
             ],
             [
              0.2222222222222222,
              "#7201a8"
             ],
             [
              0.3333333333333333,
              "#9c179e"
             ],
             [
              0.4444444444444444,
              "#bd3786"
             ],
             [
              0.5555555555555556,
              "#d8576b"
             ],
             [
              0.6666666666666666,
              "#ed7953"
             ],
             [
              0.7777777777777778,
              "#fb9f3a"
             ],
             [
              0.8888888888888888,
              "#fdca26"
             ],
             [
              1,
              "#f0f921"
             ]
            ],
            "type": "heatmapgl"
           }
          ],
          "histogram": [
           {
            "marker": {
             "pattern": {
              "fillmode": "overlay",
              "size": 10,
              "solidity": 0.2
             }
            },
            "type": "histogram"
           }
          ],
          "histogram2d": [
           {
            "colorbar": {
             "outlinewidth": 0,
             "ticks": ""
            },
            "colorscale": [
             [
              0,
              "#0d0887"
             ],
             [
              0.1111111111111111,
              "#46039f"
             ],
             [
              0.2222222222222222,
              "#7201a8"
             ],
             [
              0.3333333333333333,
              "#9c179e"
             ],
             [
              0.4444444444444444,
              "#bd3786"
             ],
             [
              0.5555555555555556,
              "#d8576b"
             ],
             [
              0.6666666666666666,
              "#ed7953"
             ],
             [
              0.7777777777777778,
              "#fb9f3a"
             ],
             [
              0.8888888888888888,
              "#fdca26"
             ],
             [
              1,
              "#f0f921"
             ]
            ],
            "type": "histogram2d"
           }
          ],
          "histogram2dcontour": [
           {
            "colorbar": {
             "outlinewidth": 0,
             "ticks": ""
            },
            "colorscale": [
             [
              0,
              "#0d0887"
             ],
             [
              0.1111111111111111,
              "#46039f"
             ],
             [
              0.2222222222222222,
              "#7201a8"
             ],
             [
              0.3333333333333333,
              "#9c179e"
             ],
             [
              0.4444444444444444,
              "#bd3786"
             ],
             [
              0.5555555555555556,
              "#d8576b"
             ],
             [
              0.6666666666666666,
              "#ed7953"
             ],
             [
              0.7777777777777778,
              "#fb9f3a"
             ],
             [
              0.8888888888888888,
              "#fdca26"
             ],
             [
              1,
              "#f0f921"
             ]
            ],
            "type": "histogram2dcontour"
           }
          ],
          "mesh3d": [
           {
            "colorbar": {
             "outlinewidth": 0,
             "ticks": ""
            },
            "type": "mesh3d"
           }
          ],
          "parcoords": [
           {
            "line": {
             "colorbar": {
              "outlinewidth": 0,
              "ticks": ""
             }
            },
            "type": "parcoords"
           }
          ],
          "pie": [
           {
            "automargin": true,
            "type": "pie"
           }
          ],
          "scatter": [
           {
            "fillpattern": {
             "fillmode": "overlay",
             "size": 10,
             "solidity": 0.2
            },
            "type": "scatter"
           }
          ],
          "scatter3d": [
           {
            "line": {
             "colorbar": {
              "outlinewidth": 0,
              "ticks": ""
             }
            },
            "marker": {
             "colorbar": {
              "outlinewidth": 0,
              "ticks": ""
             }
            },
            "type": "scatter3d"
           }
          ],
          "scattercarpet": [
           {
            "marker": {
             "colorbar": {
              "outlinewidth": 0,
              "ticks": ""
             }
            },
            "type": "scattercarpet"
           }
          ],
          "scattergeo": [
           {
            "marker": {
             "colorbar": {
              "outlinewidth": 0,
              "ticks": ""
             }
            },
            "type": "scattergeo"
           }
          ],
          "scattergl": [
           {
            "marker": {
             "colorbar": {
              "outlinewidth": 0,
              "ticks": ""
             }
            },
            "type": "scattergl"
           }
          ],
          "scattermapbox": [
           {
            "marker": {
             "colorbar": {
              "outlinewidth": 0,
              "ticks": ""
             }
            },
            "type": "scattermapbox"
           }
          ],
          "scatterpolar": [
           {
            "marker": {
             "colorbar": {
              "outlinewidth": 0,
              "ticks": ""
             }
            },
            "type": "scatterpolar"
           }
          ],
          "scatterpolargl": [
           {
            "marker": {
             "colorbar": {
              "outlinewidth": 0,
              "ticks": ""
             }
            },
            "type": "scatterpolargl"
           }
          ],
          "scatterternary": [
           {
            "marker": {
             "colorbar": {
              "outlinewidth": 0,
              "ticks": ""
             }
            },
            "type": "scatterternary"
           }
          ],
          "surface": [
           {
            "colorbar": {
             "outlinewidth": 0,
             "ticks": ""
            },
            "colorscale": [
             [
              0,
              "#0d0887"
             ],
             [
              0.1111111111111111,
              "#46039f"
             ],
             [
              0.2222222222222222,
              "#7201a8"
             ],
             [
              0.3333333333333333,
              "#9c179e"
             ],
             [
              0.4444444444444444,
              "#bd3786"
             ],
             [
              0.5555555555555556,
              "#d8576b"
             ],
             [
              0.6666666666666666,
              "#ed7953"
             ],
             [
              0.7777777777777778,
              "#fb9f3a"
             ],
             [
              0.8888888888888888,
              "#fdca26"
             ],
             [
              1,
              "#f0f921"
             ]
            ],
            "type": "surface"
           }
          ],
          "table": [
           {
            "cells": {
             "fill": {
              "color": "#EBF0F8"
             },
             "line": {
              "color": "white"
             }
            },
            "header": {
             "fill": {
              "color": "#C8D4E3"
             },
             "line": {
              "color": "white"
             }
            },
            "type": "table"
           }
          ]
         },
         "layout": {
          "annotationdefaults": {
           "arrowcolor": "#2a3f5f",
           "arrowhead": 0,
           "arrowwidth": 1
          },
          "autotypenumbers": "strict",
          "coloraxis": {
           "colorbar": {
            "outlinewidth": 0,
            "ticks": ""
           }
          },
          "colorscale": {
           "diverging": [
            [
             0,
             "#8e0152"
            ],
            [
             0.1,
             "#c51b7d"
            ],
            [
             0.2,
             "#de77ae"
            ],
            [
             0.3,
             "#f1b6da"
            ],
            [
             0.4,
             "#fde0ef"
            ],
            [
             0.5,
             "#f7f7f7"
            ],
            [
             0.6,
             "#e6f5d0"
            ],
            [
             0.7,
             "#b8e186"
            ],
            [
             0.8,
             "#7fbc41"
            ],
            [
             0.9,
             "#4d9221"
            ],
            [
             1,
             "#276419"
            ]
           ],
           "sequential": [
            [
             0,
             "#0d0887"
            ],
            [
             0.1111111111111111,
             "#46039f"
            ],
            [
             0.2222222222222222,
             "#7201a8"
            ],
            [
             0.3333333333333333,
             "#9c179e"
            ],
            [
             0.4444444444444444,
             "#bd3786"
            ],
            [
             0.5555555555555556,
             "#d8576b"
            ],
            [
             0.6666666666666666,
             "#ed7953"
            ],
            [
             0.7777777777777778,
             "#fb9f3a"
            ],
            [
             0.8888888888888888,
             "#fdca26"
            ],
            [
             1,
             "#f0f921"
            ]
           ],
           "sequentialminus": [
            [
             0,
             "#0d0887"
            ],
            [
             0.1111111111111111,
             "#46039f"
            ],
            [
             0.2222222222222222,
             "#7201a8"
            ],
            [
             0.3333333333333333,
             "#9c179e"
            ],
            [
             0.4444444444444444,
             "#bd3786"
            ],
            [
             0.5555555555555556,
             "#d8576b"
            ],
            [
             0.6666666666666666,
             "#ed7953"
            ],
            [
             0.7777777777777778,
             "#fb9f3a"
            ],
            [
             0.8888888888888888,
             "#fdca26"
            ],
            [
             1,
             "#f0f921"
            ]
           ]
          },
          "colorway": [
           "#636efa",
           "#EF553B",
           "#00cc96",
           "#ab63fa",
           "#FFA15A",
           "#19d3f3",
           "#FF6692",
           "#B6E880",
           "#FF97FF",
           "#FECB52"
          ],
          "font": {
           "color": "#2a3f5f"
          },
          "geo": {
           "bgcolor": "white",
           "lakecolor": "white",
           "landcolor": "white",
           "showlakes": true,
           "showland": true,
           "subunitcolor": "#C8D4E3"
          },
          "hoverlabel": {
           "align": "left"
          },
          "hovermode": "closest",
          "mapbox": {
           "style": "light"
          },
          "paper_bgcolor": "white",
          "plot_bgcolor": "white",
          "polar": {
           "angularaxis": {
            "gridcolor": "#EBF0F8",
            "linecolor": "#EBF0F8",
            "ticks": ""
           },
           "bgcolor": "white",
           "radialaxis": {
            "gridcolor": "#EBF0F8",
            "linecolor": "#EBF0F8",
            "ticks": ""
           }
          },
          "scene": {
           "xaxis": {
            "backgroundcolor": "white",
            "gridcolor": "#DFE8F3",
            "gridwidth": 2,
            "linecolor": "#EBF0F8",
            "showbackground": true,
            "ticks": "",
            "zerolinecolor": "#EBF0F8"
           },
           "yaxis": {
            "backgroundcolor": "white",
            "gridcolor": "#DFE8F3",
            "gridwidth": 2,
            "linecolor": "#EBF0F8",
            "showbackground": true,
            "ticks": "",
            "zerolinecolor": "#EBF0F8"
           },
           "zaxis": {
            "backgroundcolor": "white",
            "gridcolor": "#DFE8F3",
            "gridwidth": 2,
            "linecolor": "#EBF0F8",
            "showbackground": true,
            "ticks": "",
            "zerolinecolor": "#EBF0F8"
           }
          },
          "shapedefaults": {
           "line": {
            "color": "#2a3f5f"
           }
          },
          "ternary": {
           "aaxis": {
            "gridcolor": "#DFE8F3",
            "linecolor": "#A2B1C6",
            "ticks": ""
           },
           "baxis": {
            "gridcolor": "#DFE8F3",
            "linecolor": "#A2B1C6",
            "ticks": ""
           },
           "bgcolor": "white",
           "caxis": {
            "gridcolor": "#DFE8F3",
            "linecolor": "#A2B1C6",
            "ticks": ""
           }
          },
          "title": {
           "x": 0.05
          },
          "xaxis": {
           "automargin": true,
           "gridcolor": "#EBF0F8",
           "linecolor": "#EBF0F8",
           "ticks": "",
           "title": {
            "standoff": 15
           },
           "zerolinecolor": "#EBF0F8",
           "zerolinewidth": 2
          },
          "yaxis": {
           "automargin": true,
           "gridcolor": "#EBF0F8",
           "linecolor": "#EBF0F8",
           "ticks": "",
           "title": {
            "standoff": 15
           },
           "zerolinecolor": "#EBF0F8",
           "zerolinewidth": 2
          }
         }
        },
        "title": {
         "text": "Correlation between genres and emotions"
        },
        "width": 800,
        "xaxis": {
         "showgrid": true,
         "tickangle": 45,
         "title": {
          "text": "Emotions"
         }
        },
        "yaxis": {
         "showgrid": true,
         "title": {
          "text": "Genres"
         }
        }
       }
      }
     },
     "metadata": {},
     "output_type": "display_data"
    },
    {
     "data": {
      "application/vnd.plotly.v1+json": {
       "config": {
        "plotlyServerURL": "https://plot.ly"
       },
       "data": [
        {
         "colorscale": [
          [
           0,
           "lightgreen"
          ],
          [
           1,
           "white"
          ]
         ],
         "hovertemplate": "P-value [%{x} - %{y}]: %{z:.1e}<extra></extra>",
         "showscale": true,
         "text": [
          [
           "1.3e-186",
           "1.0e-26",
           "8.0e-110",
           "2.7e-94",
           "9.5e-77",
           "3.5e-09"
          ],
          [
           "1.1e-02",
           "8.8e-10",
           "6.0e-13",
           "5.3e-01",
           "9.5e-06",
           "6.4e-17"
          ],
          [
           "7.1e-01",
           "2.4e-03",
           "4.0e-07",
           "6.8e-01",
           "5.9e-07",
           "3.5e-06"
          ],
          [
           "4.4e-15",
           "1.4e-13",
           "1.2e-134",
           "3.7e-176",
           "1.3e-04",
           "8.6e-65"
          ],
          [
           "1.0e-109",
           "3.5e-07",
           "6.9e-35",
           "1.3e-133",
           "1.3e-31",
           "6.3e-16"
          ],
          [
           "8.9e-02",
           "4.9e-05",
           "4.8e-46",
           "9.6e-20",
           "6.0e-02",
           "1.3e-02"
          ],
          [
           "1.3e-10",
           "1.8e-02",
           "5.8e-03",
           "1.1e-02",
           "4.8e-02",
           "1.1e-01"
          ],
          [
           "5.5e-18",
           "1.4e-05",
           "1.1e-38",
           "4.2e-35",
           "5.2e-93",
           "1.8e-27"
          ],
          [
           "5.7e-03",
           "1.5e-20",
           "5.4e-01",
           "8.4e-03",
           "9.6e-09",
           "2.2e-03"
          ],
          [
           "2.1e-07",
           "2.5e-04",
           "2.8e-74",
           "2.2e-32",
           "5.9e-20",
           "3.8e-10"
          ],
          [
           "6.9e-01",
           "7.6e-01",
           "1.0e-04",
           "4.6e-09",
           "8.8e-07",
           "2.5e-25"
          ],
          [
           "1.2e-06",
           "6.7e-139",
           "1.3e-162",
           "7.2e-175",
           "2.2e-97",
           "1.4e-02"
          ],
          [
           "3.0e-13",
           "1.3e-24",
           "1.8e-58",
           "6.1e-151",
           "7.9e-10",
           "3.2e-06"
          ],
          [
           "4.3e-02",
           "6.8e-04",
           "9.0e-37",
           "1.7e-59",
           "7.9e-05",
           "3.9e-02"
          ],
          [
           "3.5e-05",
           "1.9e-29",
           "1.1e-06",
           "7.8e-01",
           "3.4e-01",
           "2.6e-04"
          ],
          [
           "3.2e-01",
           "4.8e-04",
           "1.0e-01",
           "4.1e-01",
           "2.4e-01",
           "2.9e-01"
          ],
          [
           "8.0e-51",
           "2.6e-23",
           "4.7e-151",
           "1.8e-201",
           "1.2e-96",
           "2.6e-03"
          ],
          [
           "9.4e-01",
           "8.1e-05",
           "1.6e-66",
           "1.1e-58",
           "4.7e-39",
           "1.3e-35"
          ],
          [
           "4.6e-02",
           "3.8e-09",
           "6.3e-01",
           "5.2e-08",
           "3.7e-02",
           "2.9e-18"
          ],
          [
           "4.6e-57",
           "1.6e-11",
           "1.2e-186",
           "2.5e-281",
           "1.1e-59",
           "2.1e-04"
          ],
          [
           "3.3e-01",
           "3.7e-01",
           "4.8e-31",
           "5.1e-08",
           "3.4e-01",
           "1.1e-25"
          ],
          [
           "2.3e-46",
           "9.0e-05",
           "7.8e-02",
           "1.1e-07",
           "1.2e-05",
           "2.3e-07"
          ]
         ],
         "textfont": {
          "size": 9
         },
         "texttemplate": "%{text}",
         "type": "heatmap",
         "x": [
          "Anger",
          "Disgust",
          "Fear",
          "Joy",
          "Sadness",
          "Surprise"
         ],
         "y": [
          "Action",
          "Adventure",
          "Animated",
          "Comedy",
          "Crime",
          "Disaster",
          "Documentary",
          "Drama",
          "Experimental",
          "Fantasy",
          "Historical",
          "Horror",
          "Musical",
          "Noir",
          "Pornographic",
          "Propaganda",
          "Romance",
          "Science Fiction",
          "Teen",
          "Thriller",
          "War",
          "Western"
         ],
         "z": [
          [
           1.3106438587851045e-186,
           1.0466898720504638e-26,
           8.047785411084366e-110,
           2.741307600722512e-94,
           9.471335403369634e-77,
           3.5110168862379575e-9
          ],
          [
           0.01108794219717961,
           8.833985392548535e-10,
           5.966426868665042e-13,
           0.5259126319764396,
           0.000009481014884693868,
           6.435373809744834e-17
          ],
          [
           0.7135492960261655,
           0.0024129472133223332,
           3.95029158075475e-7,
           0.6805594395426956,
           5.9227571809694e-7,
           0.000003549406998251028
          ],
          [
           4.44434391828273e-15,
           1.4034910618453915e-13,
           1.1851770594314637e-134,
           3.6940931595723355e-176,
           0.0001281326949093033,
           8.645946353725312e-65
          ],
          [
           9.999375834398171e-110,
           3.522133823050874e-7,
           6.908102383250486e-35,
           1.3141780040026515e-133,
           1.3216954259878465e-31,
           6.334917943192303e-16
          ],
          [
           0.08944177832553554,
           0.00004904526410977778,
           4.8283076902071016e-46,
           9.565449664476153e-20,
           0.06034639875593299,
           0.012547524093476108
          ],
          [
           1.2580177675881606e-10,
           0.0178255709699201,
           0.005815797165317424,
           0.010517883656422712,
           0.048315376903501,
           0.10690944981478057
          ],
          [
           5.546145067124365e-18,
           0.000014425910692742256,
           1.0527006594320596e-38,
           4.2213520096394577e-35,
           5.232624361998027e-93,
           1.766725491670717e-27
          ],
          [
           0.005699507515201564,
           1.5070209183112095e-20,
           0.5366832022932185,
           0.008352276491927156,
           9.640701546814528e-9,
           0.0021733342113424057
          ],
          [
           2.1496785216115942e-7,
           0.0002524882305733285,
           2.8429542835780574e-74,
           2.2369992728986055e-32,
           5.912604478460382e-20,
           3.771874700107634e-10
          ],
          [
           0.6905728575167244,
           0.7620319338944315,
           0.0001042406507932828,
           4.601740905927176e-9,
           8.751667842189276e-7,
           2.5237721554470403e-25
          ],
          [
           0.000001228548024077107,
           6.712117426146879e-139,
           1.2808862756616304e-162,
           7.244660151325671e-175,
           2.1882577977544067e-97,
           0.014008321899198494
          ],
          [
           3.0468151714313405e-13,
           1.3042451726144965e-24,
           1.7609104878571903e-58,
           6.08970503086342e-151,
           7.918311384726128e-10,
           0.00000319400104431383
          ],
          [
           0.04286011639872871,
           0.0006826395611377333,
           9.039569859886885e-37,
           1.6711333025108124e-59,
           0.00007907066681930585,
           0.03894076313992
          ],
          [
           0.000034971450794490727,
           1.8761672427232497e-29,
           0.0000011154071140983741,
           0.7766897909615058,
           0.33902747682949297,
           0.00025915761406799983
          ],
          [
           0.3239978141962759,
           0.0004849750271742547,
           0.1015299931196578,
           0.4129405049969586,
           0.2409398884726361,
           0.2868830951755526
          ],
          [
           8.040921531675009e-51,
           2.634723543540973e-23,
           4.686287278564139e-151,
           1.84124947096574e-201,
           1.1996578796057642e-96,
           0.0025887171831650807
          ],
          [
           0.9425835899022549,
           0.00008061939247888825,
           1.5625909925313965e-66,
           1.0988757674054869e-58,
           4.702735716042271e-39,
           1.2600966545397659e-35
          ],
          [
           0.0463014402492686,
           3.838630399635841e-9,
           0.6343048122434588,
           5.177915842106422e-8,
           0.037105747377650725,
           2.8554025031794775e-18
          ],
          [
           4.633622436449481e-57,
           1.646941415826122e-11,
           1.2220844612083469e-186,
           2.5169988038081027e-281,
           1.1227522687247594e-59,
           0.0002107189290091133
          ],
          [
           0.3332632647519625,
           0.3667242811344066,
           4.800878028779084e-31,
           5.134698243029741e-8,
           0.34126251221118664,
           1.051164487366769e-25
          ],
          [
           2.256535277705987e-46,
           0.00008987036765685496,
           0.07760183538341762,
           1.0950642082212736e-7,
           0.000012047662978668777,
           2.3400940678417408e-7
          ]
         ],
         "zmax": 0.8,
         "zmin": 0
        }
       ],
       "layout": {
        "height": 600,
        "template": {
         "data": {
          "bar": [
           {
            "error_x": {
             "color": "#2a3f5f"
            },
            "error_y": {
             "color": "#2a3f5f"
            },
            "marker": {
             "line": {
              "color": "white",
              "width": 0.5
             },
             "pattern": {
              "fillmode": "overlay",
              "size": 10,
              "solidity": 0.2
             }
            },
            "type": "bar"
           }
          ],
          "barpolar": [
           {
            "marker": {
             "line": {
              "color": "white",
              "width": 0.5
             },
             "pattern": {
              "fillmode": "overlay",
              "size": 10,
              "solidity": 0.2
             }
            },
            "type": "barpolar"
           }
          ],
          "carpet": [
           {
            "aaxis": {
             "endlinecolor": "#2a3f5f",
             "gridcolor": "#C8D4E3",
             "linecolor": "#C8D4E3",
             "minorgridcolor": "#C8D4E3",
             "startlinecolor": "#2a3f5f"
            },
            "baxis": {
             "endlinecolor": "#2a3f5f",
             "gridcolor": "#C8D4E3",
             "linecolor": "#C8D4E3",
             "minorgridcolor": "#C8D4E3",
             "startlinecolor": "#2a3f5f"
            },
            "type": "carpet"
           }
          ],
          "choropleth": [
           {
            "colorbar": {
             "outlinewidth": 0,
             "ticks": ""
            },
            "type": "choropleth"
           }
          ],
          "contour": [
           {
            "colorbar": {
             "outlinewidth": 0,
             "ticks": ""
            },
            "colorscale": [
             [
              0,
              "#0d0887"
             ],
             [
              0.1111111111111111,
              "#46039f"
             ],
             [
              0.2222222222222222,
              "#7201a8"
             ],
             [
              0.3333333333333333,
              "#9c179e"
             ],
             [
              0.4444444444444444,
              "#bd3786"
             ],
             [
              0.5555555555555556,
              "#d8576b"
             ],
             [
              0.6666666666666666,
              "#ed7953"
             ],
             [
              0.7777777777777778,
              "#fb9f3a"
             ],
             [
              0.8888888888888888,
              "#fdca26"
             ],
             [
              1,
              "#f0f921"
             ]
            ],
            "type": "contour"
           }
          ],
          "contourcarpet": [
           {
            "colorbar": {
             "outlinewidth": 0,
             "ticks": ""
            },
            "type": "contourcarpet"
           }
          ],
          "heatmap": [
           {
            "colorbar": {
             "outlinewidth": 0,
             "ticks": ""
            },
            "colorscale": [
             [
              0,
              "#0d0887"
             ],
             [
              0.1111111111111111,
              "#46039f"
             ],
             [
              0.2222222222222222,
              "#7201a8"
             ],
             [
              0.3333333333333333,
              "#9c179e"
             ],
             [
              0.4444444444444444,
              "#bd3786"
             ],
             [
              0.5555555555555556,
              "#d8576b"
             ],
             [
              0.6666666666666666,
              "#ed7953"
             ],
             [
              0.7777777777777778,
              "#fb9f3a"
             ],
             [
              0.8888888888888888,
              "#fdca26"
             ],
             [
              1,
              "#f0f921"
             ]
            ],
            "type": "heatmap"
           }
          ],
          "heatmapgl": [
           {
            "colorbar": {
             "outlinewidth": 0,
             "ticks": ""
            },
            "colorscale": [
             [
              0,
              "#0d0887"
             ],
             [
              0.1111111111111111,
              "#46039f"
             ],
             [
              0.2222222222222222,
              "#7201a8"
             ],
             [
              0.3333333333333333,
              "#9c179e"
             ],
             [
              0.4444444444444444,
              "#bd3786"
             ],
             [
              0.5555555555555556,
              "#d8576b"
             ],
             [
              0.6666666666666666,
              "#ed7953"
             ],
             [
              0.7777777777777778,
              "#fb9f3a"
             ],
             [
              0.8888888888888888,
              "#fdca26"
             ],
             [
              1,
              "#f0f921"
             ]
            ],
            "type": "heatmapgl"
           }
          ],
          "histogram": [
           {
            "marker": {
             "pattern": {
              "fillmode": "overlay",
              "size": 10,
              "solidity": 0.2
             }
            },
            "type": "histogram"
           }
          ],
          "histogram2d": [
           {
            "colorbar": {
             "outlinewidth": 0,
             "ticks": ""
            },
            "colorscale": [
             [
              0,
              "#0d0887"
             ],
             [
              0.1111111111111111,
              "#46039f"
             ],
             [
              0.2222222222222222,
              "#7201a8"
             ],
             [
              0.3333333333333333,
              "#9c179e"
             ],
             [
              0.4444444444444444,
              "#bd3786"
             ],
             [
              0.5555555555555556,
              "#d8576b"
             ],
             [
              0.6666666666666666,
              "#ed7953"
             ],
             [
              0.7777777777777778,
              "#fb9f3a"
             ],
             [
              0.8888888888888888,
              "#fdca26"
             ],
             [
              1,
              "#f0f921"
             ]
            ],
            "type": "histogram2d"
           }
          ],
          "histogram2dcontour": [
           {
            "colorbar": {
             "outlinewidth": 0,
             "ticks": ""
            },
            "colorscale": [
             [
              0,
              "#0d0887"
             ],
             [
              0.1111111111111111,
              "#46039f"
             ],
             [
              0.2222222222222222,
              "#7201a8"
             ],
             [
              0.3333333333333333,
              "#9c179e"
             ],
             [
              0.4444444444444444,
              "#bd3786"
             ],
             [
              0.5555555555555556,
              "#d8576b"
             ],
             [
              0.6666666666666666,
              "#ed7953"
             ],
             [
              0.7777777777777778,
              "#fb9f3a"
             ],
             [
              0.8888888888888888,
              "#fdca26"
             ],
             [
              1,
              "#f0f921"
             ]
            ],
            "type": "histogram2dcontour"
           }
          ],
          "mesh3d": [
           {
            "colorbar": {
             "outlinewidth": 0,
             "ticks": ""
            },
            "type": "mesh3d"
           }
          ],
          "parcoords": [
           {
            "line": {
             "colorbar": {
              "outlinewidth": 0,
              "ticks": ""
             }
            },
            "type": "parcoords"
           }
          ],
          "pie": [
           {
            "automargin": true,
            "type": "pie"
           }
          ],
          "scatter": [
           {
            "fillpattern": {
             "fillmode": "overlay",
             "size": 10,
             "solidity": 0.2
            },
            "type": "scatter"
           }
          ],
          "scatter3d": [
           {
            "line": {
             "colorbar": {
              "outlinewidth": 0,
              "ticks": ""
             }
            },
            "marker": {
             "colorbar": {
              "outlinewidth": 0,
              "ticks": ""
             }
            },
            "type": "scatter3d"
           }
          ],
          "scattercarpet": [
           {
            "marker": {
             "colorbar": {
              "outlinewidth": 0,
              "ticks": ""
             }
            },
            "type": "scattercarpet"
           }
          ],
          "scattergeo": [
           {
            "marker": {
             "colorbar": {
              "outlinewidth": 0,
              "ticks": ""
             }
            },
            "type": "scattergeo"
           }
          ],
          "scattergl": [
           {
            "marker": {
             "colorbar": {
              "outlinewidth": 0,
              "ticks": ""
             }
            },
            "type": "scattergl"
           }
          ],
          "scattermapbox": [
           {
            "marker": {
             "colorbar": {
              "outlinewidth": 0,
              "ticks": ""
             }
            },
            "type": "scattermapbox"
           }
          ],
          "scatterpolar": [
           {
            "marker": {
             "colorbar": {
              "outlinewidth": 0,
              "ticks": ""
             }
            },
            "type": "scatterpolar"
           }
          ],
          "scatterpolargl": [
           {
            "marker": {
             "colorbar": {
              "outlinewidth": 0,
              "ticks": ""
             }
            },
            "type": "scatterpolargl"
           }
          ],
          "scatterternary": [
           {
            "marker": {
             "colorbar": {
              "outlinewidth": 0,
              "ticks": ""
             }
            },
            "type": "scatterternary"
           }
          ],
          "surface": [
           {
            "colorbar": {
             "outlinewidth": 0,
             "ticks": ""
            },
            "colorscale": [
             [
              0,
              "#0d0887"
             ],
             [
              0.1111111111111111,
              "#46039f"
             ],
             [
              0.2222222222222222,
              "#7201a8"
             ],
             [
              0.3333333333333333,
              "#9c179e"
             ],
             [
              0.4444444444444444,
              "#bd3786"
             ],
             [
              0.5555555555555556,
              "#d8576b"
             ],
             [
              0.6666666666666666,
              "#ed7953"
             ],
             [
              0.7777777777777778,
              "#fb9f3a"
             ],
             [
              0.8888888888888888,
              "#fdca26"
             ],
             [
              1,
              "#f0f921"
             ]
            ],
            "type": "surface"
           }
          ],
          "table": [
           {
            "cells": {
             "fill": {
              "color": "#EBF0F8"
             },
             "line": {
              "color": "white"
             }
            },
            "header": {
             "fill": {
              "color": "#C8D4E3"
             },
             "line": {
              "color": "white"
             }
            },
            "type": "table"
           }
          ]
         },
         "layout": {
          "annotationdefaults": {
           "arrowcolor": "#2a3f5f",
           "arrowhead": 0,
           "arrowwidth": 1
          },
          "autotypenumbers": "strict",
          "coloraxis": {
           "colorbar": {
            "outlinewidth": 0,
            "ticks": ""
           }
          },
          "colorscale": {
           "diverging": [
            [
             0,
             "#8e0152"
            ],
            [
             0.1,
             "#c51b7d"
            ],
            [
             0.2,
             "#de77ae"
            ],
            [
             0.3,
             "#f1b6da"
            ],
            [
             0.4,
             "#fde0ef"
            ],
            [
             0.5,
             "#f7f7f7"
            ],
            [
             0.6,
             "#e6f5d0"
            ],
            [
             0.7,
             "#b8e186"
            ],
            [
             0.8,
             "#7fbc41"
            ],
            [
             0.9,
             "#4d9221"
            ],
            [
             1,
             "#276419"
            ]
           ],
           "sequential": [
            [
             0,
             "#0d0887"
            ],
            [
             0.1111111111111111,
             "#46039f"
            ],
            [
             0.2222222222222222,
             "#7201a8"
            ],
            [
             0.3333333333333333,
             "#9c179e"
            ],
            [
             0.4444444444444444,
             "#bd3786"
            ],
            [
             0.5555555555555556,
             "#d8576b"
            ],
            [
             0.6666666666666666,
             "#ed7953"
            ],
            [
             0.7777777777777778,
             "#fb9f3a"
            ],
            [
             0.8888888888888888,
             "#fdca26"
            ],
            [
             1,
             "#f0f921"
            ]
           ],
           "sequentialminus": [
            [
             0,
             "#0d0887"
            ],
            [
             0.1111111111111111,
             "#46039f"
            ],
            [
             0.2222222222222222,
             "#7201a8"
            ],
            [
             0.3333333333333333,
             "#9c179e"
            ],
            [
             0.4444444444444444,
             "#bd3786"
            ],
            [
             0.5555555555555556,
             "#d8576b"
            ],
            [
             0.6666666666666666,
             "#ed7953"
            ],
            [
             0.7777777777777778,
             "#fb9f3a"
            ],
            [
             0.8888888888888888,
             "#fdca26"
            ],
            [
             1,
             "#f0f921"
            ]
           ]
          },
          "colorway": [
           "#636efa",
           "#EF553B",
           "#00cc96",
           "#ab63fa",
           "#FFA15A",
           "#19d3f3",
           "#FF6692",
           "#B6E880",
           "#FF97FF",
           "#FECB52"
          ],
          "font": {
           "color": "#2a3f5f"
          },
          "geo": {
           "bgcolor": "white",
           "lakecolor": "white",
           "landcolor": "white",
           "showlakes": true,
           "showland": true,
           "subunitcolor": "#C8D4E3"
          },
          "hoverlabel": {
           "align": "left"
          },
          "hovermode": "closest",
          "mapbox": {
           "style": "light"
          },
          "paper_bgcolor": "white",
          "plot_bgcolor": "white",
          "polar": {
           "angularaxis": {
            "gridcolor": "#EBF0F8",
            "linecolor": "#EBF0F8",
            "ticks": ""
           },
           "bgcolor": "white",
           "radialaxis": {
            "gridcolor": "#EBF0F8",
            "linecolor": "#EBF0F8",
            "ticks": ""
           }
          },
          "scene": {
           "xaxis": {
            "backgroundcolor": "white",
            "gridcolor": "#DFE8F3",
            "gridwidth": 2,
            "linecolor": "#EBF0F8",
            "showbackground": true,
            "ticks": "",
            "zerolinecolor": "#EBF0F8"
           },
           "yaxis": {
            "backgroundcolor": "white",
            "gridcolor": "#DFE8F3",
            "gridwidth": 2,
            "linecolor": "#EBF0F8",
            "showbackground": true,
            "ticks": "",
            "zerolinecolor": "#EBF0F8"
           },
           "zaxis": {
            "backgroundcolor": "white",
            "gridcolor": "#DFE8F3",
            "gridwidth": 2,
            "linecolor": "#EBF0F8",
            "showbackground": true,
            "ticks": "",
            "zerolinecolor": "#EBF0F8"
           }
          },
          "shapedefaults": {
           "line": {
            "color": "#2a3f5f"
           }
          },
          "ternary": {
           "aaxis": {
            "gridcolor": "#DFE8F3",
            "linecolor": "#A2B1C6",
            "ticks": ""
           },
           "baxis": {
            "gridcolor": "#DFE8F3",
            "linecolor": "#A2B1C6",
            "ticks": ""
           },
           "bgcolor": "white",
           "caxis": {
            "gridcolor": "#DFE8F3",
            "linecolor": "#A2B1C6",
            "ticks": ""
           }
          },
          "title": {
           "x": 0.05
          },
          "xaxis": {
           "automargin": true,
           "gridcolor": "#EBF0F8",
           "linecolor": "#EBF0F8",
           "ticks": "",
           "title": {
            "standoff": 15
           },
           "zerolinecolor": "#EBF0F8",
           "zerolinewidth": 2
          },
          "yaxis": {
           "automargin": true,
           "gridcolor": "#EBF0F8",
           "linecolor": "#EBF0F8",
           "ticks": "",
           "title": {
            "standoff": 15
           },
           "zerolinecolor": "#EBF0F8",
           "zerolinewidth": 2
          }
         }
        },
        "title": {
         "text": "P-values between genres and emotions<br>H0: No significant relationship between the emotion and the genre<br>p_value < 0.05 : correlation coefficient statistically significant"
        },
        "width": 800,
        "xaxis": {
         "tickangle": 45,
         "title": {
          "text": "Emotions"
         }
        },
        "yaxis": {
         "title": {
          "text": "Genres"
         }
        }
       }
      }
     },
     "metadata": {},
     "output_type": "display_data"
    }
   ],
   "source": [
    "df_main_genres = get_genres_merged(df_genres)\n",
    "generate_emotion_genre_heatmap(df_main_genres, df_movies_with_emotions_normalized)"
   ]
  },
  {
   "cell_type": "code",
   "execution_count": 12,
   "metadata": {
    "execution": {
     "iopub.execute_input": "2024-12-13T13:53:23.283357Z",
     "iopub.status.busy": "2024-12-13T13:53:23.283225Z",
     "iopub.status.idle": "2024-12-13T13:53:23.374584Z",
     "shell.execute_reply": "2024-12-13T13:53:23.359961Z",
     "shell.execute_reply.started": "2024-12-13T13:53:23.283342Z"
    },
    "tags": []
   },
   "outputs": [
    {
     "data": {
      "application/vnd.plotly.v1+json": {
       "config": {
        "plotlyServerURL": "https://plot.ly"
       },
       "data": [
        {
         "hoverinfo": "label+value+percent",
         "labels": [
          "Media Studies",
          "Star vehicle",
          "Roadshow/Carny",
          "Journalism",
          "Revisionist Fairy Tale",
          "Interpersonal Relationships",
          "Private military company",
          "Graphic & Applied Arts",
          "Pornography",
          "Family & Personal Relationships",
          "Business",
          "Exploitation",
          "Fan film",
          "Bengali Cinema",
          "Comdedy",
          "Breakdance",
          "Pinku eiga",
          "Latino",
          "Education",
          "Concert film",
          "The Netherlands in World War II",
          "Clay animation",
          "Homoeroticism",
          "Computers",
          "Ninja movie",
          "Period Horror",
          "Z movie",
          "Early Black Cinema",
          "Conspiracy fiction",
          "Fictional film",
          "Live action",
          "Expressionism",
          "Camp",
          "Mumblecore",
          "Stand-up comedy",
          "School story",
          "Space opera",
          "Finance & Investing",
          "Bloopers & Candid Camera",
          "Gender Issues",
          "Sci-Fi Thriller",
          "Coming-of-age film",
          "Feature film",
          "Inventions & Innovations",
          "Point of view shot",
          "Science fiction Western",
          "Filipino Movies",
          "Instrumental Music",
          "Animals",
          "Humour",
          "Malayalam Cinema",
          "Singing cowboy",
          "Filipino",
          "Women in prison films",
          "Movies About Gladiators",
          "Northern",
          "Vampire movies",
          "News",
          "Educational",
          "Race movie",
          "Psychological horror",
          "Goat gland",
          "Extreme Sports",
          "Essay Film",
          "Hardcore pornography",
          "Therimin music",
          "Comedy horror",
          "Beach Film",
          "Law & Crime",
          "Cyberpunk",
          "Gay pornography",
          "Nuclear warfare",
          "Travel",
          "Operetta",
          "Film",
          "World History",
          "Sci Fi Pictures original films",
          "Supermarionation",
          "B-Western",
          "Tollywood",
          "Female buddy film",
          "Illnesses & Disabilities",
          "Czechoslovak New Wave",
          "Plague",
          "Movie serial",
          "Libraries and librarians",
          "Alien invasion",
          "Softcore Porn",
          "Werewolf fiction",
          "Gulf War",
          "Mondo film",
          "Parkour in popular culture",
          "Jukebox musical",
          "Acid western",
          "Animated cartoon",
          "Demonic child",
          "Outlaw",
          "Foreign legion",
          "Courtroom Comedy",
          "Horse racing",
          "Nature",
          "Kafkaesque",
          "Anthology",
          "Punk rock",
          "Psycho-biddy",
          "Crime",
          "Archives and records",
          "Natural disaster",
          "Outlaw biker film",
          "Rockumentary",
          "Reboot",
          "British New Wave",
          "Dogme 95",
          "Ealing Comedies",
          "Baseball",
          "Legal drama",
          "Archaeology",
          "Cavalry Film",
          "Space western",
          "Kitchen sink realism",
          "Fantasy Drama",
          "Cold War",
          "Indian Western",
          "Biker Film",
          "Pornographic movie",
          "Epic Western",
          "Buddy cop",
          "Sword and Sandal",
          "Prison film",
          "Splatter film",
          "Giallo",
          "Hagiography",
          "Hip hop movies",
          "Albino bias",
          "Tamil cinema",
          "Master Criminal Films",
          "Backstage Musical",
          "Road-Horror",
          "Propaganda film",
          "Fairy tale",
          "Mythological Fantasy",
          "Inspirational Drama",
          "Spaghetti Western",
          "Hybrid Western",
          "Social issues",
          "Heavenly Comedy",
          "Heaven-Can-Wait Fantasies",
          "British Empire Film",
          "Wuxia",
          "Juvenile Delinquency Film",
          "Film à clef",
          "Sexploitation",
          "Samurai cinema",
          "Adult",
          "Future noir",
          "Sword and sorcery",
          "Sci-Fi Adventure",
          "Historical drama",
          "Animated Musical",
          "Addiction Drama",
          "Whodunit",
          "Religious Film",
          "Auto racing",
          "Tragicomedy",
          "Steampunk",
          "Anti-war",
          "Sword and sorcery films",
          "Anti-war film",
          "Apocalyptic and post-apocalyptic fiction",
          "Medical fiction",
          "Blaxploitation",
          "Roadshow theatrical release",
          "Existentialism",
          "Comedy Western",
          "Slice of life story",
          "Stoner film",
          "Boxing",
          "Culture & Society",
          "Short Film",
          "Avant-garde",
          "Escape Film",
          "Mockumentary",
          "Glamorized Spy Film",
          "Jungle Film",
          "Gothic Film",
          "Costume Horror",
          "Haunted House Film",
          "Romantic fantasy",
          "Comedy Thriller",
          "Dance",
          "Neo-noir",
          "Feminist Film",
          "Experimental film",
          "Political satire",
          "Historical Epic",
          "Social problem film",
          "Childhood Drama",
          "Revisionist Western",
          "Holiday Film",
          "Prison",
          "Media Satire",
          "Erotic Drama",
          "Costume Adventure",
          "Caper story",
          "Surrealism",
          "Gross-out film",
          "Airplanes and airports",
          "Gross out",
          "Absurdism",
          "Tragedy",
          "Christmas movie",
          "Time travel",
          "Combat Films",
          "Christian film",
          "Workplace Comedy",
          "Dystopia",
          "Anime",
          "Animal Picture",
          "Swashbuckler films",
          "Stop motion",
          "Superhero",
          "Marriage Drama",
          "Erotica",
          "Americana",
          "Remake",
          "Alien Film",
          "Sci-Fi Horror",
          "Chase Movie",
          "Monster movie",
          "New Hollywood",
          "Erotic thriller",
          "Computer Animation",
          "Adventure Comedy",
          "Political cinema",
          "Musical Drama",
          "Natural horror films",
          "Pre-Code",
          "Monster",
          "Action Comedy",
          "Heist",
          "Comedy of Errors",
          "Doomsday film",
          "Documentary",
          "Musical comedy",
          "Zombie Film",
          "Gay Interest",
          "Gay",
          "Detective fiction",
          "Domestic Comedy",
          "Political thriller",
          "Horror Comedy",
          "Courtroom Drama",
          "Crime Comedy",
          "Gay Themed",
          "Historical fiction",
          "B-movie",
          "Fantasy Adventure",
          "Family-Oriented Adventure",
          "Docudrama",
          "Fantasy Comedy",
          "Comedy of manners",
          "Sex comedy",
          "Children's Fantasy",
          "Detective",
          "Epic",
          "Superhero movie",
          "Music",
          "Art film",
          "Comedy film",
          "Road movie",
          "Disaster",
          "Children's",
          "History",
          "Screwball comedy",
          "Silent film",
          "Crime Drama",
          "Gangster Film",
          "Spy",
          "Chinese Movies",
          "Ensemble Film",
          "Biopic [feature]",
          "Creature Film",
          "Action Thrillers",
          "Television movie",
          "Melodrama",
          "Buddy film",
          "Martial Arts Film",
          "Film noir",
          "Political drama",
          "Costume drama",
          "Slapstick",
          "Satire",
          "Biography",
          "Slasher",
          "Bollywood",
          "Biographical film",
          "Sports",
          "Supernatural",
          "LGBT",
          "Japanese Movies",
          "Family Drama",
          "Children's/Family",
          "Animation",
          "Suspense",
          "Parody",
          "Coming of age",
          "Cult",
          "Western",
          "Black comedy",
          "Teen",
          "Comedy-drama",
          "Psychological thriller",
          "War film",
          "Musical",
          "Period piece",
          "Film adaptation",
          "Crime Thriller",
          "Fantasy",
          "Romantic comedy",
          "Mystery",
          "Family Film",
          "Romantic drama",
          "Science Fiction",
          "Indie",
          "Black-and-white",
          "World cinema",
          "Adventure",
          "Horror",
          "Crime Fiction",
          "Action/Adventure",
          "Action",
          "Romance Film",
          "Thriller",
          "Comedy",
          "Drama"
         ],
         "marker": {
          "colors": [
           "rgb(141,211,199)",
           "rgb(255,255,179)",
           "rgb(190,186,218)",
           "rgb(251,128,114)",
           "rgb(128,177,211)",
           "rgb(253,180,98)",
           "rgb(179,222,105)",
           "rgb(252,205,229)",
           "rgb(217,217,217)",
           "rgb(188,128,189)",
           "rgb(204,235,197)",
           "rgb(255,237,111)"
          ]
         },
         "sort": false,
         "textinfo": "percent+label",
         "textposition": "inside",
         "type": "pie",
         "values": [
          1,
          1,
          1,
          1,
          1,
          1,
          1,
          1,
          1,
          1,
          1,
          1,
          1,
          1,
          1,
          1,
          1,
          1,
          1,
          1,
          1,
          1,
          1,
          1,
          1,
          1,
          1,
          1,
          1,
          1,
          1,
          1,
          1,
          1,
          2,
          2,
          2,
          2,
          2,
          2,
          2,
          2,
          2,
          2,
          2,
          2,
          2,
          2,
          2,
          2,
          2,
          2,
          2,
          2,
          2,
          2,
          2,
          2,
          2,
          2,
          2,
          2,
          3,
          3,
          3,
          3,
          3,
          3,
          3,
          3,
          3,
          3,
          3,
          3,
          3,
          3,
          3,
          3,
          4,
          4,
          4,
          4,
          4,
          4,
          4,
          4,
          4,
          4,
          4,
          4,
          4,
          4,
          5,
          5,
          5,
          5,
          5,
          5,
          5,
          5,
          5,
          5,
          5,
          6,
          6,
          6,
          6,
          6,
          6,
          6,
          7,
          7,
          7,
          7,
          8,
          8,
          8,
          9,
          9,
          9,
          9,
          9,
          9,
          10,
          10,
          10,
          11,
          11,
          11,
          11,
          11,
          11,
          12,
          13,
          13,
          13,
          14,
          14,
          15,
          15,
          15,
          16,
          16,
          16,
          17,
          17,
          17,
          17,
          18,
          18,
          18,
          18,
          19,
          19,
          20,
          20,
          21,
          21,
          22,
          22,
          22,
          22,
          23,
          24,
          24,
          24,
          24,
          24,
          24,
          28,
          28,
          29,
          29,
          30,
          30,
          30,
          30,
          31,
          31,
          31,
          31,
          31,
          32,
          32,
          33,
          35,
          35,
          35,
          35,
          36,
          36,
          36,
          36,
          37,
          37,
          39,
          40,
          42,
          42,
          42,
          43,
          44,
          44,
          45,
          45,
          46,
          46,
          46,
          51,
          51,
          52,
          53,
          55,
          57,
          57,
          59,
          59,
          60,
          60,
          62,
          62,
          63,
          63,
          63,
          65,
          65,
          67,
          68,
          70,
          70,
          73,
          73,
          76,
          76,
          78,
          79,
          81,
          81,
          82,
          82,
          84,
          88,
          89,
          91,
          93,
          94,
          95,
          96,
          99,
          102,
          103,
          104,
          107,
          108,
          113,
          114,
          114,
          115,
          118,
          119,
          119,
          119,
          119,
          121,
          126,
          128,
          129,
          134,
          138,
          139,
          141,
          149,
          154,
          156,
          157,
          166,
          169,
          173,
          174,
          183,
          183,
          184,
          215,
          216,
          221,
          228,
          240,
          248,
          253,
          254,
          254,
          261,
          273,
          277,
          283,
          291,
          300,
          310,
          319,
          329,
          331,
          333,
          350,
          374,
          382,
          394,
          420,
          421,
          446,
          465,
          574,
          587,
          686,
          758,
          767,
          779,
          811,
          920,
          936,
          949,
          983,
          1030,
          1067,
          1246,
          1267,
          1417,
          1430,
          1547,
          1756,
          1757,
          2217,
          2449,
          2842,
          3699,
          6087
         ]
        }
       ],
       "layout": {
        "height": 800,
        "legend": {
         "title": {}
        },
        "showlegend": false,
        "template": {
         "data": {
          "bar": [
           {
            "error_x": {
             "color": "#2a3f5f"
            },
            "error_y": {
             "color": "#2a3f5f"
            },
            "marker": {
             "line": {
              "color": "#E5ECF6",
              "width": 0.5
             },
             "pattern": {
              "fillmode": "overlay",
              "size": 10,
              "solidity": 0.2
             }
            },
            "type": "bar"
           }
          ],
          "barpolar": [
           {
            "marker": {
             "line": {
              "color": "#E5ECF6",
              "width": 0.5
             },
             "pattern": {
              "fillmode": "overlay",
              "size": 10,
              "solidity": 0.2
             }
            },
            "type": "barpolar"
           }
          ],
          "carpet": [
           {
            "aaxis": {
             "endlinecolor": "#2a3f5f",
             "gridcolor": "white",
             "linecolor": "white",
             "minorgridcolor": "white",
             "startlinecolor": "#2a3f5f"
            },
            "baxis": {
             "endlinecolor": "#2a3f5f",
             "gridcolor": "white",
             "linecolor": "white",
             "minorgridcolor": "white",
             "startlinecolor": "#2a3f5f"
            },
            "type": "carpet"
           }
          ],
          "choropleth": [
           {
            "colorbar": {
             "outlinewidth": 0,
             "ticks": ""
            },
            "type": "choropleth"
           }
          ],
          "contour": [
           {
            "colorbar": {
             "outlinewidth": 0,
             "ticks": ""
            },
            "colorscale": [
             [
              0,
              "#0d0887"
             ],
             [
              0.1111111111111111,
              "#46039f"
             ],
             [
              0.2222222222222222,
              "#7201a8"
             ],
             [
              0.3333333333333333,
              "#9c179e"
             ],
             [
              0.4444444444444444,
              "#bd3786"
             ],
             [
              0.5555555555555556,
              "#d8576b"
             ],
             [
              0.6666666666666666,
              "#ed7953"
             ],
             [
              0.7777777777777778,
              "#fb9f3a"
             ],
             [
              0.8888888888888888,
              "#fdca26"
             ],
             [
              1,
              "#f0f921"
             ]
            ],
            "type": "contour"
           }
          ],
          "contourcarpet": [
           {
            "colorbar": {
             "outlinewidth": 0,
             "ticks": ""
            },
            "type": "contourcarpet"
           }
          ],
          "heatmap": [
           {
            "colorbar": {
             "outlinewidth": 0,
             "ticks": ""
            },
            "colorscale": [
             [
              0,
              "#0d0887"
             ],
             [
              0.1111111111111111,
              "#46039f"
             ],
             [
              0.2222222222222222,
              "#7201a8"
             ],
             [
              0.3333333333333333,
              "#9c179e"
             ],
             [
              0.4444444444444444,
              "#bd3786"
             ],
             [
              0.5555555555555556,
              "#d8576b"
             ],
             [
              0.6666666666666666,
              "#ed7953"
             ],
             [
              0.7777777777777778,
              "#fb9f3a"
             ],
             [
              0.8888888888888888,
              "#fdca26"
             ],
             [
              1,
              "#f0f921"
             ]
            ],
            "type": "heatmap"
           }
          ],
          "heatmapgl": [
           {
            "colorbar": {
             "outlinewidth": 0,
             "ticks": ""
            },
            "colorscale": [
             [
              0,
              "#0d0887"
             ],
             [
              0.1111111111111111,
              "#46039f"
             ],
             [
              0.2222222222222222,
              "#7201a8"
             ],
             [
              0.3333333333333333,
              "#9c179e"
             ],
             [
              0.4444444444444444,
              "#bd3786"
             ],
             [
              0.5555555555555556,
              "#d8576b"
             ],
             [
              0.6666666666666666,
              "#ed7953"
             ],
             [
              0.7777777777777778,
              "#fb9f3a"
             ],
             [
              0.8888888888888888,
              "#fdca26"
             ],
             [
              1,
              "#f0f921"
             ]
            ],
            "type": "heatmapgl"
           }
          ],
          "histogram": [
           {
            "marker": {
             "pattern": {
              "fillmode": "overlay",
              "size": 10,
              "solidity": 0.2
             }
            },
            "type": "histogram"
           }
          ],
          "histogram2d": [
           {
            "colorbar": {
             "outlinewidth": 0,
             "ticks": ""
            },
            "colorscale": [
             [
              0,
              "#0d0887"
             ],
             [
              0.1111111111111111,
              "#46039f"
             ],
             [
              0.2222222222222222,
              "#7201a8"
             ],
             [
              0.3333333333333333,
              "#9c179e"
             ],
             [
              0.4444444444444444,
              "#bd3786"
             ],
             [
              0.5555555555555556,
              "#d8576b"
             ],
             [
              0.6666666666666666,
              "#ed7953"
             ],
             [
              0.7777777777777778,
              "#fb9f3a"
             ],
             [
              0.8888888888888888,
              "#fdca26"
             ],
             [
              1,
              "#f0f921"
             ]
            ],
            "type": "histogram2d"
           }
          ],
          "histogram2dcontour": [
           {
            "colorbar": {
             "outlinewidth": 0,
             "ticks": ""
            },
            "colorscale": [
             [
              0,
              "#0d0887"
             ],
             [
              0.1111111111111111,
              "#46039f"
             ],
             [
              0.2222222222222222,
              "#7201a8"
             ],
             [
              0.3333333333333333,
              "#9c179e"
             ],
             [
              0.4444444444444444,
              "#bd3786"
             ],
             [
              0.5555555555555556,
              "#d8576b"
             ],
             [
              0.6666666666666666,
              "#ed7953"
             ],
             [
              0.7777777777777778,
              "#fb9f3a"
             ],
             [
              0.8888888888888888,
              "#fdca26"
             ],
             [
              1,
              "#f0f921"
             ]
            ],
            "type": "histogram2dcontour"
           }
          ],
          "mesh3d": [
           {
            "colorbar": {
             "outlinewidth": 0,
             "ticks": ""
            },
            "type": "mesh3d"
           }
          ],
          "parcoords": [
           {
            "line": {
             "colorbar": {
              "outlinewidth": 0,
              "ticks": ""
             }
            },
            "type": "parcoords"
           }
          ],
          "pie": [
           {
            "automargin": true,
            "type": "pie"
           }
          ],
          "scatter": [
           {
            "fillpattern": {
             "fillmode": "overlay",
             "size": 10,
             "solidity": 0.2
            },
            "type": "scatter"
           }
          ],
          "scatter3d": [
           {
            "line": {
             "colorbar": {
              "outlinewidth": 0,
              "ticks": ""
             }
            },
            "marker": {
             "colorbar": {
              "outlinewidth": 0,
              "ticks": ""
             }
            },
            "type": "scatter3d"
           }
          ],
          "scattercarpet": [
           {
            "marker": {
             "colorbar": {
              "outlinewidth": 0,
              "ticks": ""
             }
            },
            "type": "scattercarpet"
           }
          ],
          "scattergeo": [
           {
            "marker": {
             "colorbar": {
              "outlinewidth": 0,
              "ticks": ""
             }
            },
            "type": "scattergeo"
           }
          ],
          "scattergl": [
           {
            "marker": {
             "colorbar": {
              "outlinewidth": 0,
              "ticks": ""
             }
            },
            "type": "scattergl"
           }
          ],
          "scattermapbox": [
           {
            "marker": {
             "colorbar": {
              "outlinewidth": 0,
              "ticks": ""
             }
            },
            "type": "scattermapbox"
           }
          ],
          "scatterpolar": [
           {
            "marker": {
             "colorbar": {
              "outlinewidth": 0,
              "ticks": ""
             }
            },
            "type": "scatterpolar"
           }
          ],
          "scatterpolargl": [
           {
            "marker": {
             "colorbar": {
              "outlinewidth": 0,
              "ticks": ""
             }
            },
            "type": "scatterpolargl"
           }
          ],
          "scatterternary": [
           {
            "marker": {
             "colorbar": {
              "outlinewidth": 0,
              "ticks": ""
             }
            },
            "type": "scatterternary"
           }
          ],
          "surface": [
           {
            "colorbar": {
             "outlinewidth": 0,
             "ticks": ""
            },
            "colorscale": [
             [
              0,
              "#0d0887"
             ],
             [
              0.1111111111111111,
              "#46039f"
             ],
             [
              0.2222222222222222,
              "#7201a8"
             ],
             [
              0.3333333333333333,
              "#9c179e"
             ],
             [
              0.4444444444444444,
              "#bd3786"
             ],
             [
              0.5555555555555556,
              "#d8576b"
             ],
             [
              0.6666666666666666,
              "#ed7953"
             ],
             [
              0.7777777777777778,
              "#fb9f3a"
             ],
             [
              0.8888888888888888,
              "#fdca26"
             ],
             [
              1,
              "#f0f921"
             ]
            ],
            "type": "surface"
           }
          ],
          "table": [
           {
            "cells": {
             "fill": {
              "color": "#EBF0F8"
             },
             "line": {
              "color": "white"
             }
            },
            "header": {
             "fill": {
              "color": "#C8D4E3"
             },
             "line": {
              "color": "white"
             }
            },
            "type": "table"
           }
          ]
         },
         "layout": {
          "annotationdefaults": {
           "arrowcolor": "#2a3f5f",
           "arrowhead": 0,
           "arrowwidth": 1
          },
          "autotypenumbers": "strict",
          "coloraxis": {
           "colorbar": {
            "outlinewidth": 0,
            "ticks": ""
           }
          },
          "colorscale": {
           "diverging": [
            [
             0,
             "#8e0152"
            ],
            [
             0.1,
             "#c51b7d"
            ],
            [
             0.2,
             "#de77ae"
            ],
            [
             0.3,
             "#f1b6da"
            ],
            [
             0.4,
             "#fde0ef"
            ],
            [
             0.5,
             "#f7f7f7"
            ],
            [
             0.6,
             "#e6f5d0"
            ],
            [
             0.7,
             "#b8e186"
            ],
            [
             0.8,
             "#7fbc41"
            ],
            [
             0.9,
             "#4d9221"
            ],
            [
             1,
             "#276419"
            ]
           ],
           "sequential": [
            [
             0,
             "#0d0887"
            ],
            [
             0.1111111111111111,
             "#46039f"
            ],
            [
             0.2222222222222222,
             "#7201a8"
            ],
            [
             0.3333333333333333,
             "#9c179e"
            ],
            [
             0.4444444444444444,
             "#bd3786"
            ],
            [
             0.5555555555555556,
             "#d8576b"
            ],
            [
             0.6666666666666666,
             "#ed7953"
            ],
            [
             0.7777777777777778,
             "#fb9f3a"
            ],
            [
             0.8888888888888888,
             "#fdca26"
            ],
            [
             1,
             "#f0f921"
            ]
           ],
           "sequentialminus": [
            [
             0,
             "#0d0887"
            ],
            [
             0.1111111111111111,
             "#46039f"
            ],
            [
             0.2222222222222222,
             "#7201a8"
            ],
            [
             0.3333333333333333,
             "#9c179e"
            ],
            [
             0.4444444444444444,
             "#bd3786"
            ],
            [
             0.5555555555555556,
             "#d8576b"
            ],
            [
             0.6666666666666666,
             "#ed7953"
            ],
            [
             0.7777777777777778,
             "#fb9f3a"
            ],
            [
             0.8888888888888888,
             "#fdca26"
            ],
            [
             1,
             "#f0f921"
            ]
           ]
          },
          "colorway": [
           "#636efa",
           "#EF553B",
           "#00cc96",
           "#ab63fa",
           "#FFA15A",
           "#19d3f3",
           "#FF6692",
           "#B6E880",
           "#FF97FF",
           "#FECB52"
          ],
          "font": {
           "color": "#2a3f5f"
          },
          "geo": {
           "bgcolor": "white",
           "lakecolor": "white",
           "landcolor": "#E5ECF6",
           "showlakes": true,
           "showland": true,
           "subunitcolor": "white"
          },
          "hoverlabel": {
           "align": "left"
          },
          "hovermode": "closest",
          "mapbox": {
           "style": "light"
          },
          "paper_bgcolor": "white",
          "plot_bgcolor": "#E5ECF6",
          "polar": {
           "angularaxis": {
            "gridcolor": "white",
            "linecolor": "white",
            "ticks": ""
           },
           "bgcolor": "#E5ECF6",
           "radialaxis": {
            "gridcolor": "white",
            "linecolor": "white",
            "ticks": ""
           }
          },
          "scene": {
           "xaxis": {
            "backgroundcolor": "#E5ECF6",
            "gridcolor": "white",
            "gridwidth": 2,
            "linecolor": "white",
            "showbackground": true,
            "ticks": "",
            "zerolinecolor": "white"
           },
           "yaxis": {
            "backgroundcolor": "#E5ECF6",
            "gridcolor": "white",
            "gridwidth": 2,
            "linecolor": "white",
            "showbackground": true,
            "ticks": "",
            "zerolinecolor": "white"
           },
           "zaxis": {
            "backgroundcolor": "#E5ECF6",
            "gridcolor": "white",
            "gridwidth": 2,
            "linecolor": "white",
            "showbackground": true,
            "ticks": "",
            "zerolinecolor": "white"
           }
          },
          "shapedefaults": {
           "line": {
            "color": "#2a3f5f"
           }
          },
          "ternary": {
           "aaxis": {
            "gridcolor": "white",
            "linecolor": "white",
            "ticks": ""
           },
           "baxis": {
            "gridcolor": "white",
            "linecolor": "white",
            "ticks": ""
           },
           "bgcolor": "#E5ECF6",
           "caxis": {
            "gridcolor": "white",
            "linecolor": "white",
            "ticks": ""
           }
          },
          "title": {
           "x": 0.05
          },
          "xaxis": {
           "automargin": true,
           "gridcolor": "white",
           "linecolor": "white",
           "ticks": "",
           "title": {
            "standoff": 15
           },
           "zerolinecolor": "white",
           "zerolinewidth": 2
          },
          "yaxis": {
           "automargin": true,
           "gridcolor": "white",
           "linecolor": "white",
           "ticks": "",
           "title": {
            "standoff": 15
           },
           "zerolinecolor": "white",
           "zerolinewidth": 2
          }
         }
        },
        "title": {
         "font": {
          "size": 20
         },
         "text": "Proportion of movies genres"
        },
        "width": 800
       }
      }
     },
     "metadata": {},
     "output_type": "display_data"
    }
   ],
   "source": [
    "plot_genres_proportions_sorted(df_genres, False)"
   ]
  },
  {
   "cell_type": "code",
   "execution_count": 13,
   "metadata": {
    "execution": {
     "iopub.execute_input": "2024-12-13T13:53:23.379882Z",
     "iopub.status.busy": "2024-12-13T13:53:23.379400Z",
     "iopub.status.idle": "2024-12-13T13:53:23.477579Z",
     "shell.execute_reply": "2024-12-13T13:53:23.476551Z",
     "shell.execute_reply.started": "2024-12-13T13:53:23.379861Z"
    },
    "tags": []
   },
   "outputs": [
    {
     "data": {
      "application/vnd.plotly.v1+json": {
       "config": {
        "plotlyServerURL": "https://plot.ly"
       },
       "data": [
        {
         "hoverinfo": "label+value+percent",
         "labels": [
          "Propaganda",
          "Experimental",
          "Disaster",
          "Documentary",
          "Pornographic",
          "Animated",
          "Western",
          "War",
          "Fantasy",
          "Teen",
          "Musical",
          "Science Fiction",
          "Noir",
          "Historical",
          "Adventure",
          "Horror",
          "Crime",
          "Thriller",
          "Romance",
          "Action",
          "Comedy",
          "Drama"
         ],
         "marker": {
          "colors": [
           "rgb(141,211,199)",
           "rgb(255,255,179)",
           "rgb(190,186,218)",
           "rgb(251,128,114)",
           "rgb(128,177,211)",
           "rgb(253,180,98)",
           "rgb(179,222,105)",
           "rgb(252,205,229)",
           "rgb(217,217,217)",
           "rgb(188,128,189)",
           "rgb(204,235,197)",
           "rgb(255,237,111)"
          ]
         },
         "sort": false,
         "textinfo": "percent+label",
         "textposition": "inside",
         "type": "pie",
         "values": [
          129,
          155,
          205,
          236,
          256,
          410,
          426,
          693,
          737,
          869,
          883,
          1110,
          1220,
          1268,
          1314,
          1786,
          2326,
          2992,
          2995,
          3506,
          4105,
          7524
         ]
        }
       ],
       "layout": {
        "height": 800,
        "legend": {
         "title": {
          "text": "Genres <br>"
         }
        },
        "showlegend": true,
        "template": {
         "data": {
          "bar": [
           {
            "error_x": {
             "color": "#2a3f5f"
            },
            "error_y": {
             "color": "#2a3f5f"
            },
            "marker": {
             "line": {
              "color": "#E5ECF6",
              "width": 0.5
             },
             "pattern": {
              "fillmode": "overlay",
              "size": 10,
              "solidity": 0.2
             }
            },
            "type": "bar"
           }
          ],
          "barpolar": [
           {
            "marker": {
             "line": {
              "color": "#E5ECF6",
              "width": 0.5
             },
             "pattern": {
              "fillmode": "overlay",
              "size": 10,
              "solidity": 0.2
             }
            },
            "type": "barpolar"
           }
          ],
          "carpet": [
           {
            "aaxis": {
             "endlinecolor": "#2a3f5f",
             "gridcolor": "white",
             "linecolor": "white",
             "minorgridcolor": "white",
             "startlinecolor": "#2a3f5f"
            },
            "baxis": {
             "endlinecolor": "#2a3f5f",
             "gridcolor": "white",
             "linecolor": "white",
             "minorgridcolor": "white",
             "startlinecolor": "#2a3f5f"
            },
            "type": "carpet"
           }
          ],
          "choropleth": [
           {
            "colorbar": {
             "outlinewidth": 0,
             "ticks": ""
            },
            "type": "choropleth"
           }
          ],
          "contour": [
           {
            "colorbar": {
             "outlinewidth": 0,
             "ticks": ""
            },
            "colorscale": [
             [
              0,
              "#0d0887"
             ],
             [
              0.1111111111111111,
              "#46039f"
             ],
             [
              0.2222222222222222,
              "#7201a8"
             ],
             [
              0.3333333333333333,
              "#9c179e"
             ],
             [
              0.4444444444444444,
              "#bd3786"
             ],
             [
              0.5555555555555556,
              "#d8576b"
             ],
             [
              0.6666666666666666,
              "#ed7953"
             ],
             [
              0.7777777777777778,
              "#fb9f3a"
             ],
             [
              0.8888888888888888,
              "#fdca26"
             ],
             [
              1,
              "#f0f921"
             ]
            ],
            "type": "contour"
           }
          ],
          "contourcarpet": [
           {
            "colorbar": {
             "outlinewidth": 0,
             "ticks": ""
            },
            "type": "contourcarpet"
           }
          ],
          "heatmap": [
           {
            "colorbar": {
             "outlinewidth": 0,
             "ticks": ""
            },
            "colorscale": [
             [
              0,
              "#0d0887"
             ],
             [
              0.1111111111111111,
              "#46039f"
             ],
             [
              0.2222222222222222,
              "#7201a8"
             ],
             [
              0.3333333333333333,
              "#9c179e"
             ],
             [
              0.4444444444444444,
              "#bd3786"
             ],
             [
              0.5555555555555556,
              "#d8576b"
             ],
             [
              0.6666666666666666,
              "#ed7953"
             ],
             [
              0.7777777777777778,
              "#fb9f3a"
             ],
             [
              0.8888888888888888,
              "#fdca26"
             ],
             [
              1,
              "#f0f921"
             ]
            ],
            "type": "heatmap"
           }
          ],
          "heatmapgl": [
           {
            "colorbar": {
             "outlinewidth": 0,
             "ticks": ""
            },
            "colorscale": [
             [
              0,
              "#0d0887"
             ],
             [
              0.1111111111111111,
              "#46039f"
             ],
             [
              0.2222222222222222,
              "#7201a8"
             ],
             [
              0.3333333333333333,
              "#9c179e"
             ],
             [
              0.4444444444444444,
              "#bd3786"
             ],
             [
              0.5555555555555556,
              "#d8576b"
             ],
             [
              0.6666666666666666,
              "#ed7953"
             ],
             [
              0.7777777777777778,
              "#fb9f3a"
             ],
             [
              0.8888888888888888,
              "#fdca26"
             ],
             [
              1,
              "#f0f921"
             ]
            ],
            "type": "heatmapgl"
           }
          ],
          "histogram": [
           {
            "marker": {
             "pattern": {
              "fillmode": "overlay",
              "size": 10,
              "solidity": 0.2
             }
            },
            "type": "histogram"
           }
          ],
          "histogram2d": [
           {
            "colorbar": {
             "outlinewidth": 0,
             "ticks": ""
            },
            "colorscale": [
             [
              0,
              "#0d0887"
             ],
             [
              0.1111111111111111,
              "#46039f"
             ],
             [
              0.2222222222222222,
              "#7201a8"
             ],
             [
              0.3333333333333333,
              "#9c179e"
             ],
             [
              0.4444444444444444,
              "#bd3786"
             ],
             [
              0.5555555555555556,
              "#d8576b"
             ],
             [
              0.6666666666666666,
              "#ed7953"
             ],
             [
              0.7777777777777778,
              "#fb9f3a"
             ],
             [
              0.8888888888888888,
              "#fdca26"
             ],
             [
              1,
              "#f0f921"
             ]
            ],
            "type": "histogram2d"
           }
          ],
          "histogram2dcontour": [
           {
            "colorbar": {
             "outlinewidth": 0,
             "ticks": ""
            },
            "colorscale": [
             [
              0,
              "#0d0887"
             ],
             [
              0.1111111111111111,
              "#46039f"
             ],
             [
              0.2222222222222222,
              "#7201a8"
             ],
             [
              0.3333333333333333,
              "#9c179e"
             ],
             [
              0.4444444444444444,
              "#bd3786"
             ],
             [
              0.5555555555555556,
              "#d8576b"
             ],
             [
              0.6666666666666666,
              "#ed7953"
             ],
             [
              0.7777777777777778,
              "#fb9f3a"
             ],
             [
              0.8888888888888888,
              "#fdca26"
             ],
             [
              1,
              "#f0f921"
             ]
            ],
            "type": "histogram2dcontour"
           }
          ],
          "mesh3d": [
           {
            "colorbar": {
             "outlinewidth": 0,
             "ticks": ""
            },
            "type": "mesh3d"
           }
          ],
          "parcoords": [
           {
            "line": {
             "colorbar": {
              "outlinewidth": 0,
              "ticks": ""
             }
            },
            "type": "parcoords"
           }
          ],
          "pie": [
           {
            "automargin": true,
            "type": "pie"
           }
          ],
          "scatter": [
           {
            "fillpattern": {
             "fillmode": "overlay",
             "size": 10,
             "solidity": 0.2
            },
            "type": "scatter"
           }
          ],
          "scatter3d": [
           {
            "line": {
             "colorbar": {
              "outlinewidth": 0,
              "ticks": ""
             }
            },
            "marker": {
             "colorbar": {
              "outlinewidth": 0,
              "ticks": ""
             }
            },
            "type": "scatter3d"
           }
          ],
          "scattercarpet": [
           {
            "marker": {
             "colorbar": {
              "outlinewidth": 0,
              "ticks": ""
             }
            },
            "type": "scattercarpet"
           }
          ],
          "scattergeo": [
           {
            "marker": {
             "colorbar": {
              "outlinewidth": 0,
              "ticks": ""
             }
            },
            "type": "scattergeo"
           }
          ],
          "scattergl": [
           {
            "marker": {
             "colorbar": {
              "outlinewidth": 0,
              "ticks": ""
             }
            },
            "type": "scattergl"
           }
          ],
          "scattermapbox": [
           {
            "marker": {
             "colorbar": {
              "outlinewidth": 0,
              "ticks": ""
             }
            },
            "type": "scattermapbox"
           }
          ],
          "scatterpolar": [
           {
            "marker": {
             "colorbar": {
              "outlinewidth": 0,
              "ticks": ""
             }
            },
            "type": "scatterpolar"
           }
          ],
          "scatterpolargl": [
           {
            "marker": {
             "colorbar": {
              "outlinewidth": 0,
              "ticks": ""
             }
            },
            "type": "scatterpolargl"
           }
          ],
          "scatterternary": [
           {
            "marker": {
             "colorbar": {
              "outlinewidth": 0,
              "ticks": ""
             }
            },
            "type": "scatterternary"
           }
          ],
          "surface": [
           {
            "colorbar": {
             "outlinewidth": 0,
             "ticks": ""
            },
            "colorscale": [
             [
              0,
              "#0d0887"
             ],
             [
              0.1111111111111111,
              "#46039f"
             ],
             [
              0.2222222222222222,
              "#7201a8"
             ],
             [
              0.3333333333333333,
              "#9c179e"
             ],
             [
              0.4444444444444444,
              "#bd3786"
             ],
             [
              0.5555555555555556,
              "#d8576b"
             ],
             [
              0.6666666666666666,
              "#ed7953"
             ],
             [
              0.7777777777777778,
              "#fb9f3a"
             ],
             [
              0.8888888888888888,
              "#fdca26"
             ],
             [
              1,
              "#f0f921"
             ]
            ],
            "type": "surface"
           }
          ],
          "table": [
           {
            "cells": {
             "fill": {
              "color": "#EBF0F8"
             },
             "line": {
              "color": "white"
             }
            },
            "header": {
             "fill": {
              "color": "#C8D4E3"
             },
             "line": {
              "color": "white"
             }
            },
            "type": "table"
           }
          ]
         },
         "layout": {
          "annotationdefaults": {
           "arrowcolor": "#2a3f5f",
           "arrowhead": 0,
           "arrowwidth": 1
          },
          "autotypenumbers": "strict",
          "coloraxis": {
           "colorbar": {
            "outlinewidth": 0,
            "ticks": ""
           }
          },
          "colorscale": {
           "diverging": [
            [
             0,
             "#8e0152"
            ],
            [
             0.1,
             "#c51b7d"
            ],
            [
             0.2,
             "#de77ae"
            ],
            [
             0.3,
             "#f1b6da"
            ],
            [
             0.4,
             "#fde0ef"
            ],
            [
             0.5,
             "#f7f7f7"
            ],
            [
             0.6,
             "#e6f5d0"
            ],
            [
             0.7,
             "#b8e186"
            ],
            [
             0.8,
             "#7fbc41"
            ],
            [
             0.9,
             "#4d9221"
            ],
            [
             1,
             "#276419"
            ]
           ],
           "sequential": [
            [
             0,
             "#0d0887"
            ],
            [
             0.1111111111111111,
             "#46039f"
            ],
            [
             0.2222222222222222,
             "#7201a8"
            ],
            [
             0.3333333333333333,
             "#9c179e"
            ],
            [
             0.4444444444444444,
             "#bd3786"
            ],
            [
             0.5555555555555556,
             "#d8576b"
            ],
            [
             0.6666666666666666,
             "#ed7953"
            ],
            [
             0.7777777777777778,
             "#fb9f3a"
            ],
            [
             0.8888888888888888,
             "#fdca26"
            ],
            [
             1,
             "#f0f921"
            ]
           ],
           "sequentialminus": [
            [
             0,
             "#0d0887"
            ],
            [
             0.1111111111111111,
             "#46039f"
            ],
            [
             0.2222222222222222,
             "#7201a8"
            ],
            [
             0.3333333333333333,
             "#9c179e"
            ],
            [
             0.4444444444444444,
             "#bd3786"
            ],
            [
             0.5555555555555556,
             "#d8576b"
            ],
            [
             0.6666666666666666,
             "#ed7953"
            ],
            [
             0.7777777777777778,
             "#fb9f3a"
            ],
            [
             0.8888888888888888,
             "#fdca26"
            ],
            [
             1,
             "#f0f921"
            ]
           ]
          },
          "colorway": [
           "#636efa",
           "#EF553B",
           "#00cc96",
           "#ab63fa",
           "#FFA15A",
           "#19d3f3",
           "#FF6692",
           "#B6E880",
           "#FF97FF",
           "#FECB52"
          ],
          "font": {
           "color": "#2a3f5f"
          },
          "geo": {
           "bgcolor": "white",
           "lakecolor": "white",
           "landcolor": "#E5ECF6",
           "showlakes": true,
           "showland": true,
           "subunitcolor": "white"
          },
          "hoverlabel": {
           "align": "left"
          },
          "hovermode": "closest",
          "mapbox": {
           "style": "light"
          },
          "paper_bgcolor": "white",
          "plot_bgcolor": "#E5ECF6",
          "polar": {
           "angularaxis": {
            "gridcolor": "white",
            "linecolor": "white",
            "ticks": ""
           },
           "bgcolor": "#E5ECF6",
           "radialaxis": {
            "gridcolor": "white",
            "linecolor": "white",
            "ticks": ""
           }
          },
          "scene": {
           "xaxis": {
            "backgroundcolor": "#E5ECF6",
            "gridcolor": "white",
            "gridwidth": 2,
            "linecolor": "white",
            "showbackground": true,
            "ticks": "",
            "zerolinecolor": "white"
           },
           "yaxis": {
            "backgroundcolor": "#E5ECF6",
            "gridcolor": "white",
            "gridwidth": 2,
            "linecolor": "white",
            "showbackground": true,
            "ticks": "",
            "zerolinecolor": "white"
           },
           "zaxis": {
            "backgroundcolor": "#E5ECF6",
            "gridcolor": "white",
            "gridwidth": 2,
            "linecolor": "white",
            "showbackground": true,
            "ticks": "",
            "zerolinecolor": "white"
           }
          },
          "shapedefaults": {
           "line": {
            "color": "#2a3f5f"
           }
          },
          "ternary": {
           "aaxis": {
            "gridcolor": "white",
            "linecolor": "white",
            "ticks": ""
           },
           "baxis": {
            "gridcolor": "white",
            "linecolor": "white",
            "ticks": ""
           },
           "bgcolor": "#E5ECF6",
           "caxis": {
            "gridcolor": "white",
            "linecolor": "white",
            "ticks": ""
           }
          },
          "title": {
           "x": 0.05
          },
          "xaxis": {
           "automargin": true,
           "gridcolor": "white",
           "linecolor": "white",
           "ticks": "",
           "title": {
            "standoff": 15
           },
           "zerolinecolor": "white",
           "zerolinewidth": 2
          },
          "yaxis": {
           "automargin": true,
           "gridcolor": "white",
           "linecolor": "white",
           "ticks": "",
           "title": {
            "standoff": 15
           },
           "zerolinecolor": "white",
           "zerolinewidth": 2
          }
         }
        },
        "title": {
         "font": {
          "size": 20
         },
         "text": "Proportion of movies genres"
        },
        "width": 800
       }
      }
     },
     "metadata": {},
     "output_type": "display_data"
    }
   ],
   "source": [
    "plot_genres_proportions_sorted(df_main_genres, True)"
   ]
  },
  {
   "cell_type": "code",
   "execution_count": null,
   "metadata": {},
   "outputs": [],
   "source": []
  }
 ],
 "metadata": {
  "kernelspec": {
   "display_name": "ada",
   "language": "python",
   "name": "python3"
  },
  "language_info": {
   "codemirror_mode": {
    "name": "ipython",
    "version": 3
   },
   "file_extension": ".py",
   "mimetype": "text/x-python",
   "name": "python",
   "nbconvert_exporter": "python",
   "pygments_lexer": "ipython3",
   "version": "3.11.9"
  }
 },
 "nbformat": 4,
 "nbformat_minor": 4
}
