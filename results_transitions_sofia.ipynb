{
 "cells": [
  {
   "cell_type": "code",
   "execution_count": 1,
   "id": "56a4c02f-46b2-4251-a723-017b06936102",
   "metadata": {},
   "outputs": [],
   "source": [
    "import numpy as np\n",
    "import pandas as pd\n",
    "\n",
    "import plotly.graph_objects as go\n",
    "from plotly.subplots import make_subplots\n",
    "import plotly.io as pio\n",
    "import json\n",
    "\n",
    "from src.data.load_final_data import load_final_movies_and_reviews\n",
    "from src.data.merge_genres import get_genres_merged\n",
    "from src.scripts.emotion_transitions import *\n",
    "from src.scripts.emotion_evolution import *"
   ]
  },
  {
   "cell_type": "code",
   "execution_count": 3,
   "id": "1850f82f-a4b1-4543-9437-cebc0967269b",
   "metadata": {},
   "outputs": [],
   "source": [
    "genres_list = ['Action', 'Adventure', 'Animated', 'Comedy', 'Crime','Disaster', 'Documentary', 'Drama', 'Experimental', 'Fantasy', 'Historical', 'Horror', 'Musical', 'Noir', 'Pornographic', 'Propaganda',\n",
    "               'Romance', 'Science Fiction', 'Teen', 'Thriller', 'War', 'Western']\n",
    "\n",
    "plot_emotions_df = pd.read_csv('data/PredictedEmotions/plot_emotions.tsv', sep='\\t')\n",
    "df_movies, df_language, df_countries, df_genres, df_reviews = load_final_movies_and_reviews()\n",
    "emotions_split_df = split_movies_emotions_and_genres(plot_emotions_df, df_genres)"
   ]
  },
  {
   "cell_type": "code",
   "execution_count": 4,
   "id": "447093ad-b937-45a6-90a7-7436eee8166b",
   "metadata": {},
   "outputs": [],
   "source": [
    "plot_heat_map_transitions_plotly(emotions_split_df)\n",
    "for genre in genres_list:\n",
    "    plot_heat_map_transitions_plotly(emotions_split_df, genre=genre)"
   ]
  },
  {
   "cell_type": "code",
   "execution_count": 5,
   "id": "53c5b373-4e89-48f3-bd7c-4f7295c6be76",
   "metadata": {
    "scrolled": true
   },
   "outputs": [],
   "source": [
    "plot_separated_sankey_plotly(emotions_split_df)\n",
    "for genre in genres_list:\n",
    "    plot_separated_sankey_plotly(emotions_split_df, genre=genre)"
   ]
  },
  {
   "cell_type": "code",
   "execution_count": 8,
   "id": "6d453144-bf62-4798-823b-f8643374ba83",
   "metadata": {},
   "outputs": [],
   "source": [
    "df_emotions_by_genre_time = construct_emotions_by_genre_and_time_df(plot_emotions_df, df_genres)"
   ]
  },
  {
   "cell_type": "code",
   "execution_count": 9,
   "id": "8d97b246-f8b9-4511-a73f-c8c9f6c774b8",
   "metadata": {},
   "outputs": [],
   "source": [
    "plot_bar_and_scatter_emotion_evolution(df_emotions_by_genre_time, \"All Genres\", all_genres=True)\n",
    "for genre in genres_list:\n",
    "    plot_bar_and_scatter_emotion_evolution(df_emotions_by_genre_time, genre, all_genres=False)"
   ]
  },
  {
   "cell_type": "code",
   "execution_count": null,
   "id": "69e9523d-c407-4125-b5ca-3f263fb4a6d2",
   "metadata": {},
   "outputs": [],
   "source": []
  }
 ],
 "metadata": {
  "kernelspec": {
   "display_name": "ada",
   "language": "python",
   "name": "python3"
  },
  "language_info": {
   "codemirror_mode": {
    "name": "ipython",
    "version": 3
   },
   "file_extension": ".py",
   "mimetype": "text/x-python",
   "name": "python",
   "nbconvert_exporter": "python",
   "pygments_lexer": "ipython3",
   "version": "3.11.9"
  }
 },
 "nbformat": 4,
 "nbformat_minor": 5
}
