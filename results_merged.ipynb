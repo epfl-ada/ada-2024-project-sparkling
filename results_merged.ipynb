{
 "cells": [
  {
   "cell_type": "code",
   "execution_count": null,
   "metadata": {},
   "outputs": [],
   "source": [
    "import pandas as pd\n",
    "from src.utils.initial_plots_data import plot_movies_over_time_months, plot_movies_over_time_years, plot_pie_genres_proportion, plot_donut_top_countries, show_top_10_words_per_emotion\n",
    "from src.data.load_final_data import load_final_movies_and_reviews\n",
    "from src.data.data_wrangling import load_and_clean_movies_df\n",
    "from src.data.load_data_reviews_kaggle import load_movie_reviews_kaggle\n",
    "from src.data.load_data_non_commercial_imdb import load_imdb_id_wikipedia_id, load_imdb_average_reviews\n",
    "from src.data.normalize_emotions import normalize_total_plot_emotions, normalize_review_emotions\n",
    "from src.scripts.scrap_date import scrap_years_months_movies, get_final_dates, load_scrapped_dates, save_final_dates\n",
    "from src.scripts.scrap_reviews import scrape_reviews\n",
    "from src.models.predict_emotions import predict_emotions_to_tsv, merge_df_with_emotions_tsv, predict_emotions_to_tsv, merge_df_with_emotions_tsv\n",
    "from src.data.merge_genres import *\n",
    "from src.utils.plot_correlations import *\n",
    "from src.utils.initial_plots_data import *\n",
    "from src.data.load_data import load_character_metadata\n",
    "\n",
    "# If you have any problem with NLTK restart your kernel and run this:\n",
    "# import nltk\n",
    "# nltk.download('stopwords')\n",
    "# nltk.download('wordnet')\n",
    "\n",
    "from scipy.stats import spearmanr, pearsonr\n",
    "\n",
    "from src.utils.plot_3D_actor_emotions import plot_3D_actor_plot_emotion, plot_3D_actor_review_emotion\n",
    "from src.utils.plot_bars_actors_emotions import plot_actors_emotion_selector\n",
    "from src.models.kmeans_emotional_type import get_best_k_clustered_movie_emotional_type\n",
    "from src.utils.plot_movie_emotional_type import plot_clustered_movie_emotional_type, plot_emotions_centroids\n",
    "from src.data.actor_name_statistics import get_actors_name_and_statistics\n",
    "from src.utils.plot_genres import plot_emotion_distribution\n",
    "from src.utils.plot_ratings import emotion_distribution_by_movie_rating\n",
    "from src.scripts.emotion_evolution import *\n",
    "from src.models.predict_emotions import read_tsv_predicted_emotions\n",
    "from src.scripts.emotion_transitions import *\n",
    "from src.utils.plot_countries_plots import plot_world_map_emotion_by_genre, plot_world_map_average_rating\n",
    "from src.utils.plot_ratings_by_dominant_emotion import plot_ratings_by_most_dominant_emotion\n",
    "from src.utils.plot_top_words import generate_word_clouds_by_emotion\n",
    "from src.scripts.emotion_transitions import *\n",
    "from src.scripts.emotion_evolution import *\n",
    "from src.utils.plots_month_trends import*\n",
    "from src.utils.plots_genres import*\n",
    "\n",
    "# Make sure that if any dependencies changes it will be reflected in the notebook (From the ML course)\n",
    "%load_ext autoreload\n",
    "%autoreload 2"
   ]
  },
  {
   "cell_type": "markdown",
   "metadata": {},
   "source": [
    "### Scripts to create and process our datasets \n",
    "(We do not recommand running theses functions. We ran some of them for multiple days):\n",
    "\n",
    "Load movie metadata:\n",
    "\n",
    "`df_movies_metadata, df_movies_language, df_movies_countries, df_movies_genres = load_and_clean_movies_df()`\n",
    "\n",
    "Load movie reviews from kaggle:\n",
    "\n",
    "`df_reviews_kaggle = load_movie_reviews_kaggle(df_movies_metadata)`\n",
    "\n",
    "Load mapping IMDB id to wikipedia ID:\n",
    "\n",
    "`df_mapping_imdb_id_wikipedia_id = load_imdb_id_wikipedia_id(df_movies_metadata)`\n",
    "\n",
    "Load movie average reviews from the non-commercial IMDB:\n",
    "\n",
    "`df_imdb_average_reviews = load_imdb_average_reviews(df_mapping_imdb_id_wikipedia_id)`\n",
    "\n",
    "### Predict emotions\n",
    "\n",
    "Compute plot emotions:\n",
    "\n",
    "`predict_emotions_to_tsv(df_movies, column='plot', file_name='plot_emotions.tsv')`\n",
    "\n",
    "Merging df_movies with plot_emotions.tsv:\n",
    "\n",
    "`df_movies_with_emotions = merge_df_with_emotions_tsv(df_movies, file_name='plot_emotions.tsv', prefix='plot')`\n",
    "\n",
    "Compute review emotions:\n",
    "`predict_emotions_to_tsv(df_reviews, column='review_detail', file_name='review_emotions.tsv, is_review=True')`\n",
    "\n",
    "Merging df_reviews with review_emotions.tsv:\n",
    "\n",
    "`df_reviews_with_emotions = merge_df_with_emotions_tsv(df_reviews, file_name='review_emotions.tsv', prefix='review', is_review=True)`\n",
    "\n",
    "### Scrap more years and months:\n",
    "We scrap our years and months data using:\n",
    "\n",
    "`scrap_years_months_movies(df_movies_metadata)`\n",
    "\n",
    "Then we load the resulting csv and combine both data (from both the original dataset and scrapped data):\n",
    "\n",
    "`save_final_dates(get_final_dates(load_scrapped_dates()))`\n",
    "\n",
    "### Scrap more reviews:\n",
    "\n",
    "`scrape_reviews(df_mapping_imdb_id_wikipedia_id)`\n",
    "\n",
    "### Scripts to normalize emotion scores\n",
    "We normalize the plot emotion scores using: \n",
    "\n",
    "`df_movies_with_emotions_normalized = normalize_total_plot_emotions(df_movies_with_emotions, with_neutral=False)`\n",
    "\n",
    "We normalize the review emotion scores using: \n",
    "\n",
    "`df_reviews_with_emotions_normalized = normalize_review_emotions(df_reviews_with_emotions, with_neutral=False)`"
   ]
  },
  {
   "cell_type": "markdown",
   "metadata": {},
   "source": [
    "# Scripts to create and load our final data\n",
    "Note: You need at least the files 'final_movies.csv' and 'final_reviews.csv' and 'movie.metadata.tsv' (More information in the README)"
   ]
  },
  {
   "cell_type": "code",
   "execution_count": null,
   "metadata": {},
   "outputs": [],
   "source": [
    "df_movies, df_language, df_countries, df_genres, df_reviews = load_final_movies_and_reviews()\n",
    "\n",
    "df_movies_with_emotions = merge_df_with_emotions_tsv(\n",
    "    df_movies, \n",
    "    file_name='plot_emotions.tsv', \n",
    "    prefix='plot'\n",
    ")\n",
    "\n",
    "df_movies_with_emotions_normalized = normalize_total_plot_emotions(\n",
    "    df_movies_with_emotions, \n",
    "    with_neutral=False\n",
    ")\n",
    "\n",
    "df_reviews_with_emotions = merge_df_with_emotions_tsv(\n",
    "    df_reviews, \n",
    "    file_name='review_emotions.tsv', \n",
    "    prefix='review', \n",
    "    is_review=True)\n",
    "\n",
    "df_reviews_with_emotions_normalized = normalize_review_emotions(\n",
    "    df_reviews_with_emotions, \n",
    "    with_neutral=False\n",
    ")\n",
    "df_characters = load_character_metadata()[[\"wikipedia_ID\", \"actor_name\", \"freebase_ID_actor\"]].dropna(axis=0)\n",
    "df_main_genres = get_genres_merged(df_genres)\n",
    "\n",
    "plot_emotions_df = read_tsv_predicted_emotions('plot_emotions.tsv')\n",
    "emotions_split_df = split_movies_emotions_and_genres(plot_emotions_df, df_genres)"
   ]
  },
  {
   "cell_type": "code",
   "execution_count": null,
   "metadata": {},
   "outputs": [],
   "source": [
    "print(\"Our dataset has {} different movies\".format(len(df_movies_with_emotions_normalized)))\n",
    "print(\"Without combining any genres, we have {} different genres\".format(df_genres.shape[1]))\n",
    "print(\"We also have {} different countries\".format(df_countries.shape[1]))\n",
    "print(\"Finally, we have {} different languages\".format(df_language.shape[1]))"
   ]
  },
  {
   "cell_type": "code",
   "execution_count": null,
   "metadata": {},
   "outputs": [],
   "source": [
    "plot_emotion_distribution(df_movies_with_emotions_normalized, df_main_genres, is_review=False, filename=\"emotion_plot_genres\")\n",
    "plot_emotion_distribution(df_reviews_with_emotions_normalized, df_main_genres, is_review=True, filename=\"emotion_reviews_genres\")"
   ]
  },
  {
   "cell_type": "code",
   "execution_count": null,
   "metadata": {},
   "outputs": [],
   "source": [
    "emotion_distribution_by_movie_rating(df_movies_with_emotions_normalized, is_review=False, filename=\"emotion_plot_rating_bins\")\n",
    "emotion_distribution_by_movie_rating(df_movies_with_emotions_normalized, df_reviews_with_emotions_normalized, is_review=True, filename=\"emotion_reviews_rating_bins\")"
   ]
  },
  {
   "cell_type": "code",
   "execution_count": null,
   "metadata": {},
   "outputs": [],
   "source": [
    "get_best_k_clustered_movie_emotional_type(normalize_total_plot_emotions(df_movies_with_emotions), False, 2, 10);\n",
    "get_best_k_clustered_movie_emotional_type(normalize_review_emotions(df_reviews_with_emotions), True, 2, 10);"
   ]
  },
  {
   "cell_type": "code",
   "execution_count": null,
   "metadata": {},
   "outputs": [],
   "source": [
    "plot_emotions_mean_genres, clusters_plots = plot_clustered_movie_emotional_type(normalize_total_plot_emotions(df_movies_with_emotions), df_genres, False, k=2, clusters_color = {0: \"steelblue\", 1: \"palevioletred\"})\n",
    "reviews_emotions_mean_genres, clusters_reviews = plot_clustered_movie_emotional_type(normalize_review_emotions(df_reviews_with_emotions), df_genres, True, clusters_color = {0: \"palevioletred\", 1: \"steelblue\"}, clusters_col_subplot = {1:1, 0:2})"
   ]
  },
  {
   "cell_type": "code",
   "execution_count": null,
   "metadata": {},
   "outputs": [],
   "source": [
    "correlations = [(0, 1), (1,0)]\n",
    "for correlation in correlations:\n",
    "    plot_cluster = plot_emotions_mean_genres.drop(\"cluster\", axis=1)[plot_emotions_mean_genres[\"cluster\"] == correlation[0]]\n",
    "    review_cluster = reviews_emotions_mean_genres.drop(\"cluster\", axis=1)[reviews_emotions_mean_genres[\"cluster\"] == correlation[1]]\n",
    "\n",
    "    spearmanr_corr = spearmanr(plot_cluster.values[0], review_cluster.values[0])\n",
    "    pearsonr_corr = pearsonr(plot_cluster.values[0], review_cluster.values[0])\n",
    "\n",
    "    print(f\"The spearmanr correlation for the cluster {correlation[0]} from the plot emotions clustering and the cluster {correlation[1]} from the reviews emotions clustering is {spearmanr_corr.statistic} with pvalue {spearmanr_corr.pvalue}\")\n",
    "    print(f\"The pearsonr correlation for the cluster {correlation[0]} from the plot emotions clustering and the cluster {correlation[1]} from the reviews emotions clustering is {pearsonr_corr.statistic} with pvalue {pearsonr_corr.pvalue}\")"
   ]
  },
  {
   "cell_type": "code",
   "execution_count": null,
   "metadata": {},
   "outputs": [],
   "source": [
    "plot_3D_actor_plot_emotion(df_characters, df_movies_with_emotions)\n",
    "plot_3D_actor_review_emotion(df_characters, df_reviews_with_emotions)"
   ]
  },
  {
   "cell_type": "code",
   "execution_count": null,
   "metadata": {},
   "outputs": [],
   "source": [
    "df_emotion_max_actor_plots, df_emotion_max_actor_reviews = plot_actors_emotion_selector(df_characters, df_movies_with_emotions, df_reviews_with_emotions)"
   ]
  },
  {
   "cell_type": "code",
   "execution_count": null,
   "metadata": {},
   "outputs": [],
   "source": [
    "print(\"Top actors plot emotions:\")\n",
    "get_actors_name_and_statistics(df_emotion_max_actor_plots, df_characters, normalize_total_plot_emotions(df_movies_with_emotions, with_neutral=False))"
   ]
  },
  {
   "cell_type": "code",
   "execution_count": null,
   "metadata": {},
   "outputs": [],
   "source": [
    "print(\"Top actors plot reviews:\")\n",
    "get_actors_name_and_statistics(df_emotion_max_actor_reviews, df_characters, normalize_total_plot_emotions(df_movies_with_emotions, with_neutral=False))"
   ]
  },
  {
   "cell_type": "code",
   "execution_count": null,
   "metadata": {},
   "outputs": [],
   "source": [
    "plot_world_map_emotion_by_genre(df_movies_with_emotions_normalized, df_countries, is_reviews=False)\n",
    "plot_world_map_emotion_by_genre(df_reviews_with_emotions_normalized, df_countries, is_reviews=True)\n",
    "plot_world_map_average_rating(df_movies_with_emotions_normalized, df_countries)\n",
    "plot_ratings_by_most_dominant_emotion(df_reviews_with_emotions)"
   ]
  },
  {
   "cell_type": "code",
   "execution_count": null,
   "metadata": {},
   "outputs": [],
   "source": [
    "generate_word_clouds_by_emotion(df_movies_with_emotions_normalized)"
   ]
  },
  {
   "cell_type": "code",
   "execution_count": 15,
   "metadata": {},
   "outputs": [],
   "source": [
    "genres_list = df_main_genres.drop(\"wikipedia_ID\", axis=1).columns"
   ]
  },
  {
   "cell_type": "code",
   "execution_count": null,
   "metadata": {},
   "outputs": [],
   "source": [
    "plot_heat_map_transitions_plotly(emotions_split_df)\n",
    "for genre in genres_list:\n",
    "    plot_heat_map_transitions_plotly(emotions_split_df, genre=genre)"
   ]
  },
  {
   "cell_type": "code",
   "execution_count": null,
   "metadata": {},
   "outputs": [],
   "source": [
    "plot_separated_sankey_plotly(emotions_split_df)\n",
    "for genre in genres_list:\n",
    "    plot_separated_sankey_plotly(emotions_split_df, genre=genre)"
   ]
  },
  {
   "cell_type": "code",
   "execution_count": null,
   "metadata": {},
   "outputs": [],
   "source": [
    "df_emotions_by_genre_time = construct_emotions_by_genre_and_time_df(plot_emotions_df, df_genres)\n",
    "plot_bar_and_scatter_emotion_evolution(df_emotions_by_genre_time, \"All Genres\", all_genres=True)\n",
    "for genre in genres_list:\n",
    "    plot_bar_and_scatter_emotion_evolution(df_emotions_by_genre_time, genre, all_genres=False)"
   ]
  },
  {
   "cell_type": "code",
   "execution_count": null,
   "metadata": {},
   "outputs": [],
   "source": [
    "periodic_emotions_diff_plot = plot_variation(\"plot\", df_movies_with_emotions_normalized)"
   ]
  },
  {
   "cell_type": "code",
   "execution_count": null,
   "metadata": {},
   "outputs": [],
   "source": [
    "periodic_emotions_diff_review = plot_variation(\"review\", df_reviews_with_emotions_normalized, df_movies)"
   ]
  },
  {
   "cell_type": "code",
   "execution_count": null,
   "metadata": {},
   "outputs": [],
   "source": [
    "corr_p_value_plot_periods(periodic_emotions_diff_plot, periodic_emotions_diff_review)"
   ]
  },
  {
   "cell_type": "code",
   "execution_count": null,
   "metadata": {},
   "outputs": [],
   "source": [
    "generate_emotion_genre_heatmap(df_main_genres, df_movies_with_emotions_normalized)"
   ]
  },
  {
   "cell_type": "code",
   "execution_count": null,
   "metadata": {},
   "outputs": [],
   "source": [
    "plot_genres_proportions_sorted(df_genres, False)"
   ]
  },
  {
   "cell_type": "code",
   "execution_count": null,
   "metadata": {},
   "outputs": [],
   "source": [
    "plot_genres_proportions_sorted(df_main_genres, True)"
   ]
  },
  {
   "cell_type": "code",
   "execution_count": null,
   "metadata": {},
   "outputs": [],
   "source": []
  }
 ],
 "metadata": {
  "kernelspec": {
   "display_name": "ada",
   "language": "python",
   "name": "python3"
  },
  "language_info": {
   "codemirror_mode": {
    "name": "ipython",
    "version": 3
   },
   "file_extension": ".py",
   "mimetype": "text/x-python",
   "name": "python",
   "nbconvert_exporter": "python",
   "pygments_lexer": "ipython3",
   "version": "3.11.9"
  }
 },
 "nbformat": 4,
 "nbformat_minor": 2
}
