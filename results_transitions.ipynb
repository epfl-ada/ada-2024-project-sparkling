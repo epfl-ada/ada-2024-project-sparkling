{
 "cells": [
  {
   "cell_type": "code",
   "execution_count": 1,
   "id": "56a4c02f-46b2-4251-a723-017b06936102",
   "metadata": {},
   "outputs": [],
   "source": [
    "import numpy as np\n",
    "import pandas as pd\n",
    "\n",
    "import plotly.graph_objects as go\n",
    "from plotly.subplots import make_subplots\n",
    "import plotly.io as pio\n",
    "\n",
    "import json\n",
    "\n",
    "from src.data.load_final_data import load_final_movies_and_reviews\n",
    "from src.data.merge_genres import get_genres_merged\n",
    "from src.scripts.emotion_transitions import *"
   ]
  },
  {
   "cell_type": "code",
   "execution_count": 2,
   "id": "1850f82f-a4b1-4543-9437-cebc0967269b",
   "metadata": {},
   "outputs": [],
   "source": [
    "df_movies, df_language, df_countries, df_genres, df_reviews = load_final_movies_and_reviews()"
   ]
  },
  {
   "cell_type": "code",
   "execution_count": 3,
   "id": "925c343a-770a-46be-a3a2-fb4df255d1e5",
   "metadata": {},
   "outputs": [],
   "source": [
    "plot_emotions_df = pd.read_csv('plot_emotions.tsv', sep='\\t')"
   ]
  },
  {
   "cell_type": "code",
   "execution_count": 4,
   "id": "6e865612-9e2c-4ad7-88a4-ea651b0d4c15",
   "metadata": {},
   "outputs": [],
   "source": [
    "emotions_split_df = split_movies_emotions_and_genres(plot_emotions_df, df_genres)"
   ]
  },
  {
   "cell_type": "code",
   "execution_count": 5,
   "id": "af983de3-1437-4123-bd9c-92a5fe50ac6b",
   "metadata": {},
   "outputs": [
    {
     "name": "stdout",
     "output_type": "stream",
     "text": [
      "Heatmap saved as heatmap_transitions.html\n"
     ]
    }
   ],
   "source": [
    "heat_map_transitions_plotly(emotions_split_df, by_genre=True)"
   ]
  },
  {
   "cell_type": "code",
   "execution_count": 6,
   "id": "d990f7e3-0c52-433a-9510-2ecd8f3b00f4",
   "metadata": {},
   "outputs": [],
   "source": [
    "grouped_emotions_split_df = split_movies_emotions_and_genres(plot_emotions_df, df_genres, group_emotions=True)"
   ]
  },
  {
   "cell_type": "code",
   "execution_count": 7,
   "id": "6d402323-79de-44d4-a9c9-ba8bb171c1ea",
   "metadata": {},
   "outputs": [
    {
     "name": "stdout",
     "output_type": "stream",
     "text": [
      "Heatmap saved as grouped_heatmap_transitions.html\n"
     ]
    }
   ],
   "source": [
    "heat_map_transitions_plotly(grouped_emotions_split_df, by_genre=True, group_emotions=True)"
   ]
  },
  {
   "cell_type": "code",
   "execution_count": null,
   "id": "d1bcfb2a-88fc-476b-8209-e2e2229d97cb",
   "metadata": {},
   "outputs": [],
   "source": []
  }
 ],
 "metadata": {
  "kernelspec": {
   "display_name": "Python 3 (ipykernel)",
   "language": "python",
   "name": "python3"
  },
  "language_info": {
   "codemirror_mode": {
    "name": "ipython",
    "version": 3
   },
   "file_extension": ".py",
   "mimetype": "text/x-python",
   "name": "python",
   "nbconvert_exporter": "python",
   "pygments_lexer": "ipython3",
   "version": "3.11.9"
  }
 },
 "nbformat": 4,
 "nbformat_minor": 5
}
