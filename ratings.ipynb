{
 "cells": [
  {
   "cell_type": "code",
   "execution_count": 1,
   "id": "fcb53802-b843-4b70-98b3-99eda39eab60",
   "metadata": {
    "execution": {
     "iopub.execute_input": "2024-11-08T16:58:33.776578Z",
     "iopub.status.busy": "2024-11-08T16:58:33.776496Z",
     "iopub.status.idle": "2024-11-08T16:58:34.114032Z",
     "shell.execute_reply": "2024-11-08T16:58:34.113680Z",
     "shell.execute_reply.started": "2024-11-08T16:58:33.776567Z"
    }
   },
   "outputs": [],
   "source": [
    "import pandas as pd\n",
    "import re\n",
    "\n",
    "#Take the ids of the movies for which we have the plot \n",
    "plot_ids = set()\n",
    "\n",
    "with open(\"plot_summaries.txt\", \"r\", encoding=\"utf-8\") as file:\n",
    "    for line in file:\n",
    "        match = re.match(r\"(\\d+)\", line)\n",
    "        if match:\n",
    "            plot_id = match.group(1)\n",
    "            plot_ids.add(plot_id)"
   ]
  },
  {
   "cell_type": "code",
   "execution_count": 2,
   "id": "ec70d8b5-5966-4f2c-91b2-cfaff24ae659",
   "metadata": {
    "execution": {
     "iopub.execute_input": "2024-11-08T16:58:34.114490Z",
     "iopub.status.busy": "2024-11-08T16:58:34.114387Z",
     "iopub.status.idle": "2024-11-08T16:58:34.226154Z",
     "shell.execute_reply": "2024-11-08T16:58:34.225805Z",
     "shell.execute_reply.started": "2024-11-08T16:58:34.114482Z"
    }
   },
   "outputs": [],
   "source": [
    "movies_data = pd.read_csv(\"movie.metadata.tsv\", sep='\\t', header=None)"
   ]
  },
  {
   "cell_type": "code",
   "execution_count": 3,
   "id": "b24163ea-9fe7-4ffe-a0ad-aa5900c9a962",
   "metadata": {
    "execution": {
     "iopub.execute_input": "2024-11-08T16:58:34.226579Z",
     "iopub.status.busy": "2024-11-08T16:58:34.226512Z",
     "iopub.status.idle": "2024-11-08T16:58:34.251809Z",
     "shell.execute_reply": "2024-11-08T16:58:34.251615Z",
     "shell.execute_reply.started": "2024-11-08T16:58:34.226571Z"
    }
   },
   "outputs": [
    {
     "data": {
      "text/html": [
       "<div>\n",
       "<style scoped>\n",
       "    .dataframe tbody tr th:only-of-type {\n",
       "        vertical-align: middle;\n",
       "    }\n",
       "\n",
       "    .dataframe tbody tr th {\n",
       "        vertical-align: top;\n",
       "    }\n",
       "\n",
       "    .dataframe thead th {\n",
       "        text-align: right;\n",
       "    }\n",
       "</style>\n",
       "<table border=\"1\" class=\"dataframe\">\n",
       "  <thead>\n",
       "    <tr style=\"text-align: right;\">\n",
       "      <th></th>\n",
       "      <th>wikipedia_ID</th>\n",
       "      <th>1</th>\n",
       "      <th>title</th>\n",
       "      <th>date</th>\n",
       "      <th>4</th>\n",
       "      <th>5</th>\n",
       "      <th>6</th>\n",
       "      <th>7</th>\n",
       "      <th>8</th>\n",
       "    </tr>\n",
       "  </thead>\n",
       "  <tbody>\n",
       "    <tr>\n",
       "      <th>0</th>\n",
       "      <td>975900</td>\n",
       "      <td>/m/03vyhn</td>\n",
       "      <td>Ghosts of Mars</td>\n",
       "      <td>2001-08-24</td>\n",
       "      <td>14010832.0</td>\n",
       "      <td>98.0</td>\n",
       "      <td>{\"/m/02h40lc\": \"English Language\"}</td>\n",
       "      <td>{\"/m/09c7w0\": \"United States of America\"}</td>\n",
       "      <td>{\"/m/01jfsb\": \"Thriller\", \"/m/06n90\": \"Science...</td>\n",
       "    </tr>\n",
       "    <tr>\n",
       "      <th>3</th>\n",
       "      <td>9363483</td>\n",
       "      <td>/m/0285_cd</td>\n",
       "      <td>White Of The Eye</td>\n",
       "      <td>1987</td>\n",
       "      <td>NaN</td>\n",
       "      <td>110.0</td>\n",
       "      <td>{\"/m/02h40lc\": \"English Language\"}</td>\n",
       "      <td>{\"/m/07ssc\": \"United Kingdom\"}</td>\n",
       "      <td>{\"/m/01jfsb\": \"Thriller\", \"/m/0glj9q\": \"Erotic...</td>\n",
       "    </tr>\n",
       "    <tr>\n",
       "      <th>4</th>\n",
       "      <td>261236</td>\n",
       "      <td>/m/01mrr1</td>\n",
       "      <td>A Woman in Flames</td>\n",
       "      <td>1983</td>\n",
       "      <td>NaN</td>\n",
       "      <td>106.0</td>\n",
       "      <td>{\"/m/04306rv\": \"German Language\"}</td>\n",
       "      <td>{\"/m/0345h\": \"Germany\"}</td>\n",
       "      <td>{\"/m/07s9rl0\": \"Drama\"}</td>\n",
       "    </tr>\n",
       "    <tr>\n",
       "      <th>6</th>\n",
       "      <td>18998739</td>\n",
       "      <td>/m/04jcqvw</td>\n",
       "      <td>The Sorcerer's Apprentice</td>\n",
       "      <td>2002</td>\n",
       "      <td>NaN</td>\n",
       "      <td>86.0</td>\n",
       "      <td>{\"/m/02h40lc\": \"English Language\"}</td>\n",
       "      <td>{\"/m/0hzlz\": \"South Africa\"}</td>\n",
       "      <td>{\"/m/0hqxf\": \"Family Film\", \"/m/01hmnh\": \"Fant...</td>\n",
       "    </tr>\n",
       "    <tr>\n",
       "      <th>12</th>\n",
       "      <td>6631279</td>\n",
       "      <td>/m/0gffwj</td>\n",
       "      <td>Little city</td>\n",
       "      <td>1997-04-04</td>\n",
       "      <td>NaN</td>\n",
       "      <td>93.0</td>\n",
       "      <td>{\"/m/02h40lc\": \"English Language\"}</td>\n",
       "      <td>{\"/m/09c7w0\": \"United States of America\"}</td>\n",
       "      <td>{\"/m/06cvj\": \"Romantic comedy\", \"/m/0hj3n0w\": ...</td>\n",
       "    </tr>\n",
       "  </tbody>\n",
       "</table>\n",
       "</div>"
      ],
      "text/plain": [
       "    wikipedia_ID           1                      title        date  \\\n",
       "0         975900   /m/03vyhn             Ghosts of Mars  2001-08-24   \n",
       "3        9363483  /m/0285_cd           White Of The Eye        1987   \n",
       "4         261236   /m/01mrr1          A Woman in Flames        1983   \n",
       "6       18998739  /m/04jcqvw  The Sorcerer's Apprentice        2002   \n",
       "12       6631279   /m/0gffwj                Little city  1997-04-04   \n",
       "\n",
       "             4      5                                   6  \\\n",
       "0   14010832.0   98.0  {\"/m/02h40lc\": \"English Language\"}   \n",
       "3          NaN  110.0  {\"/m/02h40lc\": \"English Language\"}   \n",
       "4          NaN  106.0   {\"/m/04306rv\": \"German Language\"}   \n",
       "6          NaN   86.0  {\"/m/02h40lc\": \"English Language\"}   \n",
       "12         NaN   93.0  {\"/m/02h40lc\": \"English Language\"}   \n",
       "\n",
       "                                            7  \\\n",
       "0   {\"/m/09c7w0\": \"United States of America\"}   \n",
       "3              {\"/m/07ssc\": \"United Kingdom\"}   \n",
       "4                     {\"/m/0345h\": \"Germany\"}   \n",
       "6                {\"/m/0hzlz\": \"South Africa\"}   \n",
       "12  {\"/m/09c7w0\": \"United States of America\"}   \n",
       "\n",
       "                                                    8  \n",
       "0   {\"/m/01jfsb\": \"Thriller\", \"/m/06n90\": \"Science...  \n",
       "3   {\"/m/01jfsb\": \"Thriller\", \"/m/0glj9q\": \"Erotic...  \n",
       "4                             {\"/m/07s9rl0\": \"Drama\"}  \n",
       "6   {\"/m/0hqxf\": \"Family Film\", \"/m/01hmnh\": \"Fant...  \n",
       "12  {\"/m/06cvj\": \"Romantic comedy\", \"/m/0hj3n0w\": ...  "
      ]
     },
     "execution_count": 3,
     "metadata": {},
     "output_type": "execute_result"
    }
   ],
   "source": [
    "#Take only the informations of movies for which we have a plot\n",
    "movies_with_plots = movies_data[movies_data[0].astype(str).isin(plot_ids)]\n",
    "movies_with_plots = movies_with_plots.rename(columns={0: 'wikipedia_ID', 2: 'title', 3: 'date'})\n",
    "movies_with_plots.head()"
   ]
  },
  {
   "cell_type": "code",
   "execution_count": 4,
   "id": "edcbfc5c-f67d-492b-815d-3ed5e01bdf7f",
   "metadata": {
    "execution": {
     "iopub.execute_input": "2024-11-08T16:58:34.252309Z",
     "iopub.status.busy": "2024-11-08T16:58:34.252196Z",
     "iopub.status.idle": "2024-11-08T16:58:42.149363Z",
     "shell.execute_reply": "2024-11-08T16:58:42.149022Z",
     "shell.execute_reply.started": "2024-11-08T16:58:34.252301Z"
    }
   },
   "outputs": [
    {
     "data": {
      "text/html": [
       "<div>\n",
       "<style scoped>\n",
       "    .dataframe tbody tr th:only-of-type {\n",
       "        vertical-align: middle;\n",
       "    }\n",
       "\n",
       "    .dataframe tbody tr th {\n",
       "        vertical-align: top;\n",
       "    }\n",
       "\n",
       "    .dataframe thead th {\n",
       "        text-align: right;\n",
       "    }\n",
       "</style>\n",
       "<table border=\"1\" class=\"dataframe\">\n",
       "  <thead>\n",
       "    <tr style=\"text-align: right;\">\n",
       "      <th></th>\n",
       "      <th>wikipedia_ID</th>\n",
       "      <th>tconst</th>\n",
       "    </tr>\n",
       "  </thead>\n",
       "  <tbody>\n",
       "    <tr>\n",
       "      <th>0</th>\n",
       "      <td>975900</td>\n",
       "      <td>tt0228333</td>\n",
       "    </tr>\n",
       "    <tr>\n",
       "      <th>1</th>\n",
       "      <td>9363483</td>\n",
       "      <td>tt0094320</td>\n",
       "    </tr>\n",
       "    <tr>\n",
       "      <th>2</th>\n",
       "      <td>261236</td>\n",
       "      <td>tt0083949</td>\n",
       "    </tr>\n",
       "    <tr>\n",
       "      <th>3</th>\n",
       "      <td>6631279</td>\n",
       "      <td>tt0119548</td>\n",
       "    </tr>\n",
       "    <tr>\n",
       "      <th>4</th>\n",
       "      <td>171005</td>\n",
       "      <td>tt0097499</td>\n",
       "    </tr>\n",
       "  </tbody>\n",
       "</table>\n",
       "</div>"
      ],
      "text/plain": [
       "   wikipedia_ID     tconst\n",
       "0        975900  tt0228333\n",
       "1       9363483  tt0094320\n",
       "2        261236  tt0083949\n",
       "3       6631279  tt0119548\n",
       "4        171005  tt0097499"
      ]
     },
     "execution_count": 4,
     "metadata": {},
     "output_type": "execute_result"
    }
   ],
   "source": [
    "#To import the imdb id for the movies we have\n",
    "imdb_id = pd.read_csv(\"title.basics.tsv\", sep='\\t', low_memory=False)\n",
    "\n",
    "#To have the titles in the same format\n",
    "imdb_id['primaryTitle'] = imdb_id['primaryTitle'].str.lower().str.replace(\" \", \"\", regex=True)\n",
    "imdb_id['originalTitle'] = imdb_id['originalTitle'].str.lower().str.replace(\" \", \"\", regex=True)\n",
    "movies_with_plots['title'] = movies_with_plots['title'].str.lower().str.replace(\" \", \"\", regex=True)\n",
    "\n",
    "#Let the imdb id only for movies ans tvMovies\n",
    "imdb_id = imdb_id[(imdb_id['titleType'] == 'movie') | (imdb_id['titleType'] == 'tvMovie')]\n",
    "\n",
    "#Take only the year of the movie to compare it with the startYear of the imdb dataframe\n",
    "movies_with_plots['date'] = movies_with_plots['date'].astype(str).str[:4]\n",
    "\n",
    "#Keep the imdb id of the movies for which we have a plot depending on the title and the year of the movie\n",
    "\n",
    "merge_primary = pd.merge(movies_with_plots, imdb_id, left_on=['title', 'date'], right_on=['primaryTitle', 'startYear'], how='inner')\n",
    "merge_original = pd.merge(movies_with_plots, imdb_id, left_on=['title', 'date'], right_on=['originalTitle', 'startYear'], how='inner')\n",
    "\n",
    "data_for_rantings = pd.concat([merge_primary, merge_original]).drop_duplicates(subset=['wikipedia_ID'])\n",
    "data_for_rantings = data_for_rantings[['wikipedia_ID', 'tconst']]\n",
    "data_for_rantings.head()"
   ]
  },
  {
   "cell_type": "code",
   "execution_count": 5,
   "id": "2fecea0e-7fb1-4573-ae4a-1d433047b113",
   "metadata": {
    "execution": {
     "iopub.execute_input": "2024-11-08T16:58:42.150282Z",
     "iopub.status.busy": "2024-11-08T16:58:42.150199Z",
     "iopub.status.idle": "2024-11-08T16:58:42.581676Z",
     "shell.execute_reply": "2024-11-08T16:58:42.581354Z",
     "shell.execute_reply.started": "2024-11-08T16:58:42.150271Z"
    }
   },
   "outputs": [
    {
     "data": {
      "text/html": [
       "<div>\n",
       "<style scoped>\n",
       "    .dataframe tbody tr th:only-of-type {\n",
       "        vertical-align: middle;\n",
       "    }\n",
       "\n",
       "    .dataframe tbody tr th {\n",
       "        vertical-align: top;\n",
       "    }\n",
       "\n",
       "    .dataframe thead th {\n",
       "        text-align: right;\n",
       "    }\n",
       "</style>\n",
       "<table border=\"1\" class=\"dataframe\">\n",
       "  <thead>\n",
       "    <tr style=\"text-align: right;\">\n",
       "      <th></th>\n",
       "      <th>tconst</th>\n",
       "      <th>averageRating</th>\n",
       "      <th>numVotes</th>\n",
       "    </tr>\n",
       "  </thead>\n",
       "  <tbody>\n",
       "    <tr>\n",
       "      <th>0</th>\n",
       "      <td>tt0000001</td>\n",
       "      <td>5.7</td>\n",
       "      <td>2096</td>\n",
       "    </tr>\n",
       "    <tr>\n",
       "      <th>1</th>\n",
       "      <td>tt0000002</td>\n",
       "      <td>5.6</td>\n",
       "      <td>282</td>\n",
       "    </tr>\n",
       "    <tr>\n",
       "      <th>2</th>\n",
       "      <td>tt0000003</td>\n",
       "      <td>6.5</td>\n",
       "      <td>2114</td>\n",
       "    </tr>\n",
       "    <tr>\n",
       "      <th>3</th>\n",
       "      <td>tt0000004</td>\n",
       "      <td>5.4</td>\n",
       "      <td>182</td>\n",
       "    </tr>\n",
       "    <tr>\n",
       "      <th>4</th>\n",
       "      <td>tt0000005</td>\n",
       "      <td>6.2</td>\n",
       "      <td>2844</td>\n",
       "    </tr>\n",
       "  </tbody>\n",
       "</table>\n",
       "</div>"
      ],
      "text/plain": [
       "      tconst  averageRating  numVotes\n",
       "0  tt0000001            5.7      2096\n",
       "1  tt0000002            5.6       282\n",
       "2  tt0000003            6.5      2114\n",
       "3  tt0000004            5.4       182\n",
       "4  tt0000005            6.2      2844"
      ]
     },
     "execution_count": 5,
     "metadata": {},
     "output_type": "execute_result"
    }
   ],
   "source": [
    "ratings = pd.read_csv(\"title.ratings.tsv\", sep='\\t', low_memory=False)\n",
    "ratings.head()"
   ]
  },
  {
   "cell_type": "code",
   "execution_count": 6,
   "id": "02e1e4c7-9fd1-477d-8074-5cd9dd418314",
   "metadata": {
    "execution": {
     "iopub.execute_input": "2024-11-08T16:58:42.582282Z",
     "iopub.status.busy": "2024-11-08T16:58:42.582207Z",
     "iopub.status.idle": "2024-11-08T16:58:42.821414Z",
     "shell.execute_reply": "2024-11-08T16:58:42.821159Z",
     "shell.execute_reply.started": "2024-11-08T16:58:42.582273Z"
    }
   },
   "outputs": [
    {
     "data": {
      "text/html": [
       "<div>\n",
       "<style scoped>\n",
       "    .dataframe tbody tr th:only-of-type {\n",
       "        vertical-align: middle;\n",
       "    }\n",
       "\n",
       "    .dataframe tbody tr th {\n",
       "        vertical-align: top;\n",
       "    }\n",
       "\n",
       "    .dataframe thead th {\n",
       "        text-align: right;\n",
       "    }\n",
       "</style>\n",
       "<table border=\"1\" class=\"dataframe\">\n",
       "  <thead>\n",
       "    <tr style=\"text-align: right;\">\n",
       "      <th></th>\n",
       "      <th>wikipedia_ID</th>\n",
       "      <th>averageRating</th>\n",
       "    </tr>\n",
       "  </thead>\n",
       "  <tbody>\n",
       "    <tr>\n",
       "      <th>0</th>\n",
       "      <td>975900</td>\n",
       "      <td>4.9</td>\n",
       "    </tr>\n",
       "    <tr>\n",
       "      <th>1</th>\n",
       "      <td>9363483</td>\n",
       "      <td>6.1</td>\n",
       "    </tr>\n",
       "    <tr>\n",
       "      <th>2</th>\n",
       "      <td>261236</td>\n",
       "      <td>5.9</td>\n",
       "    </tr>\n",
       "    <tr>\n",
       "      <th>3</th>\n",
       "      <td>6631279</td>\n",
       "      <td>5.8</td>\n",
       "    </tr>\n",
       "    <tr>\n",
       "      <th>4</th>\n",
       "      <td>171005</td>\n",
       "      <td>7.5</td>\n",
       "    </tr>\n",
       "  </tbody>\n",
       "</table>\n",
       "</div>"
      ],
      "text/plain": [
       "   wikipedia_ID  averageRating\n",
       "0        975900            4.9\n",
       "1       9363483            6.1\n",
       "2        261236            5.9\n",
       "3       6631279            5.8\n",
       "4        171005            7.5"
      ]
     },
     "execution_count": 6,
     "metadata": {},
     "output_type": "execute_result"
    }
   ],
   "source": [
    "#Associate each imdb id to the rating of the movie\n",
    "ratings = pd.merge(data_for_rantings, ratings, on='tconst', how='inner')\n",
    "ratings = ratings[['wikipedia_ID', 'averageRating']]\n",
    "ratings.head()"
   ]
  },
  {
   "cell_type": "code",
   "execution_count": 7,
   "id": "ab7bc03b-7ecd-4f9c-943a-10710fb6f899",
   "metadata": {
    "execution": {
     "iopub.execute_input": "2024-11-08T16:58:42.822790Z",
     "iopub.status.busy": "2024-11-08T16:58:42.822722Z",
     "iopub.status.idle": "2024-11-08T16:58:42.838297Z",
     "shell.execute_reply": "2024-11-08T16:58:42.838070Z",
     "shell.execute_reply.started": "2024-11-08T16:58:42.822782Z"
    }
   },
   "outputs": [],
   "source": [
    "ratings.to_csv(\"movies_ratings.csv\", index=False)"
   ]
  }
 ],
 "metadata": {
  "kernelspec": {
   "display_name": "Python 3 (ipykernel)",
   "language": "python",
   "name": "python3"
  },
  "language_info": {
   "codemirror_mode": {
    "name": "ipython",
    "version": 3
   },
   "file_extension": ".py",
   "mimetype": "text/x-python",
   "name": "python",
   "nbconvert_exporter": "python",
   "pygments_lexer": "ipython3",
   "version": "3.12.2"
  }
 },
 "nbformat": 4,
 "nbformat_minor": 5
}
