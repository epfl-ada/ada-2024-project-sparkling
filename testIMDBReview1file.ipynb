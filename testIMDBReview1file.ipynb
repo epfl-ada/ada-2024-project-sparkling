{
 "cells": [
  {
   "cell_type": "code",
   "execution_count": 10,
   "metadata": {},
   "outputs": [
    {
     "name": "stdout",
     "output_type": "stream",
     "text": [
      "The autoreload extension is already loaded. To reload it, use:\n",
      "  %reload_ext autoreload\n"
     ]
    }
   ],
   "source": [
    "from src.data.load_data import *\n",
    "from src.data.data_wrangling import *\n",
    "from src.data.load_data_reviews1 import load_movie_reviews1\n",
    "\n",
    "# Make sure that if any dependencies changes it will be reflected in the notebook (From the ML course)\n",
    "%load_ext autoreload\n",
    "%autoreload 2"
   ]
  },
  {
   "cell_type": "code",
   "execution_count": 11,
   "metadata": {},
   "outputs": [],
   "source": [
    "df_movies = load_and_clean_movies_df()"
   ]
  },
  {
   "cell_type": "code",
   "execution_count": 12,
   "metadata": {},
   "outputs": [
    {
     "name": "stdout",
     "output_type": "stream",
     "text": [
      "Loading reviews: part-01.json\n",
      "Loading reviews: part-02.json\n",
      "Loading reviews: part-03.json\n",
      "Loading reviews: part-04.json\n",
      "Loading reviews: part-05.json\n",
      "Loading reviews: part-06.json\n"
     ]
    }
   ],
   "source": [
    "reviews1 = load_movie_reviews1(df_movies)"
   ]
  },
  {
   "cell_type": "code",
   "execution_count": 13,
   "metadata": {},
   "outputs": [
    {
     "data": {
      "text/html": [
       "<div>\n",
       "<style scoped>\n",
       "    .dataframe tbody tr th:only-of-type {\n",
       "        vertical-align: middle;\n",
       "    }\n",
       "\n",
       "    .dataframe tbody tr th {\n",
       "        vertical-align: top;\n",
       "    }\n",
       "\n",
       "    .dataframe thead th {\n",
       "        text-align: right;\n",
       "    }\n",
       "</style>\n",
       "<table border=\"1\" class=\"dataframe\">\n",
       "  <thead>\n",
       "    <tr style=\"text-align: right;\">\n",
       "      <th></th>\n",
       "      <th>wikipedia_ID</th>\n",
       "      <th>name</th>\n",
       "      <th>release_year</th>\n",
       "      <th>rating</th>\n",
       "      <th>review_detail</th>\n",
       "    </tr>\n",
       "  </thead>\n",
       "  <tbody>\n",
       "    <tr>\n",
       "      <th>0</th>\n",
       "      <td>975900</td>\n",
       "      <td>Ghosts of Mars</td>\n",
       "      <td>2001</td>\n",
       "      <td>6.0</td>\n",
       "      <td>Oh no - not more zombies? Oh-yes; there's no e...</td>\n",
       "    </tr>\n",
       "    <tr>\n",
       "      <th>1</th>\n",
       "      <td>975900</td>\n",
       "      <td>Ghosts of Mars</td>\n",
       "      <td>2001</td>\n",
       "      <td>1.0</td>\n",
       "      <td>Lost my v card to this one. And that's pretty ...</td>\n",
       "    </tr>\n",
       "    <tr>\n",
       "      <th>2</th>\n",
       "      <td>975900</td>\n",
       "      <td>Ghosts of Mars</td>\n",
       "      <td>2001</td>\n",
       "      <td>7.0</td>\n",
       "      <td>I avoided seeing this film for the longest tim...</td>\n",
       "    </tr>\n",
       "    <tr>\n",
       "      <th>3</th>\n",
       "      <td>975900</td>\n",
       "      <td>Ghosts of Mars</td>\n",
       "      <td>2001</td>\n",
       "      <td>7.0</td>\n",
       "      <td>Ghosts of Mars: Saw it again last night. I've ...</td>\n",
       "    </tr>\n",
       "    <tr>\n",
       "      <th>4</th>\n",
       "      <td>975900</td>\n",
       "      <td>Ghosts of Mars</td>\n",
       "      <td>2001</td>\n",
       "      <td>5.0</td>\n",
       "      <td>The special effects for the de-limbing and dec...</td>\n",
       "    </tr>\n",
       "    <tr>\n",
       "      <th>...</th>\n",
       "      <td>...</td>\n",
       "      <td>...</td>\n",
       "      <td>...</td>\n",
       "      <td>...</td>\n",
       "      <td>...</td>\n",
       "    </tr>\n",
       "    <tr>\n",
       "      <th>321192</th>\n",
       "      <td>664006</td>\n",
       "      <td>Guilty as Sin</td>\n",
       "      <td>1993</td>\n",
       "      <td>NaN</td>\n",
       "      <td>Rebecca de Mornay and Don Johnson made a great...</td>\n",
       "    </tr>\n",
       "    <tr>\n",
       "      <th>321193</th>\n",
       "      <td>664006</td>\n",
       "      <td>Guilty as Sin</td>\n",
       "      <td>1993</td>\n",
       "      <td>10.0</td>\n",
       "      <td>Don Johnson gives an excellent portrayal of a ...</td>\n",
       "    </tr>\n",
       "    <tr>\n",
       "      <th>321194</th>\n",
       "      <td>664006</td>\n",
       "      <td>Guilty as Sin</td>\n",
       "      <td>1993</td>\n",
       "      <td>3.0</td>\n",
       "      <td>!!!! POSSIBLE MILD SPOILER !!!!!As I watched t...</td>\n",
       "    </tr>\n",
       "    <tr>\n",
       "      <th>321195</th>\n",
       "      <td>664006</td>\n",
       "      <td>Guilty as Sin</td>\n",
       "      <td>1993</td>\n",
       "      <td>5.0</td>\n",
       "      <td>SPOILERS Through!!I love thrillers so I was ab...</td>\n",
       "    </tr>\n",
       "    <tr>\n",
       "      <th>321196</th>\n",
       "      <td>664006</td>\n",
       "      <td>Guilty as Sin</td>\n",
       "      <td>1993</td>\n",
       "      <td>5.0</td>\n",
       "      <td>There is something wrong with this picture and...</td>\n",
       "    </tr>\n",
       "  </tbody>\n",
       "</table>\n",
       "<p>1859786 rows × 5 columns</p>\n",
       "</div>"
      ],
      "text/plain": [
       "        wikipedia_ID            name  release_year  rating  \\\n",
       "0             975900  Ghosts of Mars          2001     6.0   \n",
       "1             975900  Ghosts of Mars          2001     1.0   \n",
       "2             975900  Ghosts of Mars          2001     7.0   \n",
       "3             975900  Ghosts of Mars          2001     7.0   \n",
       "4             975900  Ghosts of Mars          2001     5.0   \n",
       "...              ...             ...           ...     ...   \n",
       "321192        664006   Guilty as Sin          1993     NaN   \n",
       "321193        664006   Guilty as Sin          1993    10.0   \n",
       "321194        664006   Guilty as Sin          1993     3.0   \n",
       "321195        664006   Guilty as Sin          1993     5.0   \n",
       "321196        664006   Guilty as Sin          1993     5.0   \n",
       "\n",
       "                                            review_detail  \n",
       "0       Oh no - not more zombies? Oh-yes; there's no e...  \n",
       "1       Lost my v card to this one. And that's pretty ...  \n",
       "2       I avoided seeing this film for the longest tim...  \n",
       "3       Ghosts of Mars: Saw it again last night. I've ...  \n",
       "4       The special effects for the de-limbing and dec...  \n",
       "...                                                   ...  \n",
       "321192  Rebecca de Mornay and Don Johnson made a great...  \n",
       "321193  Don Johnson gives an excellent portrayal of a ...  \n",
       "321194  !!!! POSSIBLE MILD SPOILER !!!!!As I watched t...  \n",
       "321195  SPOILERS Through!!I love thrillers so I was ab...  \n",
       "321196  There is something wrong with this picture and...  \n",
       "\n",
       "[1859786 rows x 5 columns]"
      ]
     },
     "execution_count": 13,
     "metadata": {},
     "output_type": "execute_result"
    }
   ],
   "source": [
    "reviews1"
   ]
  },
  {
   "cell_type": "code",
   "execution_count": 14,
   "metadata": {},
   "outputs": [
    {
     "data": {
      "text/plain": [
       "16766"
      ]
     },
     "execution_count": 14,
     "metadata": {},
     "output_type": "execute_result"
    }
   ],
   "source": [
    "# Number of movies that have more than 10 reviews\n",
    "(reviews1.groupby(\"name\")[\"review_detail\"].count() >= 10).sum()"
   ]
  },
  {
   "cell_type": "code",
   "execution_count": null,
   "metadata": {},
   "outputs": [],
   "source": []
  }
 ],
 "metadata": {
  "kernelspec": {
   "display_name": "ada",
   "language": "python",
   "name": "python3"
  },
  "language_info": {
   "codemirror_mode": {
    "name": "ipython",
    "version": 3
   },
   "file_extension": ".py",
   "mimetype": "text/x-python",
   "name": "python",
   "nbconvert_exporter": "python",
   "pygments_lexer": "ipython3",
   "version": "3.11.9"
  }
 },
 "nbformat": 4,
 "nbformat_minor": 2
}
