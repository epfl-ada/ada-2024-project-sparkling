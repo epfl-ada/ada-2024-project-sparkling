{
 "cells": [
  {
   "cell_type": "code",
   "execution_count": 1,
   "metadata": {},
   "outputs": [],
   "source": [
    "from src.data.load_data import *\n",
    "from src.data.data_wrangling import *\n",
    "from src.data.load_data_reviews1 import load_movie_reviews1\n",
    "\n",
    "# Make sure that if any dependencies changes it will be reflected in the notebook (From the ML course)\n",
    "%load_ext autoreload\n",
    "%autoreload 2"
   ]
  },
  {
   "cell_type": "code",
   "execution_count": 2,
   "metadata": {},
   "outputs": [],
   "source": [
    "df_movies = load_and_clean_movies_df()"
   ]
  },
  {
   "cell_type": "code",
   "execution_count": null,
   "metadata": {},
   "outputs": [
    {
     "name": "stdout",
     "output_type": "stream",
     "text": [
      "Loading reviews: part-01.json\n",
      "Loading reviews: part-02.json\n",
      "Loading reviews: part-03.json\n",
      "Loading reviews: part-04.json\n",
      "Loading reviews: part-05.json\n",
      "Loading reviews: part-06.json\n"
     ]
    }
   ],
   "source": [
    "reviews1 = load_movie_reviews1(df_movies)"
   ]
  },
  {
   "cell_type": "code",
   "execution_count": 4,
   "metadata": {},
   "outputs": [
    {
     "data": {
      "text/html": [
       "<div>\n",
       "<style scoped>\n",
       "    .dataframe tbody tr th:only-of-type {\n",
       "        vertical-align: middle;\n",
       "    }\n",
       "\n",
       "    .dataframe tbody tr th {\n",
       "        vertical-align: top;\n",
       "    }\n",
       "\n",
       "    .dataframe thead th {\n",
       "        text-align: right;\n",
       "    }\n",
       "</style>\n",
       "<table border=\"1\" class=\"dataframe\">\n",
       "  <thead>\n",
       "    <tr style=\"text-align: right;\">\n",
       "      <th></th>\n",
       "      <th>wikipedia_ID</th>\n",
       "      <th>name</th>\n",
       "      <th>release_year</th>\n",
       "      <th>rating</th>\n",
       "      <th>review_detail</th>\n",
       "    </tr>\n",
       "  </thead>\n",
       "  <tbody>\n",
       "    <tr>\n",
       "      <th>0</th>\n",
       "      <td>5096064</td>\n",
       "      <td>Turistas</td>\n",
       "      <td>2006</td>\n",
       "      <td>7.0</td>\n",
       "      <td>So, finally, a horror film about the absolute ...</td>\n",
       "    </tr>\n",
       "    <tr>\n",
       "      <th>1</th>\n",
       "      <td>168554</td>\n",
       "      <td>Runaway Train</td>\n",
       "      <td>1985</td>\n",
       "      <td>7.0</td>\n",
       "      <td>The movie had some very impressive scenes. Esp...</td>\n",
       "    </tr>\n",
       "    <tr>\n",
       "      <th>2</th>\n",
       "      <td>10565718</td>\n",
       "      <td>Mean Girls</td>\n",
       "      <td>2004</td>\n",
       "      <td>8.0</td>\n",
       "      <td>If your looking for a movie that you could pot...</td>\n",
       "    </tr>\n",
       "    <tr>\n",
       "      <th>3</th>\n",
       "      <td>702117</td>\n",
       "      <td>Spider-Man 3</td>\n",
       "      <td>2007</td>\n",
       "      <td>10.0</td>\n",
       "      <td>Very good movie, the action was spectacular! T...</td>\n",
       "    </tr>\n",
       "    <tr>\n",
       "      <th>4</th>\n",
       "      <td>2750041</td>\n",
       "      <td>Memento</td>\n",
       "      <td>2000</td>\n",
       "      <td>6.0</td>\n",
       "      <td>It's very complex and complicated. The whole f...</td>\n",
       "    </tr>\n",
       "    <tr>\n",
       "      <th>...</th>\n",
       "      <td>...</td>\n",
       "      <td>...</td>\n",
       "      <td>...</td>\n",
       "      <td>...</td>\n",
       "      <td>...</td>\n",
       "    </tr>\n",
       "    <tr>\n",
       "      <th>44</th>\n",
       "      <td>6872687</td>\n",
       "      <td>Smashing Time</td>\n",
       "      <td>1967</td>\n",
       "      <td>10.0</td>\n",
       "      <td>This film is just a very fluffy,very enjoyable...</td>\n",
       "    </tr>\n",
       "    <tr>\n",
       "      <th>45</th>\n",
       "      <td>2527032</td>\n",
       "      <td>The Anderson Platoon</td>\n",
       "      <td>1967</td>\n",
       "      <td>NaN</td>\n",
       "      <td>A rare glimpse of the American effort in Vietn...</td>\n",
       "    </tr>\n",
       "    <tr>\n",
       "      <th>46</th>\n",
       "      <td>2527032</td>\n",
       "      <td>The Anderson Platoon</td>\n",
       "      <td>1967</td>\n",
       "      <td>7.0</td>\n",
       "      <td>A \"must see\" movie for anyone truly interested...</td>\n",
       "    </tr>\n",
       "    <tr>\n",
       "      <th>47</th>\n",
       "      <td>2527032</td>\n",
       "      <td>The Anderson Platoon</td>\n",
       "      <td>1967</td>\n",
       "      <td>NaN</td>\n",
       "      <td>Highlights include: soldiers marching through ...</td>\n",
       "    </tr>\n",
       "    <tr>\n",
       "      <th>48</th>\n",
       "      <td>10932758</td>\n",
       "      <td>Shutter Bugged Cat</td>\n",
       "      <td>1967</td>\n",
       "      <td>1.0</td>\n",
       "      <td>Why do they make a kind of \"the best of\"-colle...</td>\n",
       "    </tr>\n",
       "  </tbody>\n",
       "</table>\n",
       "<p>291 rows × 5 columns</p>\n",
       "</div>"
      ],
      "text/plain": [
       "    wikipedia_ID                  name  release_year  rating  \\\n",
       "0        5096064              Turistas          2006     7.0   \n",
       "1         168554         Runaway Train          1985     7.0   \n",
       "2       10565718            Mean Girls          2004     8.0   \n",
       "3         702117          Spider-Man 3          2007    10.0   \n",
       "4        2750041               Memento          2000     6.0   \n",
       "..           ...                   ...           ...     ...   \n",
       "44       6872687         Smashing Time          1967    10.0   \n",
       "45       2527032  The Anderson Platoon          1967     NaN   \n",
       "46       2527032  The Anderson Platoon          1967     7.0   \n",
       "47       2527032  The Anderson Platoon          1967     NaN   \n",
       "48      10932758    Shutter Bugged Cat          1967     1.0   \n",
       "\n",
       "                                        review_detail  \n",
       "0   So, finally, a horror film about the absolute ...  \n",
       "1   The movie had some very impressive scenes. Esp...  \n",
       "2   If your looking for a movie that you could pot...  \n",
       "3   Very good movie, the action was spectacular! T...  \n",
       "4   It's very complex and complicated. The whole f...  \n",
       "..                                                ...  \n",
       "44  This film is just a very fluffy,very enjoyable...  \n",
       "45  A rare glimpse of the American effort in Vietn...  \n",
       "46  A \"must see\" movie for anyone truly interested...  \n",
       "47  Highlights include: soldiers marching through ...  \n",
       "48  Why do they make a kind of \"the best of\"-colle...  \n",
       "\n",
       "[291 rows x 5 columns]"
      ]
     },
     "execution_count": 4,
     "metadata": {},
     "output_type": "execute_result"
    }
   ],
   "source": [
    "reviews1"
   ]
  },
  {
   "cell_type": "code",
   "execution_count": 5,
   "metadata": {},
   "outputs": [
    {
     "data": {
      "text/plain": [
       "16766"
      ]
     },
     "execution_count": 5,
     "metadata": {},
     "output_type": "execute_result"
    }
   ],
   "source": [
    "# Number of movies that have more than 10 reviews\n",
    "(reviews1.groupby(\"name\")[\"review_detail\"].count() >= 10).sum()"
   ]
  },
  {
   "cell_type": "code",
   "execution_count": null,
   "metadata": {},
   "outputs": [],
   "source": []
  }
 ],
 "metadata": {
  "kernelspec": {
   "display_name": "ada",
   "language": "python",
   "name": "python3"
  },
  "language_info": {
   "codemirror_mode": {
    "name": "ipython",
    "version": 3
   },
   "file_extension": ".py",
   "mimetype": "text/x-python",
   "name": "python",
   "nbconvert_exporter": "python",
   "pygments_lexer": "ipython3",
   "version": "3.11.9"
  }
 },
 "nbformat": 4,
 "nbformat_minor": 2
}
