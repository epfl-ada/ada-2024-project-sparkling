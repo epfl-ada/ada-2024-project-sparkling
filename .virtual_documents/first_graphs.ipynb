from src.data.data_wrangling import load_and_clean_movies_df
from src.data.emotions import merge_df_movies_with_emotions_csv, show_top_10_words_per_emotion, plot_emotions, hierarchical_clustering_emotions

# Make sure that if any dependencies changes it will be reflected in the notebook (From the ML course)
%load_ext autoreload
%autoreload 2


df_movies = load_and_clean_movies_df()


df_movies_with_emotions = merge_df_movies_with_emotions_csv(df_movies)


show_top_10_words_per_emotion(df_movies_with_emotions, top_emotions=1)


countries = [
    'Belgium', 'Denmark', 'Aruba', 'Iceland', 'Japan',
    'Slovak Republic', 'Congo', 'Malayalam Language', 'Vietnam',
    'Serbia', 'Serbia and Montenegro', 'Peru', 'Slovakia', 'Zambia',
    'Guinea-Bissau', 'Venezuela', 'Guinea', 'New Zealand', 'Argentina',
    'United Arab Emirates', 'Palestinian territories', 'Cuba', 'Azerbaijan',
    'Costa Rica', 'Switzerland', 'England', 'Sri Lanka', 'Armenia',
    'Indonesia', 'Iraqi Kurdistan', 'Yugoslavia', 'Uruguay', 'Singapore',
    'Cambodia', 'Colombia', 'Montenegro', 'Norway', 'Kingdom of Great Britain',
    'Mongolia', 'Hong Kong', 'Tunisia', 'Luxembourg', 'Isle of Man',
    'Lebanon', 'Jordan', 'China', 'Iran', 'Haiti',
    'Poland', 'Pakistan', 'Turkmenistan', 'Canada', 'Bosnia and Herzegovina',
    'South Korea', 'Soviet Union', 'Burkina Faso', 'Bulgaria', 'Korea',
    'Libya', 'Greece', 'Wales', 'Jamaica', 'France',
    'Republic of China', 'Lithuania', 'Nazi Germany', 'Democratic Republic of the Congo',
    'Russia', 'Thailand', 'United States of America', 'Spain', 'Turkey',
    'Uzbekistan', 'South Africa', 'Croatia', 'Panama', 'Hungary',
    'Nigeria', 'Algeria', 'Kenya', 'Northern Ireland', 'Finland',
    'Crime', 'Morocco', 'Chile', 'Socialist Federal Republic of Yugoslavia',
    'Afghanistan', 'United Kingdom', 'Italy', 'Republic of Macedonia',
    'Germany', 'German Language', 'Austria', 'Mexico', 'Ukraine',
    'Weimar Republic', 'India', 'Uzbek SSR', 'Bahrain',
    'Soviet occupation zone', 'Cyprus', 'Georgian SSR', 'Zimbabwe',
    'Bangladesh', 'Puerto Rico', 'Slovenia', 'Kingdom of Italy',
    'Brazil', 'Malaysia', 'Romania', 'Macau', 'Mali',
    'Kuwait', 'Iraq', 'Scotland', 'Australia', 'Senegal',
    'Cameroon', 'Netherlands', 'Czech Republic', 'Federal Republic of Yugoslavia',
    'Czechoslovakia', 'Philippines', 'Qatar', 'Portugal', 'Estonia',
    'Ukrainian SSR', 'Mandatory Palestine', 'Burma', 'Israel',
    'Malta', 'German Democratic Republic', 'Albania', 'Egypt',
    'Sweden', 'Bahamas', 'Bhutan', 'Ethiopia', 'Taiwan',
    'Ireland', 'Georgia', 'Nepal', 'Bolivia'
]


plot_emotions(df_movies_with_emotions, countries, category_type='country')


countries = [
    'United States of America', 'China', 'Japan', 'Germany', 'France',
    'United Kingdom', 'Italy', 'Canada', 'Brazil', 'India',
    'Russia', 'South Africa', 'Australia', 'Mexico', 'Spain',
    'Turkey', 'Indonesia', 'Vietnam', 'Argentina', 'Nigeria',
    'Poland', 'Netherlands', 'Sweden', 'Greece', 'Colombia',
    'Thailand', 'Iraq', 'Iran', 'Philippines', 'Belgium'
]


plot_emotions(df_movies_with_emotions, countries, category_type='country')


genres = [
    'Master Criminal Films', 'Crime Fiction', 'Film adaptation', 'Comedy-drama', 
    'Crime Drama', 'Revenge', 'Coming-of-age film', 'Operetta', 'Tamil cinema', 
    'Pre-Code', 'Hip hop movies', 'Family Drama', 'Slapstick', 'Buddy Picture', 
    'Sci-Fi Horror', 'Ninja movie', 'Horse racing', 'Short Film', 'Americana', 
    'Bengali Cinema', 'Escape Film', 'Patriotic film', 'Culture & Society', 
    'Softcore Porn', 'Comedy of Errors', 'Black-and-white', 'Detective fiction', 
    'Movie serial', 'Horror', 'Revisionist Western', 'Sexploitation', 
    "Children's Fantasy", 'Gross out', 'Workplace Comedy', 'Neo-noir', 
    'Surrealism', 'Biographical film', 'Melodrama', 'Film à clef', 'Cyberpunk', 
    'Comedy film', 'Latino', 'Journalism', 'Political cinema', 'Tokusatsu', 
    'Anthropology', 'Feminist Film', 'Animated Musical', 'Law & Crime', 
    'Comedy of manners', 'Erotica', 'Propaganda film', 'Action/Adventure', 
    "Children's/Family", 'Jungle Film', 'Fan film', 'Z movie', 'War effort', 
    'Creature Film', 'Computers', 'Finance & Investing', 'Gay Interest', 
    'Race movie', 'Spy', 'Time travel', 'Cavalry Film', 'Marriage Drama', 
    'Statutory rape', 'Biopic [feature]', 'Hardcore pornography', 'Comedy Western', 
    'Monster', "Children's Issues", 'Kitchen sink realism', 'Historical Epic', 
    'Movies About Gladiators', 'Costume drama', 'LGBT', 'Biography', 'Business', 
    'Steampunk', 'Sci-Fi Thriller', 'Historical fiction', 'Heist', 'Ensemble Film', 
    'Psychological thriller', 'School story', 'Monster movie', 'Animation', 
    'Domestic Comedy', 'Hagiography', 'Medical fiction', 'Psychological horror', 
    'Science Fiction', 'New Queer Cinema', 'C-Movie', 'Historical drama', 
    'Sponsored film', 'New Hollywood', 'Breakdance', 'Chick flick', 'Acid western', 
    'Buddy film', 'Interpersonal Relationships', 'Health & Fitness', 'Superhero movie', 
    'Neorealism', 'Fantasy', "Children's Entertainment", 'Libraries and librarians', 
    "Children's", 'Fairy tale', 'Czechoslovak New Wave', 'Travel', 'Bruceploitation', 
    'Political drama', 'Horror Comedy', 'Erotic Drama', 'Crime Thriller', 
    'Political Documetary', 'News', 'Live action', 'Roadshow/Carny', 
    'Illnesses & Disabilities', 'Silhouette animation', 'Northern', 
    'Beach Party film', 'Natural horror films', 'Anime', 'Japanese Movies', 
    'Adventure Comedy', 'Crime', 'Absurdism', 'Anti-war film', 'Blaxploitation', 
    'Epic Western', 'B-movie', 'Art film', 'Silent film', 'Linguistics', 
    'Roadshow theatrical release', 'Pornographic movie', 'Concert film', 
    'Fantasy Drama', 'Documentary', 'Chase Movie', 'Demonic child', 
    'Airplanes and airports', 'Point of view shot', 'Buddy cop', 'Auto racing', 
    'Splatter film', 'Tollywood', 'Whodunit', 'Doomsday film', 
    'Family & Personal Relationships', 'Parkour in popular culture', 
    'Singing cowboy', 'Erotic thriller', 'Mondo film', 'Avant-garde', 
    'Language & Literature', 'Boxing', 'Dogme 95', 'Giallo', 
    'Women in prison films', 'Stop motion', 'Alien Film', 'Supernatural', 
    'Punk rock', 'Social problem film', 'Biker Film', 'Caper story', 
    'Musical comedy', 'Outlaw biker film', 'Film noir', 'Foreign legion', 
    'Romantic comedy', 'Vampire movies', 'Archaeology', 'Kafkaesque', 
    'Early Black Cinema', 'Existentialism', 'Therimin music', 'Prison', 
    'Film', 'Dystopia', 'Television movie', 'Animated cartoon', 'Zombie Film', 
    'Natural disaster', 'Parody', 'Education', 'Addiction Drama', 'Filipino', 
    'Stand-up comedy', 'Apocalyptic and post-apocalyptic fiction', 'Road movie', 
    'World cinema', 'Christian film', 'Media Satire', 'Epic', 'Albino bias', 
    'Romantic drama', 'Costume Horror', 'Jukebox musical', 'Humour', 
    'Sex comedy', 'Space opera', 'Alien invasion', 'Heavenly Comedy', 
    'Period piece', 'Baseball', 'Psycho-biddy', 'Tragicomedy', 'Disaster', 
    'Music', 'Courtroom Comedy', 'Heaven-Can-Wait Fantasies', 'Gross-out film', 
    'Adventure', 'Comedy horror', 'Private military company', 'Pinku eiga', 
    'British Empire Film', 'Film-Opera', 'Action Comedy', 'Gangster Film', 
    'Chinese Movies', 'Superhero', 'Educational', 'Malayalam Cinema', 
    'Martial Arts Film', 'Romance Film', 'Black comedy', 'Outlaw', 
    'Suspense', 'Legal drama', 'Nature', 'Revisionist Fairy Tale', 
    'Costume Adventure', 'Historical Documentaries', 'Star vehicle', 
    'Sword and Sandal', 'Docudrama', 'Filipino Movies', 'Prison escape', 
    'Romantic fantasy', 'Mythological Fantasy', 'Thriller', 'Gay pornography', 
    'Family Film', 'Feature film', 'Crime Comedy', 'Comdedy', 'Media Studies', 
    'Religious Film', 'Homoeroticism', 'Dance', 'Sci Fi Pictures original films', 
    'Period Horror', 'Tragedy', 'Political satire', 'Film & Television History', 
    'British New Wave', 'Swashbuckler films', 'Backstage Musical', 'History', 
    'Gay', 'Essay Film', 'Expressionism', 'Family-Oriented Adventure', 
    'Reboot', 'Gulf War', 'Bollywood', 'Graphic & Applied Arts', 
    'Samurai cinema', 'Future noir', 'Road-Horror', 'Computer Animation', 
    'War film', 'Slice of life story', 'Gender Issues', 'Plague', 
    'Screwball comedy', 'Sword and sorcery films', 'Coming of age', 
    'Rockumentary', 'Gothic Film', 'Sci-Fi Adventure', 'World History', 
    'Space western', 'Anti-war', 'Camp', 'Conspiracy fiction', 
    'Mockumentary', 'Drama', 'Detective', 'Cult', 'Fictional film', 
    'Prison film', 'Fantasy Comedy', 'Female buddy film', 'Wuxia', 
    'Holiday Film', 'Animals', 'Filmed Play', 'Juvenile Delinquency Film', 
    'Musical Drama', 'Anthology', 'Mumblecore', 'Pornography', 
    'Childhood Drama', 'Exploitation', 'Clay animation', 
    'Science fiction Western', 'Animal Picture', 'Teen', 'Nuclear warfare', 
    'Hybrid Western', 'Comedy Thriller', 'The Netherlands in World War II', 
    'Inspirational Drama', 'Indie', 'Werewolf fiction', 'Romantic thriller', 
    'Extreme Sports', 'Adult', 'Archives and records', 'Environmental Science', 
    'Inventions & Innovations', 'Musical', 'Combat Films', 'Goat gland', 
    'Cold War', 'Sword and sorcery', 'Fantasy Adventure', 'Mystery', 
    'Social issues', 'Western', 'Stoner film', 'B-Western', 'Beach Film', 
    'Supermarionation', 'Slasher', 'Instrumental Music', 'Sports', 
    'Satire', 'Courtroom Drama', 'Bloopers & Candid Camera', 'Action Thrillers', 
    'Glamorized Spy Film', 'Indian Western', 'Ealing Comedies', 
    'Christmas movie', 'Remake', 'Experimental film', 'Comedy', 
    'Political thriller', 'Spaghetti Western', 'Action', 'Gay Themed', 
    'Haunted House Film'
]


plot_emotions(df_movies_with_emotions, genres, category_type='genre')


genres = [
    'Comedy-drama', 'Horror', 'Sci-Fi Horror', 'Comedy of Errors', 'Comedy film', 
    'Action/Adventure', 'War film', 'Fantasy', 'Political drama', 'Horror Comedy', 
    'Crime Thriller', 'Romantic comedy', 'Zombie Film', 'Apocalyptic and post-apocalyptic fiction', 
    'Road movie', 'Romantic drama', 'Disaster', 'Adventure', 'Comedy horror', 'Action Comedy', 
    'Romance Film', 'Black comedy', 'Thriller', 'Suspense', 'Legal drama', 'Historical drama', 
    'Sci-Fi Adventure', 'Coming of age', 'Drama', 'Detective', 'Fantasy Comedy', 'Musical Drama', 
    'Comedy Thriller', 'Mockumentary', 'Animation', 'Musical', 'Documentary', 'Science Fiction', 
    'Mystery', 'Western', 'Slasher', 'Sports', 'Satire', 'Courtroom Drama', 'Action Thrillers', 
    'Christmas movie', 'Comedy', 'Political thriller', 'Spaghetti Western', 'Action', 'Superhero'
]


plot_emotions(df_movies_with_emotions, genres, category_type='genre')


grouped_genres = {
    "Crime": [
        'Master Criminal Films', 'Crime Fiction', 'Crime Drama', 'Revenge', 'Detective fiction', 'Neo-noir', 'Spy', 'Heist', 'Law & Crime', 'Crime Thriller', 'Gangster Film'
    ],
    "Comedy": [
        'Comedy-drama', 'Slapstick', 'Buddy Picture', 'Comedy film', 'Domestic Comedy', 'Workplace Comedy', 'Comedy Western', 'Gross out', 'Comedy of Errors', 'Comedy of manners', 'Black comedy', 'Satire', 'Political satire', 'Romantic comedy'
    ],
    "Drama": [
        'Family Drama', 'Coming-of-age film', 'Biography', 'Biographical film', 'Medical fiction', 'Melodrama', 'Marriage Drama', 'Historical drama', 'Romantic drama', 'Political drama', 'Social problem film', 'Existentialism', 'Inspirational Drama'
    ],
    "Fantasy": [
        'Fantasy', "Children's Fantasy", "Children's Entertainment", 'Fairy tale', 'Science Fiction', 'Cyberpunk', 'Steampunk', 'Sci-Fi Thriller', 'Superhero movie', 'Mythology', 'Sword and sorcery films'
    ],
    "Science Fiction": [
        'Sci-Fi Horror', 'Cyberpunk', 'Sci-Fi Thriller', 'Science Fiction', 'Time travel', 'Alien Film', 'Space opera', 'Space western', 'Dystopia', 'Future noir'
    ],
    "Horror": [
        'Horror', 'Monster', 'Monster movie', 'Psychological horror', 'Horror Comedy', 'Creature Film', 'Sci-Fi Horror', 'Surrealism', 'Gothic Horror', 'Slasher', 'Natural horror films', 'Doomsday film', 'Zombie Film', 'Haunted House Film'
    ],
    "Family": [
        "Children's/Family", "Children's Issues", "Children's Entertainment", 'Teen', 'Coming-of-age film', 'Animation', 'Family-Oriented Adventure', 'Juvenile Delinquency Film'
    ],
    "Romance": [
        'Romantic drama', 'Romantic comedy', 'Romance', 'Romantic Fantasy', 'Romantic thriller'
    ],
    "Western": [
        'Western', 'Revisionist Western', 'Comedy Western', 'Cavalry Film', 'Acid western', 'Spaghetti Western', 'B-Western', 'Epic Western', 'Hybrid Western', 'Indian Western'
    ],
    "War": [
        'War effort', 'Patriotic film', 'Military', 'World War', 'Gulf War', 'Anti-war film', 'Combat Films'
    ],
    "Documentary": [
        'Documentary', 'Biographical film', 'Mockumentary', 'Docudrama', 'New Queer Cinema', 'Rockumentary', 'Concert film', 'Educational', 'Historical Documentaries'
    ],
    "Music": [
        'Musical', 'Animated Musical', 'Rockumentary', 'Concert', 'Opera', 'Music', 'Musical comedy', 'Jukebox musical', 'Backstage Musical'
    ],
    "Sports": [
        'Sports', 'Horse racing', 'Boxing', 'Basketball', 'Football', 'Auto racing', 'Extreme Sports', 'Baseball'
    ],
    "Erotica": [
        'Erotica', 'Sexploitation', 'Softcore Porn', 'Hardcore pornography', 'Gay Interest', 'Homoerotic', 'Adult'
    ],
    "Animation": [
        'Animation', 'Animated Musical', 'Anime', 'Cartoon', 'Stop Motion', 'Animated Short Film', 'Silhouette animation', 'Supermarionation'
    ],
    "Experimental": [
        'Experimental', 'Surrealism', 'Avant-garde', 'Indie', 'Mumblecore', 'Acid western', 'Art film', 'Expressionism', 'Essay Film', 'B-movie', 'C-Movie'
    ],
    "Political": [
        'Political cinema', 'Propaganda film', 'Social', 'Political drama', 'Political Documetary', 'Political thriller', 'Political satire'
    ],
    "History": [
        'Historical drama', 'Historical fiction', 'Biopic [feature]', 'Historical Epic', 'Period Piece', 'History', 'World History'
    ],
    "Action": [
        'Action/Adventure', 'Martial Arts Film', 'Ninja movie', 'Heist', 'Superhero movie', 'Action Thrillers', 'Adventure', 'Spy', 'Chase Movie'
    ],
    "Adventure": [
        'Action/Adventure', 'Fantasy Adventure', 'Sci-Fi Adventure', 'Adventure Comedy', 'Swashbuckler films', 'Jungle Film', 'Road movie', 'Costume Adventure'
    ],
    "Crime Comedy": [
        'Buddy cop', 'Crime Comedy', 'Buddy Picture', 'Comedy Thriller', 'Heist', 'Caper story'
    ],
    "Mystery": [
        'Detective fiction', 'Whodunit', 'Psychological thriller', 'Suspense', 'Neo-noir', 'Film noir', 'Mystery', 'Parody'
    ],
    "Legal": [
        'Courtroom Drama', 'Legal drama', 'Law & Crime', 'Courtroom Comedy'
    ],
    "Biography": [
        'Biography', 'Biographical film', 'Docudrama', 'Hagiography'
    ],
    "Fantasy Comedy": [
        'Fantasy Comedy', 'Fairy tale', 'Heavenly Comedy'
    ],
    "Holidays": [
        'Christmas movie', 'Holiday Film'
    ],
    "Cult": [
        'Cult', 'Midnight movies', 'Exploitation', 'Punk rock', 'Rockumentary', 'Underground', 'Alternative', 'B-movie'
    ],
    "Road": [
        'Road movie', 'Road-Horror', 'Chase Movie', 'Buddy cop', 'Buddy film', 'Outlaw', 'Highway'
    ],
    "Nature": [
        'Natural disaster', 'Environmental Science', 'Nature'
    ],
    "Religion": [
        'Religious Film', 'Christian film', 'Mythological Fantasy'
    ],
    "Health & Fitness": [
        'Health & Fitness', 'Fitness', 'Wellness', 'Yoga', 'Nutrition', 'Dance'
    ],
    "Romantic Adventure": [
        'Romantic Adventure', 'Romantic Comedy', 'Romantic Fantasy', 'Romantic Drama', 'Romantic thriller'
    ],
    "Teen": [
        'Teen', 'High School', 'Teen Drama', 'Youth', 'School story'
    ],
    "LGBTQ": [
        'New Queer Cinema', 'Gay Interest', 'LGBT', 'Queer Cinema'
    ],
    "Sci-Fi Fantasy": [
        'Science Fiction', 'Fantasy', 'Sci-Fi Thriller', 'Cyberpunk', 'Space opera', 'Alien invasion'
    ],
    "Classic Cinema": [
        'Black-and-white', 'Silent film', 'Pre-Code', 'Golden Age', 'Classics'
    ],
    "Parody": [
        'Parody', 'Mockumentary', 'Spoof', 'Satire', 'Black comedy'
    ],
    "Superhero": [
        'Superhero', 'Comic Book', 'Animated Superhero', 'Action Superhero'
    ]
}



plot_emotions(df_movies_with_emotions, grouped_genres, category_type='genre')





samples = df_movies_with_emotions.sample(10)
for _, s in samples.iterrows():
    print(f'Plot: {s["plot"]}\n')
    for emotion in ['anger', 'joy', 'sadness', 'disgust', 'surprise', 'fear', 'neutral']:
        print(f'{emotion}: {s[emotion]}')
    print('\n-------------------------\n')



