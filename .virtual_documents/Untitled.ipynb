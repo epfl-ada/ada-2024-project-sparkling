pip install transformers


from src.data.load_final_data import load_final_movies_and_reviews
from src.data.normalize_emotions import*
from src.data.emotions import*
# Make sure that if any dependencies changes it will be reflected in the notebook (From the ML course)
%load_ext autoreload
%autoreload 2


df_movies, df_language, df_countries, df_genres, df_reviews = load_final_movies_and_reviews()
#df_movies_with_emotions = merge_df_movies_with_emotions_csv(df_movies)
#df_movies_with_emotions_normalized = normalize_total_plot_emotions(df_movies_with_emotions, with_neutral=False)
#df_reviews_with_emotions_normalized = normalize_review_emotions(df_movies_with_emotions, with_neutral=False)



#df_movies_with_emotions_normalized.head()


#df_reviews_with_emotions_normalized.head()


df_language.head()


df_countries.head()


df_genres.head()


df_reviews.head()


df_movies.head()
