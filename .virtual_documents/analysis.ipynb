from src.data.load_final_data import load_final_movies_and_reviews

# Make sure that if any dependencies changes it will be reflected in the notebook (From the ML course)
%load_ext autoreload
%autoreload 2








df_movies, df_language, df_countries, df_genres, df_reviews = load_final_movies_and_reviews()



