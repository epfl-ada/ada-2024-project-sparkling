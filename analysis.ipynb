{
 "cells": [
  {
   "cell_type": "code",
   "execution_count": 2,
   "metadata": {
    "tags": []
   },
   "outputs": [],
   "source": [
    "from src.data.load_final_data import load_final_movies_and_reviews\n",
    "\n",
    "# Make sure that if any dependencies changes it will be reflected in the notebook (From the ML course)\n",
    "%load_ext autoreload\n",
    "%autoreload 2"
   ]
  },
  {
   "cell_type": "markdown",
   "metadata": {},
   "source": [
    "# Scripts to create and process our datasets \n",
    "(We do not recommand running theses functions. We ran some of them for multiple days):\n",
    "\n",
    "Load movie metadata:\n",
    "\n",
    "`df_movies_metadata, df_movies_language, df_movies_countries, df_movies_genres = load_and_clean_movies_df()`\n",
    "\n",
    "Load movie reviews from kaggle:\n",
    "\n",
    "`df_reviews_kaggle = load_movie_reviews_kaggle(df_movies_metadata)`\n",
    "\n",
    "Load mapping IMDB id to wikipedia ID:\n",
    "\n",
    "`df_mapping_imdb_id_wikipedia_id = load_imdb_id_wikipedia_id(df_movies_metadata)`\n",
    "\n",
    "Load movie average reviews from the non-commercial IMDB:\n",
    "\n",
    "`df_imdb_average_reviews = load_imdb_average_reviews(df_mapping_imdb_id_wikipedia_id)`\n",
    "\n",
    "## Predict emotions\n",
    "\n",
    "Compute plot emotions:\n",
    "\n",
    "`predict_emotions_to_tsv(df_movies, column='plot', file_path='plot_emotions.tsv')`\n",
    "\n",
    "Merging df_movies with plot_emotions.tsv:\n",
    "\n",
    "`df_movies_with_emotions = merge_df_with_emotions_tsv(df_movies, file_path='plot_emotions.tsv', prefix='plot')`\n",
    "\n",
    "Compute review emotions:\n",
    "\n",
    "`predict_emotions_to_tsv(df_reviews, column='review_detail', file_path='review_emotions.tsv, is_review=True')`\n",
    "\n",
    "Merging df_reviews with review_emotions.tsv:\n",
    "\n",
    "`df_reviews_with_emotions = merge_df_with_emotions_tsv(df_reviews, file_path='review_emotions.tsv', prefix='review', is_review=True)`\n",
    "\n",
    "## Scrap more years and months:\n",
    "We scrap our years and months data using:\n",
    "\n",
    "`scrap_years_months_movies(df_movies_metadata)`\n",
    "\n",
    "Then we load the resulting csv and combine both data (from both the original dataset and scrapped data):\n",
    "\n",
    "`get_final_dates(pd.read_csv(\"dates_scraped.csv\"))`\n",
    "\n",
    "## Scrap more reviews:\n",
    "\n",
    "`scrape_reviews(df_mapping_imdb_id_wikipedia_id)`"
   ]
  },
  {
   "cell_type": "markdown",
   "metadata": {},
   "source": [
    "# Scripts to create and load our final data\n",
    "Note: You need at least the files 'final_movies.csv' and 'final_reviews.csv' and 'movie.metadata.tsv' (More information in the README)"
   ]
  },
  {
   "cell_type": "code",
   "execution_count": 3,
   "metadata": {
    "tags": []
   },
   "outputs": [],
   "source": [
    "df_movies, df_language, df_countries, df_genres, df_reviews = load_final_movies_and_reviews()"
   ]
  },
  {
   "cell_type": "markdown",
   "metadata": {},
   "source": [
    "## Scripts to normalize emotion scores\n",
    "\n",
    "We normalize the plot emotion scores using:\n",
    "`df_movies_with_emotions_normalized = normalize_total_plot_emotions(df_movies_with_emotions, with_neutral=False)`\n",
    "\n",
    "We normalize the review emotion scores using:\n",
    "`df_reviews_with_emotions_normalized = normalize_review_emotions(df_reviews_with_emotions, with_neutral=False)`"
   ]
  }
 ],
 "metadata": {
  "kernelspec": {
   "display_name": "Python 3 (ipykernel)",
   "language": "python",
   "name": "python3"
  },
  "language_info": {
   "codemirror_mode": {
    "name": "ipython",
    "version": 3
   },
   "file_extension": ".py",
   "mimetype": "text/x-python",
   "name": "python",
   "nbconvert_exporter": "python",
   "pygments_lexer": "ipython3",
   "version": "3.12.2"
  }
 },
 "nbformat": 4,
 "nbformat_minor": 4
}
