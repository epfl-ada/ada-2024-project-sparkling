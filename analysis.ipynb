{
 "cells": [
  {
   "cell_type": "code",
   "execution_count": 2,
   "metadata": {},
   "outputs": [],
   "source": [
    "from src.data.data_wrangling import *\n",
    "from src.data.load_data_reviews_kaggle import *\n",
    "from src.data.load_data import *\n",
    "from src.data.load_data_non_commercial_imdb import *\n",
    "from src.data.predict_emotions import *\n",
    "from src.scripts.scrap_date import *\n",
    "\n",
    "# Make sure that if any dependencies changes it will be reflected in the notebook (From the ML course)\n",
    "%load_ext autoreload\n",
    "%autoreload 2"
   ]
  },
  {
   "cell_type": "code",
   "execution_count": 3,
   "metadata": {},
   "outputs": [],
   "source": [
    "# Load movie metadata\n",
    "df_movies_metadata, df_movies_language, df_movies_countries, df_movies_genres = load_and_clean_movies_df()"
   ]
  },
  {
   "cell_type": "code",
   "execution_count": 3,
   "metadata": {},
   "outputs": [],
   "source": [
    "# Load movie metadata\n",
    "# df_movies_metadata, df_movies_language, df_movies_countries, df_movies_genres = load_and_clean_movies_df()\n",
    "\n",
    "# Load movie reviews from kaggle\n",
    "#df_reviews_kaggle = load_movie_reviews_kaggle(df_movies_metadata)\n",
    "\n",
    "# Load movie average reviews from the non-commercial IMDB\n",
    "#imdb_average_reviews = load_imdb_average_reviews(df_movies_metadata)\n",
    "\n",
    "# Compute plot emotions\n",
    "#predict_emotions_to_csv(df_movies_metadata)"
   ]
  },
  {
   "cell_type": "code",
   "execution_count": 4,
   "metadata": {},
   "outputs": [],
   "source": [
    "# # Predict emotions\n",
    "\n",
    "# predict_emotions_to_csv(df_movies_metadata,\n",
    "#                         column_to_predict='plot', \n",
    "#                         csv_path='plot_emotions.csv')\n",
    "\n",
    "# # Merging df_movies with plot_emotions.csv\n",
    "# df_movies_with_emotions = merge_df_movies_with_emotions_csv(df_movies_metadata, csv_path='plot_emotions.csv')"
   ]
  },
  {
   "cell_type": "code",
   "execution_count": null,
   "metadata": {},
   "outputs": [],
   "source": [
    "# We scrap our years and months data using:\n",
    "# scrap_years_months_movies(df_movies_metadata)\n",
    "\n",
    "# Then we load the resulting csv and combine both data (from both the original dataset and scrapped data)\n",
    "# get_final_dates(pd.read_csv(\"dates_scraped.csv\"))"
   ]
  }
 ],
 "metadata": {
  "kernelspec": {
   "display_name": "ada",
   "language": "python",
   "name": "python3"
  },
  "language_info": {
   "codemirror_mode": {
    "name": "ipython",
    "version": 3
   },
   "file_extension": ".py",
   "mimetype": "text/x-python",
   "name": "python",
   "nbconvert_exporter": "python",
   "pygments_lexer": "ipython3",
   "version": "3.11.9"
  }
 },
 "nbformat": 4,
 "nbformat_minor": 2
}
