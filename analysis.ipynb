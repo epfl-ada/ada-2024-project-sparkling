{
 "cells": [
  {
   "cell_type": "code",
   "execution_count": 1,
   "metadata": {},
   "outputs": [],
   "source": [
    "from src.data.data_wrangling import *\n",
    "from src.data.load_data_reviews_kaggle import *\n",
    "from src.data.load_data import *\n",
    "from src.data.load_data_non_commercial_imdb import *\n",
    "from src.data.predict_emotions import *\n",
    "from src.scripts.scrap_date import *\n",
    "from src.scripts.scrap_reviews import *\n",
    "from src.data.load_final_data import *\n",
    "\n",
    "# Make sure that if any dependencies changes it will be reflected in the notebook (From the ML course)\n",
    "%load_ext autoreload\n",
    "%autoreload 2"
   ]
  },
  {
   "cell_type": "markdown",
   "metadata": {},
   "source": [
    "#### Scripts to create and process our datasets \n",
    "(We do not recommand running theses functions. We ran some of them for multiple days):\n",
    "\n",
    "Load movie metadata:\n",
    "\n",
    "`df_movies_metadata, df_movies_language, df_movies_countries, df_movies_genres = load_and_clean_movies_df()`\n",
    "\n",
    "Load movie reviews from kaggle:\n",
    "\n",
    "`df_reviews_kaggle = load_movie_reviews_kaggle(df_movies_metadata)`\n",
    "\n",
    "Load mapping IMDB id to wikipedia ID:\n",
    "\n",
    "`df_mapping_imdb_id_wikipedia_id = load_imdb_id_wikipedia_id(df_movies_metadata)`\n",
    "\n",
    "Load movie average reviews from the non-commercial IMDB:\n",
    "\n",
    "`df_imdb_average_reviews = load_imdb_average_reviews(df_mapping_imdb_id_wikipedia_id)`\n",
    "\n",
    "#### Predict emotions\n",
    "\n",
    "Compute plot emotions:\n",
    "\n",
    "`predict_emotions_to_csv(df_movies_metadata, column_to_predict='plot', csv_path='plot_emotions.csv')`\n",
    "\n",
    "Merging df_movies with plot_emotions.csv:\n",
    "\n",
    "`df_movies_with_emotions = merge_df_movies_with_emotions_csv(df_movies_metadata, csv_path='plot_emotions.csv')`\n",
    "\n",
    "We scrap our years and months data using:\n",
    "\n",
    "`scrap_years_months_movies(df_movies_metadata)`\n",
    "\n",
    "Then we load the resulting csv and combine both data (from both the original dataset and scrapped data):\n",
    "\n",
    "`get_final_dates(pd.read_csv(\"dates_scraped.csv\"))`\n",
    "\n",
    "#### Scrap more reviews:\n",
    "\n",
    "`scrape_reviews(df_mapping_imdb_id_wikipedia_id)`"
   ]
  },
  {
   "cell_type": "markdown",
   "metadata": {},
   "source": [
    "# Scripts to create and load our final data\n",
    "Note: You need at least the files 'final_movies.csv' and 'final_reviews.csv' and 'movie.metadata.tsv' (More information in the README)"
   ]
  },
  {
   "cell_type": "code",
   "execution_count": 4,
   "metadata": {},
   "outputs": [],
   "source": [
    "df_movies, df_language, df_countries, df_genres, df_reviews = load_final_movies_and_reviews()"
   ]
  }
 ],
 "metadata": {
  "kernelspec": {
   "display_name": "ada",
   "language": "python",
   "name": "python3"
  },
  "language_info": {
   "codemirror_mode": {
    "name": "ipython",
    "version": 3
   },
   "file_extension": ".py",
   "mimetype": "text/x-python",
   "name": "python",
   "nbconvert_exporter": "python",
   "pygments_lexer": "ipython3",
   "version": "3.11.9"
  }
 },
 "nbformat": 4,
 "nbformat_minor": 2
}
