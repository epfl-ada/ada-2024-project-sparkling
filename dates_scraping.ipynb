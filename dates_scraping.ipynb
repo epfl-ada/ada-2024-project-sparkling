{
 "cells": [
  {
   "cell_type": "code",
   "execution_count": null,
   "metadata": {},
   "outputs": [
    {
     "name": "stdout",
     "output_type": "stream",
     "text": [
      "The autoreload extension is already loaded. To reload it, use:\n",
      "  %reload_ext autoreload\n"
     ]
    }
   ],
   "source": [
    "import numpy as np\n",
    "import pandas as pd\n",
    "\n",
    "import re\n",
    "import requests\n",
    "from bs4 import BeautifulSoup\n",
    "from src.data.data_wrangling import load_and_clean_movies_df\n",
    "from src.scripts.scrap_date import *\n",
    "from src.data.load_data_non_commercial_imdb import *\n",
    "\n",
    "# Make sure that if any dependencies changes it will be reflected in the notebook (From the ML course)\n",
    "%load_ext autoreload\n",
    "%autoreload 2"
   ]
  },
  {
   "cell_type": "code",
   "execution_count": 12,
   "metadata": {},
   "outputs": [],
   "source": [
    "df_movies, _, _, _ = load_and_clean_movies_df()"
   ]
  },
  {
   "cell_type": "code",
   "execution_count": 13,
   "metadata": {},
   "outputs": [
    {
     "name": "stderr",
     "output_type": "stream",
     "text": [
      "/Users/guillaumevitalis/Documents/EPFL/Master/MA1/Applied data analysis/Project/Project/src/data/load_data_non_commercial_imdb.py:15: DtypeWarning: Columns (4) have mixed types. Specify dtype option on import or set low_memory=False.\n",
      "  df = pd.read_csv(path, sep=\"\\t\")\n"
     ]
    }
   ],
   "source": [
    "df_mapping_imdb_id_wikipedia_id = load_imdb_id_wikipedia_id(df_movies)"
   ]
  },
  {
   "cell_type": "code",
   "execution_count": 14,
   "metadata": {},
   "outputs": [],
   "source": [
    "merged_data = pd.merge(df_movies, df_mapping_imdb_id_wikipedia_id, on='wikipedia_ID', how='inner')"
   ]
  },
  {
   "cell_type": "code",
   "execution_count": null,
   "metadata": {},
   "outputs": [
    {
     "data": {
      "text/html": [
       "<div>\n",
       "<style scoped>\n",
       "    .dataframe tbody tr th:only-of-type {\n",
       "        vertical-align: middle;\n",
       "    }\n",
       "\n",
       "    .dataframe tbody tr th {\n",
       "        vertical-align: top;\n",
       "    }\n",
       "\n",
       "    .dataframe thead th {\n",
       "        text-align: right;\n",
       "    }\n",
       "</style>\n",
       "<table border=\"1\" class=\"dataframe\">\n",
       "  <thead>\n",
       "    <tr style=\"text-align: right;\">\n",
       "      <th></th>\n",
       "      <th>wikipedia_ID</th>\n",
       "      <th>freebase_ID</th>\n",
       "      <th>name</th>\n",
       "      <th>revenue</th>\n",
       "      <th>runtime</th>\n",
       "      <th>release_year</th>\n",
       "      <th>release_month</th>\n",
       "      <th>release_day</th>\n",
       "      <th>plot</th>\n",
       "      <th>tconst</th>\n",
       "    </tr>\n",
       "  </thead>\n",
       "  <tbody>\n",
       "    <tr>\n",
       "      <th>0</th>\n",
       "      <td>975900</td>\n",
       "      <td>/m/03vyhn</td>\n",
       "      <td>Ghosts of Mars</td>\n",
       "      <td>14010832.0</td>\n",
       "      <td>98.0</td>\n",
       "      <td>2001</td>\n",
       "      <td>8</td>\n",
       "      <td>24</td>\n",
       "      <td>Set in the second half of the 22nd century, th...</td>\n",
       "      <td>tt0228333</td>\n",
       "    </tr>\n",
       "    <tr>\n",
       "      <th>1</th>\n",
       "      <td>9363483</td>\n",
       "      <td>/m/0285_cd</td>\n",
       "      <td>White Of The Eye</td>\n",
       "      <td>NaN</td>\n",
       "      <td>110.0</td>\n",
       "      <td>1987</td>\n",
       "      <td>&lt;NA&gt;</td>\n",
       "      <td>&lt;NA&gt;</td>\n",
       "      <td>A series of murders of rich young women throug...</td>\n",
       "      <td>tt0094320</td>\n",
       "    </tr>\n",
       "    <tr>\n",
       "      <th>2</th>\n",
       "      <td>261236</td>\n",
       "      <td>/m/01mrr1</td>\n",
       "      <td>A Woman in Flames</td>\n",
       "      <td>NaN</td>\n",
       "      <td>106.0</td>\n",
       "      <td>1983</td>\n",
       "      <td>&lt;NA&gt;</td>\n",
       "      <td>&lt;NA&gt;</td>\n",
       "      <td>Eva, an upper class housewife, becomes frustra...</td>\n",
       "      <td>tt0083949</td>\n",
       "    </tr>\n",
       "    <tr>\n",
       "      <th>3</th>\n",
       "      <td>6631279</td>\n",
       "      <td>/m/0gffwj</td>\n",
       "      <td>Little city</td>\n",
       "      <td>NaN</td>\n",
       "      <td>93.0</td>\n",
       "      <td>1997</td>\n",
       "      <td>4</td>\n",
       "      <td>4</td>\n",
       "      <td>Adam, a San Francisco-based artist who works a...</td>\n",
       "      <td>tt0119548</td>\n",
       "    </tr>\n",
       "    <tr>\n",
       "      <th>4</th>\n",
       "      <td>171005</td>\n",
       "      <td>/m/016ywb</td>\n",
       "      <td>Henry V</td>\n",
       "      <td>10161099.0</td>\n",
       "      <td>137.0</td>\n",
       "      <td>1989</td>\n",
       "      <td>11</td>\n",
       "      <td>8</td>\n",
       "      <td>{{Plot|dateAct 1Act 2Act 3Act 4Act 5 Finally n...</td>\n",
       "      <td>tt0097499</td>\n",
       "    </tr>\n",
       "    <tr>\n",
       "      <th>...</th>\n",
       "      <td>...</td>\n",
       "      <td>...</td>\n",
       "      <td>...</td>\n",
       "      <td>...</td>\n",
       "      <td>...</td>\n",
       "      <td>...</td>\n",
       "      <td>...</td>\n",
       "      <td>...</td>\n",
       "      <td>...</td>\n",
       "      <td>...</td>\n",
       "    </tr>\n",
       "    <tr>\n",
       "      <th>28895</th>\n",
       "      <td>3868432</td>\n",
       "      <td>/m/0b44p5</td>\n",
       "      <td>Into the Mirror</td>\n",
       "      <td>NaN</td>\n",
       "      <td>113.0</td>\n",
       "      <td>2003</td>\n",
       "      <td>8</td>\n",
       "      <td>14</td>\n",
       "      <td>After accidentally causing the death of his pa...</td>\n",
       "      <td>tt0372937</td>\n",
       "    </tr>\n",
       "    <tr>\n",
       "      <th>28896</th>\n",
       "      <td>15394941</td>\n",
       "      <td>/m/03m6zh4</td>\n",
       "      <td>Gopi Kishan</td>\n",
       "      <td>NaN</td>\n",
       "      <td>NaN</td>\n",
       "      <td>1994</td>\n",
       "      <td>12</td>\n",
       "      <td>2</td>\n",
       "      <td>Kishan  killed a man in his childhood when the...</td>\n",
       "      <td>tt0109922</td>\n",
       "    </tr>\n",
       "    <tr>\n",
       "      <th>28897</th>\n",
       "      <td>23851782</td>\n",
       "      <td>/m/06_vb43</td>\n",
       "      <td>The Ghost Train</td>\n",
       "      <td>NaN</td>\n",
       "      <td>82.0</td>\n",
       "      <td>1941</td>\n",
       "      <td>5</td>\n",
       "      <td>3</td>\n",
       "      <td>The film opens with a Great Western express sp...</td>\n",
       "      <td>tt0033660</td>\n",
       "    </tr>\n",
       "    <tr>\n",
       "      <th>28898</th>\n",
       "      <td>35228177</td>\n",
       "      <td>/m/0j7hxnt</td>\n",
       "      <td>Mermaids: The Body Found</td>\n",
       "      <td>NaN</td>\n",
       "      <td>120.0</td>\n",
       "      <td>2011</td>\n",
       "      <td>3</td>\n",
       "      <td>19</td>\n",
       "      <td>Two former National Oceanic Atmospheric Admini...</td>\n",
       "      <td>tt1816585</td>\n",
       "    </tr>\n",
       "    <tr>\n",
       "      <th>28899</th>\n",
       "      <td>34980460</td>\n",
       "      <td>/m/0g4pl34</td>\n",
       "      <td>Knuckle</td>\n",
       "      <td>NaN</td>\n",
       "      <td>96.0</td>\n",
       "      <td>2011</td>\n",
       "      <td>1</td>\n",
       "      <td>21</td>\n",
       "      <td>This film follows 12 years in the lives of 3 I...</td>\n",
       "      <td>tt1606259</td>\n",
       "    </tr>\n",
       "  </tbody>\n",
       "</table>\n",
       "<p>28900 rows × 10 columns</p>\n",
       "</div>"
      ],
      "text/plain": [
       "       wikipedia_ID freebase_ID                      name     revenue  \\\n",
       "0            975900   /m/03vyhn            Ghosts of Mars  14010832.0   \n",
       "1           9363483  /m/0285_cd          White Of The Eye         NaN   \n",
       "2            261236   /m/01mrr1         A Woman in Flames         NaN   \n",
       "3           6631279   /m/0gffwj               Little city         NaN   \n",
       "4            171005   /m/016ywb                   Henry V  10161099.0   \n",
       "...             ...         ...                       ...         ...   \n",
       "28895       3868432   /m/0b44p5           Into the Mirror         NaN   \n",
       "28896      15394941  /m/03m6zh4               Gopi Kishan         NaN   \n",
       "28897      23851782  /m/06_vb43           The Ghost Train         NaN   \n",
       "28898      35228177  /m/0j7hxnt  Mermaids: The Body Found         NaN   \n",
       "28899      34980460  /m/0g4pl34                   Knuckle         NaN   \n",
       "\n",
       "       runtime  release_year  release_month  release_day  \\\n",
       "0         98.0          2001              8           24   \n",
       "1        110.0          1987           <NA>         <NA>   \n",
       "2        106.0          1983           <NA>         <NA>   \n",
       "3         93.0          1997              4            4   \n",
       "4        137.0          1989             11            8   \n",
       "...        ...           ...            ...          ...   \n",
       "28895    113.0          2003              8           14   \n",
       "28896      NaN          1994             12            2   \n",
       "28897     82.0          1941              5            3   \n",
       "28898    120.0          2011              3           19   \n",
       "28899     96.0          2011              1           21   \n",
       "\n",
       "                                                    plot     tconst  \n",
       "0      Set in the second half of the 22nd century, th...  tt0228333  \n",
       "1      A series of murders of rich young women throug...  tt0094320  \n",
       "2      Eva, an upper class housewife, becomes frustra...  tt0083949  \n",
       "3      Adam, a San Francisco-based artist who works a...  tt0119548  \n",
       "4      {{Plot|dateAct 1Act 2Act 3Act 4Act 5 Finally n...  tt0097499  \n",
       "...                                                  ...        ...  \n",
       "28895  After accidentally causing the death of his pa...  tt0372937  \n",
       "28896  Kishan  killed a man in his childhood when the...  tt0109922  \n",
       "28897  The film opens with a Great Western express sp...  tt0033660  \n",
       "28898  Two former National Oceanic Atmospheric Admini...  tt1816585  \n",
       "28899  This film follows 12 years in the lives of 3 I...  tt1606259  \n",
       "\n",
       "[28900 rows x 10 columns]"
      ]
     },
     "execution_count": 8,
     "metadata": {},
     "output_type": "execute_result"
    }
   ],
   "source": [
    "merged_data"
   ]
  },
  {
   "cell_type": "code",
   "execution_count": null,
   "metadata": {},
   "outputs": [
    {
     "name": "stdout",
     "output_type": "stream",
     "text": [
      "There are 18351 movies among 28900 for which we have the year and month of release.\n"
     ]
    }
   ],
   "source": [
    "n_total = merged_data.shape[0]\n",
    "no_dates = merged_data.loc[(merged_data.release_month != '<NA>') & (merged_data.release_year != '<NA>')].shape[0]\n",
    "\n",
    "print(f\"There are {no_dates} movies among {n_total} for which we have the year and month of release.\")"
   ]
  },
  {
   "cell_type": "code",
   "execution_count": null,
   "metadata": {},
   "outputs": [],
   "source": []
  },
  {
   "cell_type": "markdown",
   "metadata": {},
   "source": [
    "Let's merge the entire dataframe of the movies with the one containing those selected with their IMDB ids in order to work only with this subset of movies."
   ]
  },
  {
   "cell_type": "code",
   "execution_count": null,
   "metadata": {},
   "outputs": [],
   "source": [
    "merged_data = pd.read_csv('data/merged_data.csv', sep=',')\n",
    "merged_data = merged_data.rename(columns={\"0\": \"wikipedia_ID\", \"2\": \"title\"})\n",
    "\n",
    "merged_data = pd.merge(df_movies, merged_data, on='wikipedia_ID', how='inner')"
   ]
  },
  {
   "cell_type": "code",
   "execution_count": 5,
   "metadata": {},
   "outputs": [
    {
     "name": "stdout",
     "output_type": "stream",
     "text": [
      "There are 18181 movies among 28415 for which we have the year and month of release.\n"
     ]
    }
   ],
   "source": [
    "n_total = merged_data.shape[0]\n",
    "no_dates = merged_data.loc[(merged_data.release_month != '<NA>') & (merged_data.release_year != '<NA>')].shape[0]\n",
    "\n",
    "print(f\"There are {no_dates} movies among {n_total} for which we have the year and month of release.\")"
   ]
  },
  {
   "cell_type": "markdown",
   "metadata": {},
   "source": [
    "Let's now use the wikipedia ID we have for each movie to scrap information from wikidata about the release dates."
   ]
  },
  {
   "cell_type": "code",
   "execution_count": null,
   "metadata": {},
   "outputs": [],
   "source": [
    "# Create a copy of the dataframe of movies\n",
    "merged_scraped = merged_data.copy()\n",
    "\n",
    "merged_data = merged_data.rename(columns={\"release_year\": \"release_year_x\", \"release_month\": \"release_month_x\"})\n",
    "\n",
    "dates_merged = merged_data[['wikipedia_ID', 'release_year_x', 'release_month_x']].copy()\n",
    "\n",
    "# add empty columns that are going to be fill by scraping the dates\n",
    "dates_merged['release_year_y'] = ''\n",
    "dates_merged['release_month_y'] = ''"
   ]
  },
  {
   "cell_type": "code",
   "execution_count": null,
   "metadata": {},
   "outputs": [],
   "source": [
    "# Save the file where we will be scraping to\n",
    "dates_merged.tocsv('dates_scraped.csv', index=False)"
   ]
  },
  {
   "cell_type": "code",
   "execution_count": 10,
   "metadata": {},
   "outputs": [],
   "source": [
    "# Create a variable corresponding to how many movies we scraped, in case we need to\n",
    "# to re launch the scraping while some data is already scraped.\n",
    "number_scraped = 0"
   ]
  },
  {
   "cell_type": "markdown",
   "metadata": {},
   "source": [
    "We have all we need to scrap ! Let's do it :"
   ]
  },
  {
   "cell_type": "code",
   "execution_count": null,
   "metadata": {},
   "outputs": [],
   "source": [
    "# TO RUN ONLY IF DATES_SCRAPED ALREADY EXITS\n",
    "# If we need to continue to scrap on a file we've already started to scrap to.\n",
    "dates_merged = pd.read_csv('dates_scraped.csv', sep=',')"
   ]
  },
  {
   "cell_type": "code",
   "execution_count": 11,
   "metadata": {},
   "outputs": [
    {
     "ename": "NameError",
     "evalue": "name 'dates_merged' is not defined",
     "output_type": "error",
     "traceback": [
      "\u001b[0;31m---------------------------------------------------------------------------\u001b[0m",
      "\u001b[0;31mNameError\u001b[0m                                 Traceback (most recent call last)",
      "Cell \u001b[0;32mIn[11], line 1\u001b[0m\n\u001b[0;32m----> 1\u001b[0m \u001b[38;5;28;01mfor\u001b[39;00m idx, row \u001b[38;5;129;01min\u001b[39;00m dates_merged\u001b[38;5;241m.\u001b[39miloc[number_scraped:]\u001b[38;5;241m.\u001b[39miterrows():\n\u001b[1;32m      2\u001b[0m     w_id \u001b[38;5;241m=\u001b[39m row\u001b[38;5;241m.\u001b[39mwikipedia_ID\n\u001b[1;32m      3\u001b[0m     year, month \u001b[38;5;241m=\u001b[39m format_date_numeric(get_release_date(wikidata_from_wikipedia_id(w_id)[\u001b[38;5;241m1\u001b[39m]))\n",
      "\u001b[0;31mNameError\u001b[0m: name 'dates_merged' is not defined"
     ]
    }
   ],
   "source": [
    "for idx, row in dates_merged.iloc[number_scraped:].iterrows():\n",
    "    w_id = row.wikipedia_ID\n",
    "    year, month = format_date_numeric(get_release_date(wikidata_from_wikipedia_id(w_id)[1]))\n",
    "    dates_merged.loc[idx, 'release_year_y'] = year\n",
    "    dates_merged.loc[idx, 'release_month_y'] = month\n",
    "\n",
    "    # save the file with the new scraped dates\n",
    "    dates_merged.to_csv('dates_scraped.csv', index=False)\n",
    "    number_scraped += 1"
   ]
  },
  {
   "cell_type": "code",
   "execution_count": null,
   "metadata": {},
   "outputs": [],
   "source": []
  }
 ],
 "metadata": {
  "kernelspec": {
   "display_name": "ada",
   "language": "python",
   "name": "python3"
  },
  "language_info": {
   "codemirror_mode": {
    "name": "ipython",
    "version": 3
   },
   "file_extension": ".py",
   "mimetype": "text/x-python",
   "name": "python",
   "nbconvert_exporter": "python",
   "pygments_lexer": "ipython3",
   "version": "3.11.9"
  }
 },
 "nbformat": 4,
 "nbformat_minor": 4
}
